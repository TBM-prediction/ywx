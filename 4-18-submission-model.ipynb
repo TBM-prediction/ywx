{
 "cells": [
  {
   "cell_type": "code",
   "execution_count": null,
   "metadata": {},
   "outputs": [],
   "source": [
    "%matplotlib inline\n",
    "%reload_ext autoreload\n",
    "%autoreload 2\n",
    "\n",
    "from config import *"
   ]
  },
  {
   "cell_type": "code",
   "execution_count": null,
   "metadata": {},
   "outputs": [],
   "source": [
    "# context = Context('amended-1-no_noise', debug=0, dep_var=dep_var2, mulr=0, load_data=False)\n",
    "# context = Context('amended-3-7', debug=0, dep_var=dep_var2, mulr=7, load_data=False)\n",
    "context = Context('amended-3-7', debug=1, dep_var=dep_var2, mulr=7, load_data=False)"
   ]
  },
  {
   "cell_type": "markdown",
   "metadata": {},
   "source": [
    "# data"
   ]
  },
  {
   "cell_type": "code",
   "execution_count": null,
   "metadata": {},
   "outputs": [],
   "source": [
    "# list existing data files\n",
    "print('Existing data files:', [o.stem for o in Path(context.fn_feather).parent.glob('*.feather')])\n",
    "\n",
    "fmtr = DataFormatter(context, cycle_feathers=context.fn_cycles)\n",
    "cycles = fmtr.cycles # shorten notation\n",
    "# fmtr.drop_redundent_columns() # already done for cycles\n",
    "idx = fmtr.beginning_index()"
   ]
  },
  {
   "cell_type": "markdown",
   "metadata": {},
   "source": [
    "target data format: `[flattened matrix: 30x150, extra cont: 1x2, extra cat: n]`\n",
    "\n",
    "parameters: cat_names\n",
    "\n",
    "Use no cat for now"
   ]
  },
  {
   "cell_type": "code",
   "execution_count": null,
   "metadata": {},
   "outputs": [],
   "source": [
    "extra_x_var = ['桩号'] + dep_var1\n",
    "df_conts, stat_x = fmtr.get_x(normalize=True)\n",
    "extra_x = fmtr.get_extra_x_task2()\n",
    "deps = fmtr.get_y()\n",
    "stat_y = [o.loc[context.dep_var] for o in stat_x]\n",
    "stat_extra_x = [o.loc[extra_x_var] for o in stat_x]\n",
    "train_cont = flatten_and_cat(df_conts, [extra_x, deps], sl=context.sl)"
   ]
  },
  {
   "cell_type": "code",
   "execution_count": null,
   "metadata": {},
   "outputs": [],
   "source": [
    "train_cont.to_feather(context.fn_feather)\n",
    "np.savez_compressed(context.fn_np, idx=idx, stat_x=stat_x, stat_y=stat_y, stat_extra_x=stat_extra_x)\n",
    "context.fn_feather"
   ]
  },
  {
   "cell_type": "code",
   "execution_count": null,
   "metadata": {},
   "outputs": [],
   "source": [
    "# context = Context('amended-1-no_noise', debug=0, dep_var=dep_var2, mulr=1, gpu_start=9)\n",
    "context = Context('amended-3-7', debug=0, dep_var=dep_var2, mulr=7, gpu_start=9)\n",
    "databunch = MultiDeptTabularDataBunch.from_df('tmp', context.cyc_cont, context.dep_var, valid_idx=context.valid_idx_tile, bs=context.bs)"
   ]
  },
  {
   "cell_type": "code",
   "execution_count": null,
   "metadata": {},
   "outputs": [],
   "source": [
    "x, y = ni(databunch.train_dl)\n",
    "[o.shape for o in x], y.shape, torch.isnan(x[1]).sum()"
   ]
  },
  {
   "cell_type": "markdown",
   "metadata": {},
   "source": [
    "# model"
   ]
  },
  {
   "cell_type": "code",
   "execution_count": null,
   "metadata": {},
   "outputs": [],
   "source": [
    "hyper_params = {\n",
    "    'use_extra_x': 1,\n",
    "    'n_hidden': 400,\n",
    "    'n_layers': 3,\n",
    "    'hidden_p': 0.3,\n",
    "    'input_p' : 0.4,\n",
    "    'weight_p': 0.5,\n",
    "    'drops': [0.4] * 4,\n",
    "    'alpha': 2.,\n",
    "    'beta': 1.,\n",
    "    'clip': 0.5,\n",
    "    'loss_func': MSELossFlat()\n",
    "}\n",
    "\n",
    "hyper_params['layers'] = [3*(context.n_cont) + int(hyper_params['use_extra_x']) * 3, 5*context.n_cont, 5, len(context.dep_var)]"
   ]
  },
  {
   "cell_type": "code",
   "execution_count": null,
   "metadata": {},
   "outputs": [],
   "source": [
    "learner = get_new_model(context, databunch, hyper_params)"
   ]
  },
  {
   "cell_type": "code",
   "execution_count": null,
   "metadata": {},
   "outputs": [],
   "source": [
    "learner.lr_find()\n",
    "\n",
    "learner.recorder.plot()"
   ]
  },
  {
   "cell_type": "code",
   "execution_count": null,
   "metadata": {},
   "outputs": [],
   "source": [
    "learner.fit(20, lr=1e-1)"
   ]
  },
  {
   "cell_type": "code",
   "execution_count": null,
   "metadata": {},
   "outputs": [],
   "source": [
    "learner.fit(20, lr=1e-1)"
   ]
  },
  {
   "cell_type": "code",
   "execution_count": null,
   "metadata": {},
   "outputs": [],
   "source": [
    "lr = 1e-2\n",
    "time_str = time.strftime(\"%Y-%m-%d_%H:%M:%S\")\n",
    "save_name = '_'.join([str(hyper_params['n_hidden']),context.exp_name,time_str])\n",
    "callbacks = [SaveModelCallback(learner, name=save_name , every='improvement', monitor='MAPD', mode='min')]\n",
    "learner.fit(20, lr, callbacks=callbacks)\n",
    "learner.recorder.plot_metrics()"
   ]
  },
  {
   "cell_type": "code",
   "execution_count": null,
   "metadata": {},
   "outputs": [],
   "source": [
    "lr = 1e-2\n",
    "time_str = time.strftime(\"%Y-%m-%d_%H:%M:%S\")\n",
    "save_name = '_'.join([str(hyper_params['n_hidden']),context.exp_name,time_str])\n",
    "callbacks = [SaveModelCallback(learner, name=save_name , every='improvement', monitor='MAPD', mode='min')]\n",
    "learner.fit(20, lr, callbacks=callbacks)\n",
    "learner.recorder.plot_metrics()"
   ]
  },
  {
   "cell_type": "code",
   "execution_count": null,
   "metadata": {},
   "outputs": [],
   "source": []
  },
  {
   "cell_type": "code",
   "execution_count": null,
   "metadata": {},
   "outputs": [],
   "source": []
  },
  {
   "cell_type": "code",
   "execution_count": null,
   "metadata": {},
   "outputs": [],
   "source": []
  },
  {
   "cell_type": "code",
   "execution_count": null,
   "metadata": {},
   "outputs": [],
   "source": []
  }
 ],
 "metadata": {
  "kernelspec": {
   "display_name": "Python 3",
   "language": "python",
   "name": "python3"
  },
  "language_info": {
   "codemirror_mode": {
    "name": "ipython",
    "version": 3
   },
   "file_extension": ".py",
   "mimetype": "text/x-python",
   "name": "python",
   "nbconvert_exporter": "python",
   "pygments_lexer": "ipython3",
   "version": "3.7.3"
  }
 },
 "nbformat": 4,
 "nbformat_minor": 2
}
