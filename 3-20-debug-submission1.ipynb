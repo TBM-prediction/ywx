{
 "cells": [
  {
   "cell_type": "code",
   "execution_count": null,
   "metadata": {},
   "outputs": [],
   "source": [
    "%matplotlib inline\n",
    "%reload_ext autoreload\n",
    "%autoreload 2\n",
    "\n",
    "from config import *"
   ]
  },
  {
   "cell_type": "code",
   "execution_count": null,
   "metadata": {},
   "outputs": [],
   "source": [
    "test1_fns = sorted(Path('tbmData/test/附件1：必选课题一测试数据集').glob('*.mat'))\n",
    "column_names = pd.read_csv('tbmData/data/CREC188_20160809.txt', delimiter='\\t', nrows=1).columns # get column names from training data"
   ]
  },
  {
   "cell_type": "code",
   "execution_count": null,
   "metadata": {},
   "outputs": [],
   "source": [
    "column_names[125:135]"
   ]
  },
  {
   "cell_type": "code",
   "execution_count": null,
   "metadata": {},
   "outputs": [],
   "source": [
    "column_names.tolist()"
   ]
  },
  {
   "cell_type": "raw",
   "metadata": {},
   "source": [
    "Removed columns summary\n",
    "\n",
    "cleanup: valid_columns = [o for o in self.df_raw.columns if o not in ('EP2次数设置', '刀盘喷水增压泵压力')]\n",
    "drop_redundent_columns: '运行时间', ['污水箱压力检测', '减速机6#温度', '主驱动2#电机输出频率', '主驱动2#电机电流', '主驱动5#电机输出功率', '变频柜回水温度报警值', '减速机4#温度', '主驱动6#电机扭矩', '刀盘转速电位器设定值', '推进速度.1', '主驱动8#电机扭矩', '主驱动7#电机输出频率', '刀盘给定转速显示值', '推进给定速度百分比', '二次风机频率设置', '主驱动5#电机电流', '减速机3#温度', '主驱动7#电机输出功率', '主驱动7#电机扭矩', '减速机2#温度', '右推进油缸行程检测', '减速机9#温度', '主驱动5#电机扭矩', '主驱动3#电机扭矩', '主驱动2#电机输出功率', '时间戳', '减速机7#温度', '主驱动6#电机输出频率', '主驱动3#电机输出功率', '主驱动2#电机扭矩', '推进压力', '主驱动8#电机输出频率', '减速机8#温度', '减速机5#温度', '主驱动8#电机电流', '主驱动3#电机输出频率', '主驱动7#电机电流', '刀盘运行时间', '主驱动5#电机输出频率', '主驱动6#电机输出功率', '拖车尾部CH4浓度', '主驱动8#电机输出功率']\n",
    "\n",
    "\n"
   ]
  },
  {
   "cell_type": "code",
   "execution_count": null,
   "metadata": {},
   "outputs": [],
   "source": [
    "context = Context('save-after-removing-redundent-columns', fn_cycles='tbmData/test/test1_feathers', debug=0, mulr=1, load_data=False)\n",
    "fmtr = DataFormatter(context, cycle_feathers=context.fn_cycles)"
   ]
  },
  {
   "cell_type": "code",
   "execution_count": null,
   "metadata": {},
   "outputs": [],
   "source": []
  },
  {
   "cell_type": "code",
   "execution_count": null,
   "metadata": {},
   "outputs": [],
   "source": []
  },
  {
   "cell_type": "code",
   "execution_count": null,
   "metadata": {},
   "outputs": [],
   "source": []
  },
  {
   "cell_type": "code",
   "execution_count": null,
   "metadata": {},
   "outputs": [],
   "source": [
    "test_input = scipy.io.loadmat(mat_fn)['a']\n",
    "test_df = pd.DataFrame(test_input[:,:-1], columns=columns[2:])"
   ]
  }
 ],
 "metadata": {
  "kernelspec": {
   "display_name": "Python 3",
   "language": "python",
   "name": "python3"
  },
  "language_info": {
   "codemirror_mode": {
    "name": "ipython",
    "version": 3
   },
   "file_extension": ".py",
   "mimetype": "text/x-python",
   "name": "python",
   "nbconvert_exporter": "python",
   "pygments_lexer": "ipython3",
   "version": "3.7.2"
  }
 },
 "nbformat": 4,
 "nbformat_minor": 2
}
