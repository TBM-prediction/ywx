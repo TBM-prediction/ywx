{
 "cells": [
  {
   "cell_type": "code",
   "execution_count": null,
   "metadata": {},
   "outputs": [],
   "source": [
    "%matplotlib inline\n",
    "%reload_ext autoreload\n",
    "%autoreload 2\n",
    "\n",
    "from config import *\n",
    "import scipy.io\n",
    "relevent_columns = dep_var1 + dep_var2 + ['刀盘功率']"
   ]
  },
  {
   "cell_type": "code",
   "execution_count": null,
   "metadata": {},
   "outputs": [],
   "source": [
    "# I'm so fucked writing this\n",
    "test1_fns = sorted(Path('tbmData/test/附件1：必选课题一测试数据集').glob('*.mat'))\n",
    "column_names = pd.read_csv('tbmData/data/CREC188_20160809.txt', delimiter='\\t', nrows=1).columns # get column names from training data"
   ]
  },
  {
   "cell_type": "code",
   "execution_count": null,
   "metadata": {},
   "outputs": [],
   "source": [
    "test1_fns"
   ]
  },
  {
   "cell_type": "markdown",
   "metadata": {},
   "source": [
    "# Save test data as feathers"
   ]
  },
  {
   "cell_type": "markdown",
   "metadata": {},
   "source": [
    "Assert the last column of test data is all zero"
   ]
  },
  {
   "cell_type": "code",
   "execution_count": null,
   "metadata": {},
   "outputs": [],
   "source": [
    "def read_test_mat_as_df(mat_fn, columns):\n",
    "    test_input = scipy.io.loadmat(mat_fn)['a']\n",
    "    test_df = pd.DataFrame(test_input[:,:-1], columns=columns[2:])\n",
    "    return test_df\n",
    "\n",
    "save_dir = Path('tbmData/test/test1_feathers')\n",
    "for mat_fn in test1_fns:\n",
    "    df = read_test_mat_as_df(mat_fn, column_names)\n",
    "    save_feather_fn = save_dir/(mat_fn.stem + '.feather')\n",
    "    df.to_feather(str(save_feather_fn))\n",
    "\n",
    "context = Context('save-after-removing-redundent-columns', fn_cycles='tbmData/test/test1_feathers', debug=0, mulr=1, load_data=False)\n",
    "fmtr = DataFormatter(context, cycle_feathers=context.fn_cycles)\n",
    "cycles = fmtr.cycles"
   ]
  },
  {
   "cell_type": "code",
   "execution_count": null,
   "metadata": {},
   "outputs": [],
   "source": [
    "cycle_dir = Path('plots/test_segments')\n",
    "cycle_dir.mkdir(exist_ok=True)\n",
    "def plot_cycle(i,full=False):\n",
    "    cycle_str = 'cycle_' + str(i)\n",
    "    axs = plots(cycles.loc[i,relevent_columns].iloc[:None if full else 400], cols=5, title=cycle_str, unit_figsize=(7, 3)).flatten()\n",
    "#     for ax in axs: \n",
    "#         ax.axvline(context.idx[i])\n",
    "#         ax.axvline(context.idx[i]+30)\n",
    "    fig = plt.gcf()\n",
    "    fig.savefig(str(cycle_dir/cycle_str), dpi=96)\n",
    "    plt.close(fig)"
   ]
  },
  {
   "cell_type": "code",
   "execution_count": null,
   "metadata": {},
   "outputs": [],
   "source": [
    "with ProcessPoolExecutor() as e:\n",
    "    e.map(plot_cycle, cycles.index.levels[0])"
   ]
  },
  {
   "cell_type": "code",
   "execution_count": null,
   "metadata": {},
   "outputs": [],
   "source": [
    "list(map(plot_cycle, cycles.index.levels[0]))"
   ]
  },
  {
   "cell_type": "markdown",
   "metadata": {},
   "source": [
    "determine the correctness of segmentation by checking mean and std"
   ]
  },
  {
   "cell_type": "code",
   "execution_count": null,
   "metadata": {},
   "outputs": [],
   "source": [
    "c_test = cycles.loc[:,relevent_columns]\n",
    "\n",
    "c_test_starts = [c_test.loc[i].iloc[0] for i in cycles.index.levels[0]]\n",
    "\n",
    "c_test_starts = pd.DataFrame(c_test_starts).reset_index(drop=True)"
   ]
  },
  {
   "cell_type": "code",
   "execution_count": null,
   "metadata": {},
   "outputs": [],
   "source": [
    "c_test = cycles.loc[:,relevent_columns]\n",
    "\n",
    "c_test_ends = [c_test.loc[i].iloc[-1] for i in cycles.index.levels[0]]\n",
    "\n",
    "c_test_ends = pd.DataFrame(c_test_ends).reset_index(drop=True)"
   ]
  },
  {
   "cell_type": "markdown",
   "metadata": {},
   "source": [
    "# ours"
   ]
  },
  {
   "cell_type": "code",
   "execution_count": null,
   "metadata": {},
   "outputs": [],
   "source": [
    "# without noise\n",
    "context = Context('removed_redundent1-full-30-no_noise', debug=0, mulr=0, load_data=False)\n",
    "fmtr = DataFormatter(context, cycle_feathers=context.fn_cycles)"
   ]
  },
  {
   "cell_type": "code",
   "execution_count": null,
   "metadata": {},
   "outputs": [],
   "source": [
    "fmtr.cycles."
   ]
  },
  {
   "cell_type": "code",
   "execution_count": null,
   "metadata": {},
   "outputs": [],
   "source": [
    "cycles = fmtr.cycles\n",
    "idx = fmtr.beginning_index(thresh=700)\n",
    "\n",
    "c_train = cycles.loc[:,relevent_columns]\n",
    "c_train_starts = [c_train.loc[i].iloc[j] for i, j in zip(cycles.index.levels[0], idx)]\n",
    "c_train_starts = pd.DataFrame(c_train_starts).reset_index(drop=True)"
   ]
  },
  {
   "cell_type": "code",
   "execution_count": null,
   "metadata": {},
   "outputs": [],
   "source": [
    "display_all(c_test_starts.mean(0))\n",
    "display_all(c_train_starts.mean(0))"
   ]
  },
  {
   "cell_type": "code",
   "execution_count": null,
   "metadata": {},
   "outputs": [],
   "source": [
    "display_all(c_train_starts.mean(0))"
   ]
  },
  {
   "cell_type": "code",
   "execution_count": null,
   "metadata": {},
   "outputs": [],
   "source": [
    "display_all(c_test_starts.std(0))\n",
    "display_all(c_train_starts.std(0))"
   ]
  },
  {
   "cell_type": "code",
   "execution_count": null,
   "metadata": {},
   "outputs": [],
   "source": [
    "display_all(c_train_starts.std(0))"
   ]
  },
  {
   "cell_type": "code",
   "execution_count": null,
   "metadata": {},
   "outputs": [],
   "source": [
    "for i in range(4):\n",
    "    plt.figure(figsize=(20,5))\n",
    "    ax = sns.distplot(c_train_starts.iloc[:,i])\n",
    "    set_ax_font(ax)"
   ]
  },
  {
   "cell_type": "code",
   "execution_count": null,
   "metadata": {},
   "outputs": [],
   "source": [
    "for i in range(4):\n",
    "    plt.figure(figsize=(20,5))\n",
    "    ax = sns.distplot(c_test_starts.iloc[:,i])\n",
    "    set_ax_font(ax)"
   ]
  },
  {
   "cell_type": "code",
   "execution_count": null,
   "metadata": {},
   "outputs": [],
   "source": [
    "display_all(c_test_ends.mean(0))\n",
    "display_all(c_train_ends.mean(0))"
   ]
  },
  {
   "cell_type": "code",
   "execution_count": null,
   "metadata": {},
   "outputs": [],
   "source": [
    "display_all(c_test_ends.std(0))\n",
    "display_all(c_train_ends.std(0))"
   ]
  },
  {
   "cell_type": "code",
   "execution_count": null,
   "metadata": {},
   "outputs": [],
   "source": []
  },
  {
   "cell_type": "code",
   "execution_count": null,
   "metadata": {},
   "outputs": [],
   "source": [
    "c_train = cycles.loc[:,relevent_columns]\n",
    "\n",
    "c_train_ends = [c_train.loc[i].iloc[-1] for i in cycles.index.levels[0]]\n",
    "\n",
    "c_train_ends = pd.DataFrame(c_train_ends).reset_index(drop=True)"
   ]
  },
  {
   "cell_type": "code",
   "execution_count": null,
   "metadata": {},
   "outputs": [],
   "source": []
  },
  {
   "cell_type": "code",
   "execution_count": null,
   "metadata": {},
   "outputs": [],
   "source": []
  }
 ],
 "metadata": {
  "kernelspec": {
   "display_name": "Python 3",
   "language": "python",
   "name": "python3"
  },
  "language_info": {
   "codemirror_mode": {
    "name": "ipython",
    "version": 3
   },
   "file_extension": ".py",
   "mimetype": "text/x-python",
   "name": "python",
   "nbconvert_exporter": "python",
   "pygments_lexer": "ipython3",
   "version": "3.7.3"
  }
 },
 "nbformat": 4,
 "nbformat_minor": 2
}
