{
 "cells": [
  {
   "cell_type": "code",
   "execution_count": null,
   "metadata": {},
   "outputs": [],
   "source": [
    "%matplotlib inline\n",
    "%reload_ext autoreload\n",
    "%autoreload 2\n",
    "\n",
    "from config import *"
   ]
  },
  {
   "cell_type": "markdown",
   "metadata": {},
   "source": [
    "# data"
   ]
  },
  {
   "cell_type": "code",
   "execution_count": null,
   "metadata": {},
   "outputs": [],
   "source": [
    "# context = Context('amended-1-no_noise', debug=0, dep_var=dep_var2, mulr=1, gpu_start=9)\n",
    "context = Context('amended-3-7', debug=0, dep_var=dep_var2, mulr=7, gpu_start=8)\n",
    "databunch = MultiDeptTabularDataBunch.from_df('tmp', context.cyc_cont, context.dep_var, valid_idx=context.valid_idx_tile, bs=context.bs)"
   ]
  },
  {
   "cell_type": "markdown",
   "metadata": {},
   "source": [
    "# model"
   ]
  },
  {
   "cell_type": "code",
   "execution_count": null,
   "metadata": {},
   "outputs": [],
   "source": [
    "hyper_params = {\n",
    "    'use_extra_x': 1,\n",
    "    'n_hidden': 1000,\n",
    "    'n_layers': 3,\n",
    "    'hidden_p': 0.3,\n",
    "    'input_p' : 0.4,\n",
    "    'weight_p': 0.5,\n",
    "    'drops': [0.4] * 4,\n",
    "    'alpha': 2.,\n",
    "    'beta': 1.,\n",
    "    'clip': 0.5,\n",
    "    'loss_func': MSELossFlat()\n",
    "}\n",
    "\n",
    "hyper_params['layers'] = [3*(context.n_cont) + int(hyper_params['use_extra_x']) * 3, 5*context.n_cont, 5, len(context.dep_var)]\n",
    "learner = get_new_model(context, databunch, hyper_params)"
   ]
  },
  {
   "cell_type": "code",
   "execution_count": null,
   "metadata": {},
   "outputs": [],
   "source": [
    "learner.fit(20, lr=1e-1)"
   ]
  },
  {
   "cell_type": "code",
   "execution_count": null,
   "metadata": {},
   "outputs": [],
   "source": [
    "learner.fit(20, lr=1e-1)"
   ]
  },
  {
   "cell_type": "code",
   "execution_count": null,
   "metadata": {},
   "outputs": [],
   "source": [
    "hyper_params = {\n",
    "    'use_extra_x': 1,\n",
    "    'n_hidden': 1000,\n",
    "    'n_layers': 3,\n",
    "    'hidden_p': 0.3,\n",
    "    'input_p' : 0.4,\n",
    "    'weight_p': 0.5,\n",
    "    'drops': [0.4] * 4,\n",
    "    'alpha': 2.,\n",
    "    'beta': 1.,\n",
    "    'clip': 1,\n",
    "    'loss_func': MSELossFlat()\n",
    "}\n",
    "\n",
    "hyper_params['layers'] = [3*(context.n_cont) + int(hyper_params['use_extra_x']) * 3, len(context.dep_var)]\n",
    "learner = get_new_model(context, databunch, hyper_params)\n",
    "\n",
    "learner.fit(20, lr=1e-1)"
   ]
  },
  {
   "cell_type": "code",
   "execution_count": null,
   "metadata": {},
   "outputs": [],
   "source": [
    "hyper_params = {\n",
    "    'use_extra_x': 1,\n",
    "    'n_hidden': 1000,\n",
    "    'n_layers': 3,\n",
    "    'hidden_p': 0.1,\n",
    "    'input_p' : 0.2,\n",
    "    'weight_p': 0.3,\n",
    "    'drops': [0.2] * 4,\n",
    "    'alpha': 2.,\n",
    "    'beta': 1.,\n",
    "    'clip': 1,\n",
    "    'loss_func': MSELossFlat()\n",
    "}\n",
    "\n",
    "hyper_params['layers'] = [3*(context.n_cont) + int(hyper_params['use_extra_x']) * 3, len(context.dep_var)]\n",
    "learner = get_new_model(context, databunch, hyper_params)\n",
    "\n",
    "learner.fit(20, lr=1e-1)"
   ]
  },
  {
   "cell_type": "code",
   "execution_count": null,
   "metadata": {},
   "outputs": [],
   "source": [
    "hyper_params = {\n",
    "    'use_extra_x': 1,\n",
    "    'n_hidden': 1000,\n",
    "    'n_layers': 3,\n",
    "    'hidden_p': 0.1,\n",
    "    'input_p' : 0.2,\n",
    "    'weight_p': 0.3,\n",
    "    'drops': [0.2] * 4,\n",
    "    'alpha': 1.,\n",
    "    'beta': 0.5,\n",
    "    'clip': 1,\n",
    "    'loss_func': MSELossFlat()\n",
    "}\n",
    "\n",
    "hyper_params['layers'] = [3*(context.n_cont) + int(hyper_params['use_extra_x']) * 3, len(context.dep_var)]\n",
    "learner = get_new_model(context, databunch, hyper_params)\n",
    "\n",
    "learner.fit(20, lr=1e-1)"
   ]
  },
  {
   "cell_type": "code",
   "execution_count": null,
   "metadata": {},
   "outputs": [],
   "source": [
    "hyper_params = {\n",
    "    'use_extra_x': 1,\n",
    "    'n_hidden': 1000,\n",
    "    'n_layers': 3,\n",
    "    'hidden_p': 0.05,\n",
    "    'input_p' : 0.1,\n",
    "    'weight_p': 0.15,\n",
    "    'drops': [0.1] * 4,\n",
    "    'alpha': 0.5,\n",
    "    'beta': 0.25,\n",
    "    'clip': 1,\n",
    "    'loss_func': MSELossFlat()\n",
    "}\n",
    "\n",
    "hyper_params['layers'] = [3*(context.n_cont) + int(hyper_params['use_extra_x']) * 3, len(context.dep_var)]\n",
    "learner = get_new_model(context, databunch, hyper_params)\n",
    "\n",
    "learner.fit(20, lr=1e-1)"
   ]
  },
  {
   "cell_type": "code",
   "execution_count": null,
   "metadata": {},
   "outputs": [],
   "source": [
    "hyper_params = {\n",
    "    'use_extra_x': 1,\n",
    "    'n_hidden': 1000,\n",
    "    'n_layers': 3,\n",
    "    'hidden_p': 0.05,\n",
    "    'input_p' : 0.1,\n",
    "    'weight_p': 0.15,\n",
    "    'drops': [0.1] * 4,\n",
    "    'alpha': 0.5,\n",
    "    'beta': 0.25,\n",
    "    'clip': 1,\n",
    "    'loss_func': MSELossFlat()\n",
    "}\n",
    "\n",
    "hyper_params['layers'] = [3*(context.n_cont) + int(hyper_params['use_extra_x']) * 3, 1000, len(context.dep_var)]\n",
    "learner = get_new_model(context, databunch, hyper_params)\n",
    "\n",
    "learner.fit(20, lr=1e-1)"
   ]
  },
  {
   "cell_type": "code",
   "execution_count": null,
   "metadata": {},
   "outputs": [],
   "source": [
    "hyper_params = {\n",
    "    'use_extra_x': 1,\n",
    "    'n_hidden': 1000,\n",
    "    'n_layers': 3,\n",
    "    'hidden_p': 0,\n",
    "    'input_p' : 0,\n",
    "    'weight_p': 0,\n",
    "    'drops': [0] * 4,\n",
    "    'alpha': 0.,\n",
    "    'beta': 0.,\n",
    "    'clip': 1,\n",
    "    'loss_func': MSELossFlat()\n",
    "}\n",
    "\n",
    "hyper_params['layers'] = [3*(context.n_cont) + int(hyper_params['use_extra_x']) * 3, len(context.dep_var)]\n",
    "learner = get_new_model(context, databunch, hyper_params)\n",
    "\n",
    "learner.fit(20, lr=1e-1)"
   ]
  },
  {
   "cell_type": "markdown",
   "metadata": {},
   "source": [
    "# train best model"
   ]
  },
  {
   "cell_type": "code",
   "execution_count": null,
   "metadata": {},
   "outputs": [],
   "source": [
    "lr = 1e-2\n",
    "time_str = time.strftime(\"%Y-%m-%d_%H:%M:%S\")\n",
    "save_name = '_'.join(['best_lstm', str(hyper_params['n_hidden']),context.exp_name,time_str])\n",
    "callbacks = [SaveModelCallback(learner, name=save_name , every='improvement', monitor='MAPD', mode='min')]\n",
    "learner.fit(20, lr, callbacks=callbacks)\n",
    "learner.recorder.plot_metrics()"
   ]
  },
  {
   "cell_type": "code",
   "execution_count": null,
   "metadata": {},
   "outputs": [],
   "source": [
    "lr = 1e-3\n",
    "time_str = time.strftime(\"%Y-%m-%d_%H:%M:%S\")\n",
    "save_name = '_'.join(['best_lstm', str(hyper_params['n_hidden']),context.exp_name,time_str])\n",
    "callbacks = [SaveModelCallback(learner, name=save_name , every='improvement', monitor='MAPD', mode='min')]\n",
    "learner.fit(20, lr, callbacks=callbacks)\n",
    "learner.recorder.plot_metrics()"
   ]
  },
  {
   "cell_type": "code",
   "execution_count": null,
   "metadata": {},
   "outputs": [],
   "source": []
  }
 ],
 "metadata": {
  "kernelspec": {
   "display_name": "Python 3",
   "language": "python",
   "name": "python3"
  },
  "language_info": {
   "codemirror_mode": {
    "name": "ipython",
    "version": 3
   },
   "file_extension": ".py",
   "mimetype": "text/x-python",
   "name": "python",
   "nbconvert_exporter": "python",
   "pygments_lexer": "ipython3",
   "version": "3.7.3"
  }
 },
 "nbformat": 4,
 "nbformat_minor": 2
}
