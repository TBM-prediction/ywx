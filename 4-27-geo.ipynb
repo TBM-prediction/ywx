{
 "cells": [
  {
   "cell_type": "markdown",
   "metadata": {},
   "source": [
    "# 地质信息"
   ]
  },
  {
   "cell_type": "code",
   "execution_count": null,
   "metadata": {},
   "outputs": [],
   "source": [
    "%matplotlib inline\n",
    "%reload_ext autoreload\n",
    "%autoreload 2\n",
    "\n",
    "# all columns\n",
    "# name scheme: columns-num_cycles-sl\n",
    "from config import *\n",
    "context = Context('validation', gpu_start=6, dep_var=['桩号'], debug=0, mulr=1, load_data=False)\n",
    "from fastai.callbacks.mem import preload_pytorch"
   ]
  },
  {
   "cell_type": "code",
   "execution_count": null,
   "metadata": {},
   "outputs": [],
   "source": [
    "geo_raw = pd.read_csv('/home/wenxiang/datasets/tbm/geo_csv/geo2.1.csv', index_col=0)"
   ]
  },
  {
   "cell_type": "code",
   "execution_count": null,
   "metadata": {},
   "outputs": [],
   "source": [
    "display_all(geo_raw)"
   ]
  },
  {
   "cell_type": "code",
   "execution_count": null,
   "metadata": {},
   "outputs": [],
   "source": [
    "geo_cols = ['起始桩号', '最后桩号', '实际开挖围岩类别', '洞室部位主要岩性']\n",
    "geo = geo_raw.loc[:,geo_cols]"
   ]
  },
  {
   "cell_type": "code",
   "execution_count": null,
   "metadata": {},
   "outputs": [],
   "source": [
    "# clean nan\n",
    "geo = geo.loc[geo.iloc[:,-1].notna()]"
   ]
  },
  {
   "cell_type": "code",
   "execution_count": null,
   "metadata": {},
   "outputs": [],
   "source": [
    "geo.iloc[:,-2].unique(),geo.iloc[:,-1].unique()"
   ]
  },
  {
   "cell_type": "code",
   "execution_count": null,
   "metadata": {},
   "outputs": [],
   "source": [
    "geo.columns"
   ]
  },
  {
   "cell_type": "markdown",
   "metadata": {},
   "source": [
    "# generate training data with these"
   ]
  },
  {
   "cell_type": "code",
   "execution_count": null,
   "metadata": {},
   "outputs": [],
   "source": [
    "context = Context('amended-3-7', debug=0, dep_var=dep_var2, mulr=7, gpu_start=9)"
   ]
  },
  {
   "cell_type": "code",
   "execution_count": null,
   "metadata": {},
   "outputs": [],
   "source": [
    "zh = context.cyc_cont.iloc[:,-5]"
   ]
  },
  {
   "cell_type": "code",
   "execution_count": null,
   "metadata": {},
   "outputs": [],
   "source": [
    "cat_names = geo.columns.tolist()"
   ]
  },
  {
   "cell_type": "code",
   "execution_count": null,
   "metadata": {},
   "outputs": [],
   "source": [
    "idx_dep_var3 = []\n",
    "missing_idx = -1 #geo.shape[0] # last item + 1\n",
    "for z in list(zh):\n",
    "    is_within = ((z - geo.iloc[:,0]) * (z - geo.iloc[:,1])) < 0\n",
    "    if is_within.any():\n",
    "        idx_dep_var3.append(np.argmax(is_within.values))\n",
    "    else:\n",
    "        idx_dep_var3.append(missing_idx)"
   ]
  },
  {
   "cell_type": "code",
   "execution_count": null,
   "metadata": {},
   "outputs": [],
   "source": [
    "idx_dep_var3[:10]"
   ]
  },
  {
   "cell_type": "code",
   "execution_count": null,
   "metadata": {},
   "outputs": [],
   "source": [
    "# append a default entry\n",
    "# geo.iloc[-1,2:].tolist()"
   ]
  },
  {
   "cell_type": "code",
   "execution_count": null,
   "metadata": {},
   "outputs": [],
   "source": [
    "dep_var3 = []\n",
    "for i in idx_dep_var3:\n",
    "    dep_var3.append(geo.iloc[i,2:].tolist() if i != -1 else ['oor', 'oor'])"
   ]
  },
  {
   "cell_type": "code",
   "execution_count": null,
   "metadata": {},
   "outputs": [],
   "source": [
    "cycles = pd.concat([context.cyc_cont, pd.DataFrame(dep_var3, columns=['围岩等级', '岩性'])], axis=1)"
   ]
  },
  {
   "cell_type": "code",
   "execution_count": null,
   "metadata": {},
   "outputs": [],
   "source": [
    "# simplify\n",
    "cat_1 = cycles.loc[:,cat_names[0]]\n",
    "III_idx = np.logical_or(cat_1 == 'Ⅲa', cat_1 == 'Ⅲb')\n",
    "cat_1.loc[III_idx] = 'Ⅲ'\n",
    "\n",
    "IV_idx = np.logical_or(cat_1 == 'Ⅳ好', cat_1 == 'Ⅳ差')\n",
    "cat_1.loc[IV_idx] = 'Ⅳ'"
   ]
  },
  {
   "cell_type": "code",
   "execution_count": null,
   "metadata": {},
   "outputs": [],
   "source": [
    "cat_names = cycles.columns[-2:]\n",
    "cont_names = cycles.columns[:-2]"
   ]
  },
  {
   "cell_type": "code",
   "execution_count": null,
   "metadata": {},
   "outputs": [],
   "source": [
    "cf = Categorify(cat_names, cont_names)\n",
    "cf.apply_train(cycles)"
   ]
  },
  {
   "cell_type": "code",
   "execution_count": null,
   "metadata": {},
   "outputs": [],
   "source": [
    "cycles.iloc[:,-2].cat.codes.unique(), cycles.iloc[:,-1].cat.codes.unique()"
   ]
  },
  {
   "cell_type": "code",
   "execution_count": null,
   "metadata": {},
   "outputs": [],
   "source": []
  }
 ],
 "metadata": {
  "kernelspec": {
   "display_name": "Python 3",
   "language": "python",
   "name": "python3"
  },
  "language_info": {
   "codemirror_mode": {
    "name": "ipython",
    "version": 3
   },
   "file_extension": ".py",
   "mimetype": "text/x-python",
   "name": "python",
   "nbconvert_exporter": "python",
   "pygments_lexer": "ipython3",
   "version": "3.7.3"
  }
 },
 "nbformat": 4,
 "nbformat_minor": 2
}
