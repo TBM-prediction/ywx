{
 "cells": [
  {
   "cell_type": "code",
   "execution_count": null,
   "metadata": {},
   "outputs": [],
   "source": [
    "# import comet_ml in the top of your file\n",
    "from comet_ml import Experiment\n",
    "# Add the following code anywhere in your machine learning file\n",
    "experiment = Experiment(api_key=\"Go4XzK6f4G10W9jFaWiHg6JP2\",\n",
    "                        project_name=\"tbm\", workspace=\"twofyw\")\n",
    "record = True"
   ]
  },
  {
   "cell_type": "code",
   "execution_count": null,
   "metadata": {},
   "outputs": [],
   "source": [
    "%matplotlib inline\n",
    "%reload_ext autoreload\n",
    "%autoreload 2\n",
    "\n",
    "from config import *\n",
    "config = Config('rnn-normalized-full-30-s-0-1', debug=False, sl=30, cont_names=Config.all_columns(), postpond=0, fn_feather='tbmData/feather/all_columns-full-30-s-0.feather')\n",
    "\n",
    "torch.cuda.set_device(config.gpu_start); torch.ones((1, 1)).cuda(); # wakeup gpu\n",
    "\n",
    "# load data\n",
    "cyc_cont = pd.read_feather(config.fn_feather)\n",
    "npz = np.load(config.fn_np)\n",
    "idx, stat_x, stat_y = npz['idx'], npz['stat_x'], npz['stat_y']\n",
    "\n",
    "rnndb = MultiDeptTabularDataBunch.from_df('tmp', cyc_cont, config.dep_var, valid_idx=config.valid_idx_tile, bs=config.bs, num_workers=0)\n",
    "\n",
    "record = False"
   ]
  },
  {
   "cell_type": "code",
   "execution_count": null,
   "metadata": {
    "code_folding": []
   },
   "outputs": [],
   "source": [
    "hyper_params = {\n",
    "    'n_hidden': 100,\n",
    "    'n_layers': 3,\n",
    "    'hidden_p': 0.3,\n",
    "    'input_p': 0.6,\n",
    "    'weight_p': 0.5,\n",
    "    'layers': [3*config.n_cont, 5, 2],\n",
    "    'drops': [0.2] * 3,\n",
    "    'alpha': 2.,\n",
    "    'beta': 1.,\n",
    "    'clip': 0.5,\n",
    "#     'loss_func' = MSELossFlat()\n",
    "    'loss_func': l1\n",
    "}\n",
    "if record:\n",
    "    experiment.log_parameters(hyper_params)\n",
    "\n",
    "rnn_enc = ContModel1(1, config.n_cont, hyper_params['n_hidden'], hyper_params['n_layers'], sl=config.sl,\n",
    "                     hidden_p=hyper_params['hidden_p'], input_p=hyper_params['input_p'], embed_p=0, weight_p=hyper_params['weight_p'])\n",
    "\n",
    "model = MultiInputSequentialRNN(rnn_enc, PoolingLinearClassifier(hyper_params['layers'], hyper_params['drops'])).cuda()\n",
    "\n",
    "\n",
    "metrics = MAPD(stat_y)\n",
    "learner = Learner(rnndb, model, loss_func=hyper_params['loss_func'], metrics=metrics, opt_func=optim.SGD, )\n",
    "\n",
    "from fastai.callbacks import *\n",
    "# learner.callback_fns += [ShowGraph, partial(SaveModelCallback, name='rnn0')]\n",
    "learner.callback_fns += [ShowGraph,]\n",
    "learner.callbacks += [TerminateOnNaNCallback()]\n",
    "learner.callbacks.append(RNNTrainer(learner, config.sl, alpha=hyper_params['alpha'], beta=hyper_params['beta']))\n",
    "\n",
    "learner.callback_fns.append(partial(GradientClipping, clip=hyper_params['clip']))\n",
    "learner.split(rnn_classifier_split)"
   ]
  },
  {
   "cell_type": "code",
   "execution_count": null,
   "metadata": {},
   "outputs": [],
   "source": [
    "learner.unfreeze()\n",
    "learner.lr_find(num_it=100)\n",
    "learner.recorder.plot(1,1)"
   ]
  },
  {
   "cell_type": "code",
   "execution_count": null,
   "metadata": {},
   "outputs": [],
   "source": [
    "with experiment.train():\n",
    "    lr = 1e-1\n",
    "    learner.fit_one_cycle(100, lr)"
   ]
  },
  {
   "cell_type": "code",
   "execution_count": null,
   "metadata": {},
   "outputs": [],
   "source": [
    "# with experiment.train():\n",
    "lr = 1e-1\n",
    "learner.fit_one_cycle(100, lr)"
   ]
  },
  {
   "cell_type": "code",
   "execution_count": null,
   "metadata": {},
   "outputs": [],
   "source": [
    "# with experiment.train():\n",
    "lr = 1e-2\n",
    "learner.fit_one_cycle(100, lr)"
   ]
  },
  {
   "cell_type": "code",
   "execution_count": null,
   "metadata": {},
   "outputs": [],
   "source": [
    "# with experiment.train():\n",
    "lr = 1e-1\n",
    "learner.fit_one_cycle(100, lr)"
   ]
  },
  {
   "cell_type": "code",
   "execution_count": null,
   "metadata": {},
   "outputs": [],
   "source": [
    "with experiment.train():\n",
    "    lr = 1e-1\n",
    "    learner.fit_one_cycle(100, lr)"
   ]
  },
  {
   "cell_type": "code",
   "execution_count": null,
   "metadata": {},
   "outputs": [],
   "source": [
    "experiment.end()"
   ]
  },
  {
   "cell_type": "code",
   "execution_count": null,
   "metadata": {},
   "outputs": [],
   "source": [
    "learner.model.eval();"
   ]
  },
  {
   "cell_type": "code",
   "execution_count": null,
   "metadata": {},
   "outputs": [],
   "source": [
    "apply_leaf(learner.model, lambda m: m.train() if m.__module__.endswith('rnn') else None)\n",
    "# learner.model = learner.model.train()"
   ]
  },
  {
   "cell_type": "code",
   "execution_count": null,
   "metadata": {},
   "outputs": [],
   "source": [
    "# it = iter(learner.data.fix_dl)\n",
    "# it = iter(learner.data.train_dl)\n",
    "it = iter(learner.data.valid_dl)"
   ]
  },
  {
   "cell_type": "code",
   "execution_count": null,
   "metadata": {},
   "outputs": [],
   "source": [
    "# x, y = ni(learner.data.train_dl)\n",
    "# x, y = ni(learner.data.valid_dl)\n",
    "x, y = next(it)\n",
    "x[1] = x[1].requires_grad_()\n",
    "learner.model.reset()\n",
    "# y, p = y.cpu(), learner.model(*x)[0].exp().cpu()\n",
    "y, p = y.cpu(), learner.model(*x)[0].cpu()\n",
    "# y[:,0], p[:,0] = 1,1\n",
    "y_np, p_np = to_np(y), to_np(p)\n",
    "y_denormed, p_denormed = denormalize(y_np, *stat_y), denormalize(p_np, *stat_y)\n",
    "\n",
    "mapd_denorm = MAPD(stat_y)\n",
    "l_np = mapd_denorm(p_denormed, y_denormed); l_np\n",
    "# l = mapd(p, y); l\n",
    "# experiment.log_metric('denormed_mapd', )"
   ]
  },
  {
   "cell_type": "code",
   "execution_count": null,
   "metadata": {},
   "outputs": [],
   "source": [
    "experiment.log_metric('mapd', l_np)"
   ]
  },
  {
   "cell_type": "code",
   "execution_count": null,
   "metadata": {},
   "outputs": [],
   "source": [
    "??learner.pred_batch"
   ]
  },
  {
   "cell_type": "code",
   "execution_count": null,
   "metadata": {},
   "outputs": [],
   "source": [
    "learner.save(config.exp_name)"
   ]
  },
  {
   "cell_type": "code",
   "execution_count": null,
   "metadata": {},
   "outputs": [],
   "source": [
    "i = 0\n",
    "plt.scatter(y_denormed[:,i], p_denormed[:,i]);"
   ]
  },
  {
   "cell_type": "code",
   "execution_count": null,
   "metadata": {},
   "outputs": [],
   "source": [
    "i = 1\n",
    "plt.scatter(y_denormed[:,i], p_denormed[:,i]);"
   ]
  },
  {
   "cell_type": "markdown",
   "metadata": {},
   "source": [
    "### Feature importance"
   ]
  },
  {
   "cell_type": "code",
   "execution_count": null,
   "metadata": {},
   "outputs": [],
   "source": [
    "d = torch.autograd.grad(l, x[1], retain_graph=True)[0].mean(0)\n",
    "d_np = np.abs(to_np(d))"
   ]
  },
  {
   "cell_type": "markdown",
   "metadata": {},
   "source": [
    "Last time step"
   ]
  },
  {
   "cell_type": "code",
   "execution_count": null,
   "metadata": {},
   "outputs": [],
   "source": [
    "# last timestep\n",
    "i, c, t = 0, 1, 29\n",
    "d_reshape = d[t*config.n_cont:(t+1)*config.n_cont]\n",
    "argsort = d_reshape.argsort()"
   ]
  },
  {
   "cell_type": "code",
   "execution_count": null,
   "metadata": {},
   "outputs": [],
   "source": [
    "np.array(config.cont_names)[argsort]"
   ]
  },
  {
   "cell_type": "markdown",
   "metadata": {},
   "source": [
    "All time steps"
   ]
  },
  {
   "cell_type": "code",
   "execution_count": null,
   "metadata": {},
   "outputs": [],
   "source": [
    "d_reshape = d_np.reshape(config.sl, config.n_cont).mean(0)\n",
    "argsort = d_reshape.argsort()[::-1]\n",
    "list(zip(np.array(config.cont_names)[argsort], d_reshape[argsort]))"
   ]
  },
  {
   "cell_type": "markdown",
   "metadata": {},
   "source": [
    "Plot the most important columns"
   ]
  },
  {
   "cell_type": "markdown",
   "metadata": {},
   "source": [
    "### X check"
   ]
  },
  {
   "cell_type": "code",
   "execution_count": null,
   "metadata": {},
   "outputs": [],
   "source": [
    "s = 2\n",
    "x_np = to_np(x[1][s*config.mulr]).reshape(config.sl, config.n_cont)\n",
    "x_np.shape\n",
    "for feat in range_of(x_np[0]):\n",
    "#     plt.figure()\n",
    "    ax = plt.plot(x_np[:,feat])\n",
    "#     legend = plt.legend(config.cont_names[feat])\n",
    "#     set_font(legend.texts)"
   ]
  },
  {
   "cell_type": "code",
   "execution_count": null,
   "metadata": {},
   "outputs": [],
   "source": [
    "ax = cycles.loc[s,config.cont_names].iloc[idx[s]:idx[s]+config.sl].plot()\n",
    "set_font(ax.legend().texts)"
   ]
  },
  {
   "cell_type": "code",
   "execution_count": null,
   "metadata": {},
   "outputs": [],
   "source": []
  },
  {
   "cell_type": "code",
   "execution_count": null,
   "metadata": {},
   "outputs": [],
   "source": [
    "# last timestep\n",
    "i, c, t = 0, 1, 29\n",
    "d = torch.autograd.grad(l, x[1], retain_graph=True)\n",
    "d = d[0][i,t*n_cont:(t+1)*n_cont]\n",
    "d_np = to_np(d)"
   ]
  },
  {
   "cell_type": "code",
   "execution_count": null,
   "metadata": {},
   "outputs": [],
   "source": [
    "# average along time axis\n",
    "i, c = 3, 1\n",
    "d = torch.autograd.grad(p[i,c], x[1], retain_graph=True)\n",
    "d = d[0][i].view(n_cont, -1)\n",
    "d_np = to_np(d)\n",
    "d_np = np.abs(d_np)\n",
    "d_np = d_np.mean(1)"
   ]
  },
  {
   "cell_type": "code",
   "execution_count": null,
   "metadata": {},
   "outputs": [],
   "source": [
    "impact = d_np.argsort()[::-1]\n",
    "cs = columns_x[impact]\n",
    "pprint(list(enumerate(zip(impact, d_np[impact], cs))))\n",
    "plots(cycles[i].loc[:,cs[:10]].iloc[idx[i]-50:idx[i]+100]);"
   ]
  },
  {
   "cell_type": "code",
   "execution_count": null,
   "metadata": {},
   "outputs": [],
   "source": [
    "# l x b x t x h\n",
    "l, b = 0, 0\n",
    "[(float(p[l][b][t].mean()), float(p[l][b][t].std())) for t in range(30)]"
   ]
  },
  {
   "cell_type": "code",
   "execution_count": null,
   "metadata": {},
   "outputs": [],
   "source": [
    "# l x b x t x h\n",
    "l, b, t = 0, 0, 1\n",
    "[(float(p[l][b][t].mean()), float(p[l][b][t].std())) for l in range(n_layers)]"
   ]
  },
  {
   "cell_type": "code",
   "execution_count": null,
   "metadata": {},
   "outputs": [],
   "source": []
  },
  {
   "cell_type": "code",
   "execution_count": null,
   "metadata": {},
   "outputs": [],
   "source": [
    "list(zip(y_np.tolist(), p_np.tolist()))"
   ]
  },
  {
   "cell_type": "code",
   "execution_count": null,
   "metadata": {},
   "outputs": [],
   "source": []
  },
  {
   "cell_type": "code",
   "execution_count": null,
   "metadata": {},
   "outputs": [],
   "source": [
    "i = 0\n",
    "plt.scatter(_s[:,i], y_s[:,i])"
   ]
  },
  {
   "cell_type": "code",
   "execution_count": null,
   "metadata": {},
   "outputs": [],
   "source": [
    "i = 1\n",
    "plt.scatter(p_s[:,i], y_s[:,i])"
   ]
  },
  {
   "cell_type": "code",
   "execution_count": null,
   "metadata": {},
   "outputs": [],
   "source": []
  },
  {
   "cell_type": "code",
   "execution_count": null,
   "metadata": {},
   "outputs": [],
   "source": []
  }
 ],
 "metadata": {
  "celltoolbar": "Tags",
  "kernelspec": {
   "display_name": "Python 3",
   "language": "python",
   "name": "python3"
  },
  "language_info": {
   "codemirror_mode": {
    "name": "ipython",
    "version": 3
   },
   "file_extension": ".py",
   "mimetype": "text/x-python",
   "name": "python",
   "nbconvert_exporter": "python",
   "pygments_lexer": "ipython3",
   "version": "3.7.2"
  },
  "notify_time": "10",
  "varInspector": {
   "cols": {
    "lenName": 16,
    "lenType": 16,
    "lenVar": 40
   },
   "kernels_config": {
    "python": {
     "delete_cmd_postfix": "",
     "delete_cmd_prefix": "del ",
     "library": "var_list.py",
     "varRefreshCmd": "print(var_dic_list())"
    },
    "r": {
     "delete_cmd_postfix": ") ",
     "delete_cmd_prefix": "rm(",
     "library": "var_list.r",
     "varRefreshCmd": "cat(var_dic_list()) "
    }
   },
   "types_to_exclude": [
    "module",
    "function",
    "builtin_function_or_method",
    "instance",
    "_Feature"
   ],
   "window_display": false
  }
 },
 "nbformat": 4,
 "nbformat_minor": 2
}
