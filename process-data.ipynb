{
 "cells": [
  {
   "cell_type": "code",
   "execution_count": null,
   "metadata": {},
   "outputs": [],
   "source": [
    "%matplotlib inline\n",
    "%reload_ext autoreload\n",
    "%autoreload 2\n",
    "\n",
    "from config import *\n",
    "cont_names = ['桩号', '刀盘功率', '主驱动1#电机扭矩',\n",
    "                   '主驱动1#电机输出功率', '推进速度', '总推进力', '刀盘扭矩',\n",
    "                   '贯入度', '推进位移']\n",
    "# config = Config('full-30-s-0', debug=False, sl=30, selected_columns=True, postpond=0)\n",
    "\n",
    "# all columns\n",
    "context = Context('all_columns-full-30-s-0', Context.all_columns(), debug=False, sl=30, load_data=False)\n",
    "# context = Context('all_columns-full-30-no_noise', Context.all_columns(), debug=False, sl=30, load_data=False)"
   ]
  },
  {
   "cell_type": "code",
   "execution_count": null,
   "metadata": {},
   "outputs": [],
   "source": [
    "fns_feathers = sorted(config.fn_cycles.glob('cycle*'))[:config.num_cycles]\n",
    "fmtr = DataFormatter(cycle_feathers=fns_feathers)\n",
    "cycles = fmtr.cycles\n",
    "# if not config.selected_columns: config.cont_names = [o for o in cycles.loc[0].columns[2:] if o not in config.dep_var]\n",
    "idx = fmtr.beginning_index(postpond=config.postpond)\n",
    "\n",
    "df_conts, stat_x = tile_with_noise(cycles, idx, config, normalize=True)\n",
    "deps, stat_y = fmtr.get_y(config.dep_var, normalize=True)\n",
    "deps = pd.concat([deps]*config.mulr).reset_index(drop=True)\n",
    "cyc_cont = flatten_and_cat(df_conts, deps, sl=config.sl)"
   ]
  },
  {
   "cell_type": "code",
   "execution_count": null,
   "metadata": {},
   "outputs": [],
   "source": [
    "cyc_cont.to_feather(config.fn_feather)\n",
    "np.savez_compressed(config.fn_np, idx=idx, stat_x=stat_x, stat_y=stat_y)"
   ]
  },
  {
   "cell_type": "markdown",
   "metadata": {},
   "source": [
    "### Without noise"
   ]
  },
  {
   "cell_type": "code",
   "execution_count": null,
   "metadata": {},
   "outputs": [],
   "source": [
    "%matplotlib inline\n",
    "%reload_ext autoreload\n",
    "%autoreload 2\n",
    "\n",
    "# all columns\n",
    "# name scheme: columns-num_cycles-sl\n",
    "from config import *\n",
    "context = Context('all_columns-full-30-no_noise', Context.all_columns(), debug=1, sl=30, mulr=1, load_data=False)"
   ]
  },
  {
   "cell_type": "code",
   "execution_count": null,
   "metadata": {},
   "outputs": [],
   "source": [
    "fmtr = DataFormatter(context, cycle_feathers=context.fn_cycles)\n",
    "cycles = fmtr.cycles # shorten notation\n",
    "\n",
    "idx = fmtr.beginning_index()\n",
    "df_conts, stat_x = fmtr.get_x()\n",
    "deps, stat_y = fmtr.get_y(normalize=True)\n",
    "train_cont = flatten_and_cat(df_conts, deps, sl=context.sl)"
   ]
  },
  {
   "cell_type": "code",
   "execution_count": null,
   "metadata": {},
   "outputs": [],
   "source": [
    "train_cont.to_feather(context.fn_feather)\n",
    "np.savez_compressed(context.fn_np, idx=idx, stat_x=stat_x, stat_y=stat_y)"
   ]
  },
  {
   "cell_type": "code",
   "execution_count": null,
   "metadata": {},
   "outputs": [],
   "source": []
  },
  {
   "cell_type": "code",
   "execution_count": null,
   "metadata": {},
   "outputs": [],
   "source": []
  },
  {
   "cell_type": "code",
   "execution_count": null,
   "metadata": {},
   "outputs": [],
   "source": []
  },
  {
   "cell_type": "code",
   "execution_count": null,
   "metadata": {},
   "outputs": [],
   "source": []
  }
 ],
 "metadata": {
  "kernelspec": {
   "display_name": "Python 3",
   "language": "python",
   "name": "python3"
  },
  "language_info": {
   "codemirror_mode": {
    "name": "ipython",
    "version": 3
   },
   "file_extension": ".py",
   "mimetype": "text/x-python",
   "name": "python",
   "nbconvert_exporter": "python",
   "pygments_lexer": "ipython3",
   "version": "3.7.2"
  }
 },
 "nbformat": 4,
 "nbformat_minor": 2
}
