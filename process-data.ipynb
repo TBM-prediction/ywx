{
 "cells": [
  {
   "cell_type": "code",
   "execution_count": null,
   "metadata": {},
   "outputs": [],
   "source": [
    "%matplotlib inline\n",
    "%reload_ext autoreload\n",
    "%autoreload 2\n",
    "\n",
    "# all columns\n",
    "# name scheme: columns-num_cycles-sl-noise\n",
    "from config import *\n",
    "context = Context('all_columns-full-30-7', Context.all_columns(), debug=0, mulr=7, load_data=False)"
   ]
  },
  {
   "cell_type": "code",
   "execution_count": null,
   "metadata": {},
   "outputs": [],
   "source": [
    "fmtr = DataFormatter(context, cycle_feathers=context.fn_cycles)\n",
    "cycles = fmtr.cycles # shorten notation\n",
    "\n",
    "idx = fmtr.beginning_index()\n",
    "df_conts, stat_x = fmtr.get_x()\n",
    "deps, stat_y = fmtr.get_y(normalize=True)\n",
    "train_cont = flatten_and_cat(df_conts, deps, sl=context.sl)"
   ]
  },
  {
   "cell_type": "code",
   "execution_count": null,
   "metadata": {},
   "outputs": [],
   "source": [
    "train_cont.to_feather(context.fn_feather)\n",
    "np.savez_compressed(context.fn_np, idx=idx, stat_x=stat_x, stat_y=stat_y)\n",
    "context.fn_feather"
   ]
  },
  {
   "cell_type": "markdown",
   "metadata": {},
   "source": [
    "### Without noise"
   ]
  },
  {
   "cell_type": "code",
   "execution_count": null,
   "metadata": {},
   "outputs": [],
   "source": [
    "%matplotlib inline\n",
    "%reload_ext autoreload\n",
    "%autoreload 2\n",
    "\n",
    "# all columns\n",
    "# name scheme: columns-num_cycles-sl\n",
    "from config import *\n",
    "context = Context(\n",
    "#     'rnn-normalized-full-30-no_noise', \n",
    "    'all_columns-full-30-7',\n",
    "    Context.all_columns(), \n",
    "    debug=False, \n",
    "    mulr=7,\n",
    "#     fn_feather='tbmData/feather/all_columns-full-30-no_noise.feather') \n",
    "    fn_feather='tbmData/feather/all_columns-full-30-7.feather')\n",
    "# context = Context('all_columns-full-30-no_noise', Context.all_columns(), debug=0, sl=30, mulr=1, load_data=False)"
   ]
  },
  {
   "cell_type": "code",
   "execution_count": null,
   "metadata": {},
   "outputs": [],
   "source": [
    "fmtr = DataFormatter(context, cycle_feathers=context.fn_cycles)\n",
    "cycles = fmtr.cycles # shorten notation\n",
    "\n",
    "idx = fmtr.beginning_index()\n",
    "df_conts, stat_x = fmtr.get_x()"
   ]
  },
  {
   "cell_type": "code",
   "execution_count": null,
   "metadata": {},
   "outputs": [],
   "source": [
    "deps, stat_y = fmtr.get_y(normalize=True)\n",
    "train_cont = flatten_and_cat(df_conts, deps, sl=context.sl)"
   ]
  },
  {
   "cell_type": "code",
   "execution_count": null,
   "metadata": {},
   "outputs": [],
   "source": [
    "train_cont.to_feather(context.fn_feather)\n",
    "np.savez_compressed(context.fn_np, idx=idx, stat_x=stat_x, stat_y=stat_y)"
   ]
  },
  {
   "cell_type": "markdown",
   "metadata": {},
   "source": [
    "# 地质信息"
   ]
  },
  {
   "cell_type": "markdown",
   "metadata": {},
   "source": [
    "## 预测桩号"
   ]
  },
  {
   "cell_type": "code",
   "execution_count": null,
   "metadata": {},
   "outputs": [],
   "source": [
    "%matplotlib inline\n",
    "%reload_ext autoreload\n",
    "%autoreload 2\n",
    "\n",
    "# all columns\n",
    "# name scheme: columns-num_cycles-sl-noise-y\n",
    "from config import *"
   ]
  },
  {
   "cell_type": "code",
   "execution_count": null,
   "metadata": {},
   "outputs": [],
   "source": []
  },
  {
   "cell_type": "code",
   "execution_count": null,
   "metadata": {},
   "outputs": [],
   "source": [
    "%matplotlib inline\n",
    "%reload_ext autoreload\n",
    "%autoreload 2\n",
    "\n",
    "# all columns\n",
    "# name scheme: columns-num_cycles-sl-noise-y\n",
    "from config import *\n",
    "\n",
    "cont_names = list(set(full_columns[3:]) - set(dep_var1) - set(['桩号']))\n",
    "context = Context('all_columns-full-30-7-桩号', cont_names, debug=1, mulr=7, load_data=False)\n",
    "context.dep_var = ['桩号']"
   ]
  },
  {
   "cell_type": "code",
   "execution_count": null,
   "metadata": {},
   "outputs": [],
   "source": [
    "fmtr = DataFormatter(context, cycle_feathers=context.fn_cycles)\n",
    "cycles = fmtr.cycles # shorten notation\n",
    "\n",
    "idx = fmtr.beginning_index()\n",
    "df_conts, stat_x = fmtr.get_x()\n",
    "deps, stat_y = fmtr.get_y(normalize=True)\n",
    "train_cont = flatten_and_cat(df_conts, deps, sl=context.sl)"
   ]
  },
  {
   "cell_type": "code",
   "execution_count": null,
   "metadata": {},
   "outputs": [],
   "source": [
    "context.cyc_cont.shape"
   ]
  },
  {
   "cell_type": "code",
   "execution_count": null,
   "metadata": {},
   "outputs": [],
   "source": []
  },
  {
   "cell_type": "markdown",
   "metadata": {},
   "source": [
    "## 预测实际开挖围岩类别"
   ]
  },
  {
   "cell_type": "code",
   "execution_count": null,
   "metadata": {},
   "outputs": [],
   "source": []
  },
  {
   "cell_type": "code",
   "execution_count": null,
   "metadata": {},
   "outputs": [],
   "source": []
  },
  {
   "cell_type": "code",
   "execution_count": null,
   "metadata": {},
   "outputs": [],
   "source": []
  }
 ],
 "metadata": {
  "kernelspec": {
   "display_name": "Python 3",
   "language": "python",
   "name": "python3"
  },
  "language_info": {
   "codemirror_mode": {
    "name": "ipython",
    "version": 3
   },
   "file_extension": ".py",
   "mimetype": "text/x-python",
   "name": "python",
   "nbconvert_exporter": "python",
   "pygments_lexer": "ipython3",
   "version": "3.7.2"
  }
 },
 "nbformat": 4,
 "nbformat_minor": 2
}
