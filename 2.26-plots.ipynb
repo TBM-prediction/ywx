{
 "cells": [
  {
   "cell_type": "code",
   "execution_count": null,
   "metadata": {},
   "outputs": [],
   "source": [
    "# %matplotlib inline\n",
    "%reload_ext autoreload\n",
    "%autoreload 2\n",
    "\n",
    "from config import *\n",
    "context = Context('acceleration-revisit', gpu_start=8, debug=0, mulr=1, fn_feather='tbmData/feather/removed_redundent1-full-30-no_noise.feather')"
   ]
  },
  {
   "cell_type": "code",
   "execution_count": null,
   "metadata": {},
   "outputs": [],
   "source": [
    "fmtr = DataFormatter(context, cycle_feathers=context.fn_cycles)\n",
    "cycles = fmtr.cycles # shorten notation"
   ]
  },
  {
   "cell_type": "markdown",
   "metadata": {},
   "source": [
    "最小桩号"
   ]
  },
  {
   "cell_type": "code",
   "execution_count": null,
   "metadata": {},
   "outputs": [],
   "source": [
    "min(cycles.loc[i, '桩号'].iloc[0] for i in cycles.index.levels[0])"
   ]
  },
  {
   "cell_type": "code",
   "execution_count": null,
   "metadata": {},
   "outputs": [],
   "source": [
    "max(cycles.loc[i, '桩号'].iloc[0] for i in cycles.index.levels[0])"
   ]
  },
  {
   "cell_type": "code",
   "execution_count": null,
   "metadata": {},
   "outputs": [],
   "source": []
  },
  {
   "cell_type": "markdown",
   "metadata": {},
   "source": [
    "Plot 出桩号时发现，早期的循环大多较长，后期较短，因此前后的循环可能有潜在的变化。验证算法时考虑（随机）取样"
   ]
  },
  {
   "cell_type": "markdown",
   "metadata": {},
   "source": [
    "# Plot relevant columns"
   ]
  },
  {
   "cell_type": "code",
   "execution_count": null,
   "metadata": {},
   "outputs": [],
   "source": [
    "significant_columns = ['刀盘给定转速显示值', '给定频率', '刀盘速度给定', '刀盘转速电位器设定值', '贯入度', '推进泵压力']\n",
    "relevent_columns = dep_var1 + dep_var2 + significant_columns"
   ]
  },
  {
   "cell_type": "code",
   "execution_count": null,
   "metadata": {},
   "outputs": [],
   "source": [
    "len(cycles.index.levels[0])"
   ]
  },
  {
   "cell_type": "code",
   "execution_count": null,
   "metadata": {},
   "outputs": [],
   "source": [
    "plot_dir = Path('plots/partial_length')\n",
    "for i in cycles.index.levels[0]:\n",
    "    fig, axes = plots(cycles.loc[i, relevent_columns].iloc[:400], cols=5, title=f'cycle {i}')\n",
    "    for ax in axes.flatten(): ax.axvline(context.idx[i])\n",
    "    for ax in axes.flatten(): ax.axvline(context.idx[i]+context.sl)\n",
    "    plt.savefig(str(plot_dir/f'cycle_{i}.png'))\n",
    "    plt.close()"
   ]
  },
  {
   "cell_type": "code",
   "execution_count": null,
   "metadata": {},
   "outputs": [],
   "source": []
  },
  {
   "cell_type": "code",
   "execution_count": null,
   "metadata": {},
   "outputs": [],
   "source": [
    "# plot_dir = Path('plots/full_length')\n",
    "# for i in cycles.index.levels[0]:\n",
    "#     fig, axes = plots(cycles.loc[i, relevent_columns], cols=5, title=f'cycle {i}')\n",
    "#     axes = [ax.axvline(context.idx[i]) for ax in axes.flatten()]\n",
    "#     plt.savefig(str(plot_dir/f'cycle_{i}.png'))"
   ]
  },
  {
   "cell_type": "code",
   "execution_count": null,
   "metadata": {},
   "outputs": [],
   "source": []
  },
  {
   "cell_type": "code",
   "execution_count": null,
   "metadata": {},
   "outputs": [],
   "source": []
  }
 ],
 "metadata": {
  "kernelspec": {
   "display_name": "Python 3",
   "language": "python",
   "name": "python3"
  },
  "language_info": {
   "codemirror_mode": {
    "name": "ipython",
    "version": 3
   },
   "file_extension": ".py",
   "mimetype": "text/x-python",
   "name": "python",
   "nbconvert_exporter": "python",
   "pygments_lexer": "ipython3",
   "version": "3.7.2"
  }
 },
 "nbformat": 4,
 "nbformat_minor": 2
}
