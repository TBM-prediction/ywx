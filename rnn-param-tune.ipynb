{
 "cells": [
  {
   "cell_type": "code",
   "execution_count": null,
   "metadata": {},
   "outputs": [],
   "source": [
    "# import comet_ml in the top of your file\n",
    "from comet_ml import Experiment\n",
    "# Add the following code anywhere in your machine learning file\n",
    "experiment = Experiment(api_key=\"Go4XzK6f4G10W9jFaWiHg6JP2\",\n",
    "                        project_name=\"tbm\", workspace=\"twofyw\")"
   ]
  },
  {
   "cell_type": "code",
   "execution_count": null,
   "metadata": {},
   "outputs": [],
   "source": [
    "%matplotlib inline\n",
    "%reload_ext autoreload\n",
    "%autoreload 2\n",
    "\n",
    "from config import *\n",
    "config = Config('rnn-param-tune', debug=False, sl=30, cont_names=Config.all_columns(), postpond=0, fn_feather='tbmData/feather/all_columns-full-30-s-0.feather')\n",
    "\n",
    "torch.cuda.set_device(config.gpu_start); torch.ones((1, 1)).cuda(); # wakeup gpu\n",
    "\n",
    "# load data\n",
    "cyc_cont = pd.read_feather(config.fn_feather)\n",
    "npz = np.load(config.fn_np)\n",
    "idx, stat_x, stat_y = npz['idx'], npz['stat_x'], npz['stat_y']\n",
    "\n",
    "rnndb = MultiDeptTabularDataBunch.from_df('tmp', cyc_cont, config.dep_var, valid_idx=config.valid_idx_tile, bs=config.bs, num_workers=0)\n",
    "\n",
    "record = False"
   ]
  },
  {
   "cell_type": "code",
   "execution_count": null,
   "metadata": {
    "code_folding": []
   },
   "outputs": [],
   "source": [
    "hyper_params = {\n",
    "    'n_hidden': 100,\n",
    "    'n_layers': 3,\n",
    "    'hidden_p': 0.3,\n",
    "    'input_p': 0.6,\n",
    "    'weight_p': 0.5,\n",
    "    'layers': [3*config.n_cont, 5, 2],\n",
    "    'drops': [0.2] * 3,\n",
    "    'alpha': 2.,\n",
    "    'beta': 1.,\n",
    "    'clip': 0.5,\n",
    "#     'loss_func' = MSELossFlat()\n",
    "    'loss_func': l1\n",
    "}\n",
    "# experiment.log_parameters(hyper_params)\n",
    "def get_cont_model(hyper_params):\n",
    "    rnn_enc = ContModel1(1, config.n_cont, hyper_params['n_hidden'], hyper_params['n_layers'], sl=config.sl,\n",
    "                         hidden_p=hyper_params['hidden_p'], input_p=hyper_params['input_p'], embed_p=0, weight_p=hyper_params['weight_p'])\n",
    "    model = MultiInputSequentialRNN(rnn_enc, PoolingLinearClassifier(hyper_params['layers'], hyper_params['drops'])).cuda()\n",
    "\n",
    "    metrics = [MAPD(stat_y)]\n",
    "    learner = Learner(rnndb, model, loss_func=hyper_params['loss_func'], metrics=metrics, opt_func=optim.SGD)\n",
    "\n",
    "    # learner.callback_fns += [ShowGraph, partial(SaveModelCallback, name='rnn0')]\n",
    "    learner.callback_fns += [ShowGraph,]\n",
    "    learner.callbacks += [TerminateOnNaNCallback()]\n",
    "    learner.callbacks.append(RNNTrainer(learner, config.sl, alpha=hyper_params['alpha'], beta=hyper_params['beta']))\n",
    "\n",
    "    learner.callback_fns.append(partial(GradientClipping, clip=hyper_params['clip']))\n",
    "    learner.split(rnn_classifier_split)\n",
    "    return learner\n",
    "learner = get_cont_model(hyper_params)"
   ]
  },
  {
   "cell_type": "code",
   "execution_count": null,
   "metadata": {},
   "outputs": [],
   "source": [
    "optimizer = Optimizer(\"Go4XzK6f4G10W9jFaWiHg6JP2\")"
   ]
  },
  {
   "cell_type": "code",
   "execution_count": null,
   "metadata": {},
   "outputs": [],
   "source": [
    "# Declare your hyper-parameters:\n",
    "params = \"\"\"\n",
    "n_hidden integer [27, 100] [100]\n",
    "\"\"\"\n",
    "optimizer.set_params(params)"
   ]
  },
  {
   "cell_type": "code",
   "execution_count": null,
   "metadata": {},
   "outputs": [],
   "source": [
    "suggestion = optimizer.get_suggestion()"
   ]
  },
  {
   "cell_type": "code",
   "execution_count": null,
   "metadata": {},
   "outputs": [],
   "source": [
    "from comet_ml import Optimizer\n",
    "optimizer = Optimizer(\"Go4XzK6f4G10W9jFaWiHg6JP2\")\n",
    "# Declare your hyper-parameters:\n",
    "params = \"\"\"\n",
    "n_hidden integer [27, 100] [100]\n",
    "\"\"\"\n",
    "optimizer.set_params(params)\n",
    "\n",
    "while True:\n",
    "    # Get a suggestion\n",
    "    suggestion = optimizer.get_suggestion()\n",
    "\n",
    "    # Create a new experiment associated with the Optimizer\n",
    "    experiment = Experiment(optimizer.api_key, project_name='suggestion')\n",
    "\n",
    "    # Test the model\n",
    "    learner = get_cont_model(hyper_params)\n",
    "    score = fit(suggestion[\"x\"])\n",
    "\n",
    "    # Report the score back\n",
    "    suggestion.report_score(\"accuracy\",score)"
   ]
  },
  {
   "cell_type": "code",
   "execution_count": null,
   "metadata": {},
   "outputs": [],
   "source": [
    "learner.unfreeze()\n",
    "learner.lr_find(num_it=100)\n",
    "learner.recorder.plot(1,1)"
   ]
  },
  {
   "cell_type": "code",
   "execution_count": null,
   "metadata": {},
   "outputs": [],
   "source": [
    "with experiment.train():\n",
    "    lr = 1e-0\n",
    "    learner.fit_one_cycle(9, lr)"
   ]
  },
  {
   "cell_type": "code",
   "execution_count": null,
   "metadata": {},
   "outputs": [],
   "source": []
  },
  {
   "cell_type": "code",
   "execution_count": null,
   "metadata": {},
   "outputs": [],
   "source": []
  }
 ],
 "metadata": {
  "celltoolbar": "Tags",
  "kernelspec": {
   "display_name": "Python 3",
   "language": "python",
   "name": "python3"
  },
  "language_info": {
   "codemirror_mode": {
    "name": "ipython",
    "version": 3
   },
   "file_extension": ".py",
   "mimetype": "text/x-python",
   "name": "python",
   "nbconvert_exporter": "python",
   "pygments_lexer": "ipython3",
   "version": "3.7.2"
  },
  "notify_time": "10",
  "varInspector": {
   "cols": {
    "lenName": 16,
    "lenType": 16,
    "lenVar": 40
   },
   "kernels_config": {
    "python": {
     "delete_cmd_postfix": "",
     "delete_cmd_prefix": "del ",
     "library": "var_list.py",
     "varRefreshCmd": "print(var_dic_list())"
    },
    "r": {
     "delete_cmd_postfix": ") ",
     "delete_cmd_prefix": "rm(",
     "library": "var_list.r",
     "varRefreshCmd": "cat(var_dic_list()) "
    }
   },
   "types_to_exclude": [
    "module",
    "function",
    "builtin_function_or_method",
    "instance",
    "_Feature"
   ],
   "window_display": false
  }
 },
 "nbformat": 4,
 "nbformat_minor": 2
}
