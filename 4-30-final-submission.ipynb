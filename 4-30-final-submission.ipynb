{
 "cells": [
  {
   "cell_type": "code",
   "execution_count": null,
   "metadata": {},
   "outputs": [],
   "source": [
    "%matplotlib inline\n",
    "%reload_ext autoreload\n",
    "%autoreload 2\n",
    "\n",
    "from config import *\n",
    "\n",
    "import scipy.io\n",
    "# relevent_columns = dep_var1 + dep_var2 + ['刀盘功率']\n",
    "gpu_start,num_gpus = 2,1"
   ]
  },
  {
   "cell_type": "code",
   "execution_count": null,
   "metadata": {},
   "outputs": [],
   "source": [
    "test1_fns = [Path('tbmData/test/附件2：必选课题二测试数据集') / f'{i}.mat' for i in range(51, 101)]\n",
    "column_names = pd.read_csv('tbmData/data/CREC188_20160809.txt', delimiter='\\t', nrows=1).columns # get column names from training data\n",
    "save_dir = Path('tbmData/test/test1_feathers')"
   ]
  },
  {
   "cell_type": "code",
   "execution_count": null,
   "metadata": {},
   "outputs": [],
   "source": [
    "test1_fns[:5]"
   ]
  },
  {
   "cell_type": "markdown",
   "metadata": {},
   "source": [
    "# Save test data as feathers"
   ]
  },
  {
   "cell_type": "markdown",
   "metadata": {},
   "source": [
    "Assert the last column of test data is all zero"
   ]
  },
  {
   "cell_type": "code",
   "execution_count": null,
   "metadata": {},
   "outputs": [],
   "source": [
    "column_names"
   ]
  },
  {
   "cell_type": "code",
   "execution_count": null,
   "metadata": {},
   "outputs": [],
   "source": [
    "def read_test_mat_as_df(mat_fn, columns):\n",
    "    test_input = scipy.io.loadmat(mat_fn)['a']\n",
    "    test_df = pd.DataFrame(test_input[:,:-1], columns=columns[2:])\n",
    "    return test_df\n",
    "\n",
    "for mat_fn in test1_fns:\n",
    "    df = read_test_mat_as_df(mat_fn, column_names)\n",
    "    save_feather_fn = save_dir/(mat_fn.stem + '.feather')\n",
    "    df.to_feather(str(save_feather_fn))"
   ]
  },
  {
   "cell_type": "code",
   "execution_count": null,
   "metadata": {},
   "outputs": [],
   "source": [
    "context = Context('save-after-removing-redundent-columns', fn_cycles=str(save_dir), debug=0, mulr=1, load_data=False, gpu_start=)\n",
    "fmtr = DataFormatter(context, cycle_feathers=context.fn_cycles)\n",
    "cycles = fmtr.cycles"
   ]
  },
  {
   "cell_type": "code",
   "execution_count": null,
   "metadata": {},
   "outputs": [],
   "source": [
    "dropped = np.load('tbmData/cycles-removed-redundent-columns/dropped.npy').tolist()\n",
    "cycles.drop(columns=dropped+['桩号']+['EP2次数设置', '刀盘喷水增压泵压力'], inplace=True, errors='ignore')\n",
    "# , '内循环水罐液位', '拖拉油缸最小允许压力设置'\n",
    "cycles.loc[:,'总推进力'].mean()"
   ]
  },
  {
   "cell_type": "code",
   "execution_count": null,
   "metadata": {},
   "outputs": [],
   "source": [
    "context = Context('amended-3-7', gpu_start=gpu_start, dep_var=dep_var1, debug=0, mulr=1)\n",
    "stat_x = context.stat_x[:,:-1]\n",
    "stat_extra_x = context.stat_extra_x\n",
    "valid_size = int(context.num_cycles * context.valid_ratio * context.mulr)\n",
    "databunch = MultiDeptTabularDataBunch.from_df('tmp', context.cyc_cont, context.dep_var, valid_idx=context.valid_idx_tile, bs=valid_size)"
   ]
  },
  {
   "cell_type": "code",
   "execution_count": null,
   "metadata": {},
   "outputs": [],
   "source": [
    "normalized_x = normalize_a(cycles, *stat_x)\n",
    "xb = [tensor(normalized_x.loc[i].values.flatten())[None].float() for i in normalized_x.index.levels[0]]\n",
    "xb = torch.cat(xb)\n",
    "xb.shape"
   ]
  },
  {
   "cell_type": "code",
   "execution_count": null,
   "metadata": {},
   "outputs": [],
   "source": [
    "# append extra_x\n",
    "csv_extra = pd.read_csv(u'tbmData/test/附件2 测试数据（第51-100组数据稳态段操作参数值，含桩号）.csv',encoding='gbk')\n",
    "extra_x_normalized = normalize_a(csv_extra.iloc[:,1:], *stat_extra_x)\n",
    "extra_x_normalized_t = tensor(extra_x_normalized.values)\n",
    "xb = torch.cat([xb, extra_x_normalized_t.float()], 1)\n",
    "xb.shape"
   ]
  },
  {
   "cell_type": "markdown",
   "metadata": {},
   "source": [
    "# predict and submit"
   ]
  },
  {
   "cell_type": "code",
   "execution_count": null,
   "metadata": {},
   "outputs": [],
   "source": [
    "n_cont = 2\n",
    "n_cat = [5, 6]\n",
    "cat_names = ['围岩等级', '岩性']\n",
    "\n",
    "hyper_params = {\n",
    "    'use_extra_x': 1,\n",
    "    'n_hidden': 1000,\n",
    "    'n_layers': 3,\n",
    "    'hidden_p': 0.075,\n",
    "    'input_p': 0.1,\n",
    "    'weight_p': 0.125,\n",
    "    'drops': [0.1] * 4,\n",
    "    'alpha': 2.,\n",
    "    'beta': 1.,\n",
    "    'clip': 0.5,\n",
    "    'loss_func': DualLoss(n_cont, n_cat, 0.1)\n",
    "}\n",
    "\n",
    "hyper_params['layers'] = [3*(context.n_cont) + int(hyper_params['use_extra_x']) * 3, 1000, 13]\n",
    "learner = get_new_model(context, databunch, hyper_params)"
   ]
  },
  {
   "cell_type": "code",
   "execution_count": null,
   "metadata": {},
   "outputs": [],
   "source": [
    "# learner.load('400_amended-3-7_2019-04-18_23:05:30');\n",
    "learner.load('final-no-extra-day_1000_amended-3-7-cat_2019-04-29_22:18:11');\n",
    "\n",
    "model = learner.model\n",
    "model.eval()\n",
    "model.reset()\n",
    "input = (torch.zeros(len(xb), dtype=torch.long).cuda(), xb.cuda())\n",
    "pb = model(*input)\n",
    "pb = denormalize(pb[0][:,:2], *context.stat_y)\n",
    "pb = to_np(pb)"
   ]
  },
  {
   "cell_type": "code",
   "execution_count": null,
   "metadata": {},
   "outputs": [],
   "source": [
    "output_template = 'tbmData/test/附件3 测试结果提交格式.csv'\n",
    "template = pd.read_csv(output_template,encoding='gbk')\n",
    "\n",
    "template.iloc[:,1:3] = pb\n",
    "template"
   ]
  },
  {
   "cell_type": "code",
   "execution_count": null,
   "metadata": {},
   "outputs": [],
   "source": [
    "submit_dir = Path('submissions/submission-4-30')\n",
    "submit_dir.mkdir(parents=True,exist_ok=True)\n",
    "template.to_csv(str(submit_dir/'Result_test_51-100.csv'), float_format='%.1f',index=None, encoding='gbk')"
   ]
  },
  {
   "cell_type": "markdown",
   "metadata": {
    "heading_collapsed": true
   },
   "source": [
    "# validate extra x statistics"
   ]
  },
  {
   "cell_type": "code",
   "execution_count": null,
   "metadata": {
    "hidden": true
   },
   "outputs": [],
   "source": [
    "from IPython.display import HTML\n",
    "def series_to_html(series, title=None):\n",
    "    return HTML(pd.DataFrame(series, columns=[title]).to_html())\n",
    "s2h = series_to_html"
   ]
  },
  {
   "cell_type": "code",
   "execution_count": null,
   "metadata": {
    "hidden": true
   },
   "outputs": [],
   "source": [
    "# our statistics\n",
    "our_extra_x = cycles[dep_var1]\n",
    "# display(s2h(our_extra_x.mean(), 'mean'), s2h(our_extra_x.std(), 'std'))\n",
    "pd.DataFrame(\n",
    "    {\n",
    "        'mean': our_extra_x.mean(), \n",
    "        'std': our_extra_x.std()\n",
    "    }\n",
    ")"
   ]
  },
  {
   "cell_type": "code",
   "execution_count": null,
   "metadata": {
    "hidden": true
   },
   "outputs": [],
   "source": [
    "# their statistics\n",
    "their_extra_x = csv_extra.iloc[:,2:]\n",
    "# display(s2h(their_extra_x.mean(), 'mean'), s2h(their_extra_x.std(), 'std'))\n",
    "pd.DataFrame(\n",
    "    {\n",
    "        'mean': their_extra_x.mean(), \n",
    "        'std': their_extra_x.std()\n",
    "    }\n",
    ")"
   ]
  },
  {
   "cell_type": "code",
   "execution_count": null,
   "metadata": {
    "hidden": true
   },
   "outputs": [],
   "source": [
    "sns.set(color_codes=True)"
   ]
  },
  {
   "cell_type": "code",
   "execution_count": null,
   "metadata": {
    "hidden": true
   },
   "outputs": [],
   "source": [
    "def plot_dist(df):\n",
    "    fig = plt.figure(figsize=(15,10))\n",
    "    for v in df:\n",
    "        sns.distplot(df.loc[:,v], hist=False, rug=True);\n",
    "    ax = fig.gca()\n",
    "    ax.legend(df.columns)\n",
    "    ax.set_xlabel('value')\n",
    "    ax.set_ylabel('p')\n",
    "    set_ax_font(ax)\n",
    "plot_dist(their_extra_x)\n",
    "plt.xlim([0,100])\n",
    "plot_dist(our_extra_x)\n",
    "plt.xlim([0,100]);"
   ]
  },
  {
   "cell_type": "markdown",
   "metadata": {},
   "source": [
    "# validate prediction code"
   ]
  },
  {
   "cell_type": "code",
   "execution_count": null,
   "metadata": {},
   "outputs": [],
   "source": [
    "context = Context('amended-3-7', debug=0, dep_var=dep_var2, mulr=7, gpu_start=gpu_start)\n",
    "databunch = MultiDeptTabularDataBunch.from_df('tmp', context.cyc_cont, context.dep_var, valid_idx=context.valid_idx_tile, bs=context.bs)"
   ]
  },
  {
   "cell_type": "code",
   "execution_count": null,
   "metadata": {},
   "outputs": [],
   "source": [
    "context.valid_idx_tile.sort()\n",
    "context.valid_idx_tile"
   ]
  },
  {
   "cell_type": "code",
   "execution_count": null,
   "metadata": {},
   "outputs": [],
   "source": [
    "plt.plot(context.valid_idx_tile)"
   ]
  },
  {
   "cell_type": "code",
   "execution_count": null,
   "metadata": {},
   "outputs": [],
   "source": [
    "x_valid, y_valid = ni(databunch.valid_dl)"
   ]
  },
  {
   "cell_type": "code",
   "execution_count": null,
   "metadata": {},
   "outputs": [],
   "source": [
    "y_valid"
   ]
  },
  {
   "cell_type": "code",
   "execution_count": null,
   "metadata": {},
   "outputs": [],
   "source": [
    "x_valid[1].shape"
   ]
  },
  {
   "cell_type": "code",
   "execution_count": null,
   "metadata": {},
   "outputs": [],
   "source": []
  },
  {
   "cell_type": "code",
   "execution_count": null,
   "metadata": {},
   "outputs": [],
   "source": [
    "# load training and validation data\n",
    "# context = Context('amended-1-no_noise', debug=0, dep_var=dep_var2, mulr=1, gpu_start=9)\n",
    "context = Context('amended-3-7', debug=0, dep_var=dep_var2, mulr=7, gpu_start=gpu_start)\n",
    "databunch = MultiDeptTabularDataBunch.from_df('tmp', context.cyc_cont, context.dep_var, valid_idx=context.valid_idx_tile, bs=context.bs)"
   ]
  },
  {
   "cell_type": "code",
   "execution_count": null,
   "metadata": {},
   "outputs": [],
   "source": [
    "xb, yb = ni(databunch.train_dl)\n",
    "xb = xb[1]\n",
    "yb = to_np(yb)\n",
    "\n",
    "xb_valid, yb_valid = ni(databunch.valid_dl)\n",
    "xb_valid, yb_valid = xb_valid[1], to_np(yb_valid)"
   ]
  },
  {
   "cell_type": "code",
   "execution_count": null,
   "metadata": {},
   "outputs": [],
   "source": [
    "# learner.load('400_amended-3-7_2019-04-18_23:05:30');\n",
    "learner.load('best_lstm_1000_amended-3-7_2019-04-27_22:13:46', purge=False);\n",
    "\n",
    "model = learner.model\n",
    "model.eval()\n",
    "model.reset()\n",
    "input = (torch.zeros(len(xb), dtype=torch.long).cuda(), xb.cuda())\n",
    "pb = model(*input)\n",
    "input = (torch.zeros(len(xb_valid), dtype=torch.long).cuda(), xb_valid.cuda())\n",
    "pb_valid = model(*input)\n",
    "\n",
    "# pb = denormalize(pb[0], *context.stat_y)\n",
    "pb = pb[0]\n",
    "pb = to_np(pb)\n",
    "pb_valid = pb_valid[0]\n",
    "pb_valid = to_np(pb_valid)"
   ]
  },
  {
   "cell_type": "code",
   "execution_count": null,
   "metadata": {},
   "outputs": [],
   "source": [
    "df_scores = pd.DataFrame({\n",
    "    'Train MAPD': [context.metrics(tensor(pb), tensor(yb)).item()],\n",
    "    'Valid MAPD': [context.metrics(tensor(pb_valid), tensor(yb_valid)).item()],\n",
    "})\n",
    "df_scores"
   ]
  },
  {
   "cell_type": "code",
   "execution_count": null,
   "metadata": {},
   "outputs": [],
   "source": [
    "mean = torch.zeros_like(tensor(pb_valid)).float()\n",
    "# input\n",
    "df_scores = pd.DataFrame({\n",
    "    'Train MAPD': [context.metrics(tensor(pb), tensor(yb)).item()],\n",
    "    'Valid MAPD': [context.metrics(tensor(pb_valid), tensor(yb_valid)).item()],\n",
    "    'Mean MAPD': [context.metrics(mean, tensor(yb_valid)).item()],\n",
    "})\n",
    "df_scores"
   ]
  },
  {
   "cell_type": "code",
   "execution_count": null,
   "metadata": {},
   "outputs": [],
   "source": [
    "i = 0\n",
    "# yb,pb = target,input\n",
    "# (np.abs(yb[:,i] - pb[:,i]) / yb[:,i]).mean()\n",
    "(np.abs(yb_valid - pb_valid) / yb_valid).mean()"
   ]
  },
  {
   "cell_type": "code",
   "execution_count": null,
   "metadata": {},
   "outputs": [],
   "source": [
    "# Now let's quickly train a random forest with various kinds of datasets\n",
    "from sklearn.ensemble import forest\n",
    "from sklearn.ensemble import RandomForestRegressor\n",
    "def set_rf_samples(n):\n",
    "    \"\"\" Changes Scikit learn's random forests to give each tree a random sample of\n",
    "    n random rows.\n",
    "    \"\"\"\n",
    "    forest._generate_sample_indices = (lambda rs, n_samples:\n",
    "        forest.check_random_state(rs).randint(0, n_samples, n))\n",
    "\n",
    "def reset_rf_samples():\n",
    "    \"\"\" Undoes the changes produced by set_rf_samples.\n",
    "    \"\"\"\n",
    "    forest._generate_sample_indices = (lambda rs, n_samples:\n",
    "        forest.check_random_state(rs).randint(0, n_samples, n_samples))\n",
    "def print_score(m):\n",
    "    res = [m.score(X_train, y_train), m.score(X_valid, y_valid)]\n",
    "    if hasattr(m, 'oob_score_'): res.append(m.oob_score_)\n",
    "    print(res)\n",
    "    \n",
    "def rf_feat_importance(m, df):\n",
    "    return pd.DataFrame({'cols':df.columns, 'imp':m.feature_importances_}\n",
    "                       ).sort_values('imp', ascending=False)"
   ]
  },
  {
   "cell_type": "code",
   "execution_count": null,
   "metadata": {},
   "outputs": [],
   "source": [
    "# set_rf_samples(100)\n",
    "reset_rf_samples()"
   ]
  },
  {
   "cell_type": "code",
   "execution_count": null,
   "metadata": {},
   "outputs": [],
   "source": [
    "# load training and validation data\n",
    "# context = Context('amended-1-no_noise', debug=0, dep_var=dep_var2, mulr=1, gpu_start=9)\n",
    "context = Context('amended-3-7', debug=0, dep_var=dep_var2, mulr=7, gpu_start=gpu_start)\n",
    "databunch = MultiDeptTabularDataBunch.from_df('tmp', context.cyc_cont, context.dep_var, valid_idx=context.valid_idx_tile, bs=context.bs)"
   ]
  },
  {
   "cell_type": "code",
   "execution_count": null,
   "metadata": {},
   "outputs": [],
   "source": [
    "xb, yb = ni(databunch.train_dl)\n",
    "X_train, y_train = to_np(xb[1]), to_np(yb)\n",
    "\n",
    "xb, yb = ni(databunch.valid_dl)\n",
    "X_valid, y_valid = to_np(xb[1]), to_np(yb)"
   ]
  },
  {
   "cell_type": "code",
   "execution_count": null,
   "metadata": {},
   "outputs": [],
   "source": [
    "m = RandomForestRegressor(n_jobs=-1, n_estimators=80, oob_score=True, min_samples_leaf=1)\n",
    "m.fit(X_train, y_train)\n",
    "df_scores = pd.DataFrame({\n",
    "    'Train score': [m.score(X_train, y_train)],\n",
    "    'Valid score': [m.score(X_valid, y_valid)],\n",
    "    'OOB': [m.oob_score_]\n",
    "})\n",
    "df_scores"
   ]
  },
  {
   "cell_type": "code",
   "execution_count": null,
   "metadata": {},
   "outputs": [],
   "source": [
    "# m = RandomForestRegressor(n_jobs=-1, n_estimators=80, oob_score=True, min_samples_leaf=5)\n",
    "m = RandomForestRegressor(n_jobs=-1, n_estimators=40, oob_score=True, min_samples_leaf=3, max_features=0.2)\n",
    "m.fit(X_train, y_train)\n",
    "\n",
    "p_train, p_valid = m.predict(X_train), m.predict(X_valid)\n",
    "# random forest\n",
    "df_scores = pd.DataFrame({\n",
    "    'Train MAPD': [context.metrics(torch.tensor(p_train, dtype=torch.float), torch.tensor(y_train, dtype=torch.float)).item()],\n",
    "    'Valid MAPD': [context.metrics(torch.tensor(p_valid, dtype=torch.float), torch.tensor(y_valid, dtype=torch.float)).item()],\n",
    "    'Train score': [m.score(X_train, y_train)],\n",
    "    'Valid score': [m.score(X_valid, y_valid)],\n",
    "    'OOB': [m.oob_score_],\n",
    "})\n",
    "df_scores"
   ]
  },
  {
   "cell_type": "code",
   "execution_count": null,
   "metadata": {},
   "outputs": [],
   "source": [
    "# m = RandomForestRegressor(n_jobs=-1, n_estimators=80, oob_score=True, min_samples_leaf=5)\n",
    "m = RandomForestRegressor(n_jobs=-1, n_estimators=80, oob_score=True, min_samples_leaf=3, max_features=0.2)\n",
    "m.fit(X_train, y_train)\n",
    "\n",
    "p_train, p_valid = m.predict(X_train), m.predict(X_valid)\n",
    "# random forest\n",
    "df_scores = pd.DataFrame({\n",
    "    'Train MAPD': [context.metrics(torch.tensor(p_train, dtype=torch.float), torch.tensor(y_train, dtype=torch.float)).item()],\n",
    "    'Valid MAPD': [context.metrics(torch.tensor(p_valid, dtype=torch.float), torch.tensor(y_valid, dtype=torch.float)).item()],\n",
    "    'Train score': [m.score(X_train, y_train)],\n",
    "    'Valid score': [m.score(X_valid, y_valid)],\n",
    "    'OOB': [m.oob_score_],\n",
    "})\n",
    "df_scores"
   ]
  },
  {
   "cell_type": "code",
   "execution_count": null,
   "metadata": {},
   "outputs": [],
   "source": [
    "# m = RandomForestRegressor(n_jobs=-1, n_estimators=80, oob_score=True, min_samples_leaf=5)\n",
    "m = RandomForestRegressor(n_jobs=-1, n_estimators=80, oob_score=True, min_samples_leaf=3, max_features=0.5)\n",
    "m.fit(X_train, y_train)\n",
    "\n",
    "p_train, p_valid = m.predict(X_train), m.predict(X_valid)\n",
    "# random forest\n",
    "df_scores = pd.DataFrame({\n",
    "    'Train MAPD': [context.metrics(torch.tensor(p_train, dtype=torch.float), torch.tensor(y_train, dtype=torch.float)).item()],\n",
    "    'Valid MAPD': [context.metrics(torch.tensor(p_valid, dtype=torch.float), torch.tensor(y_valid, dtype=torch.float)).item()],\n",
    "    'Train score': [m.score(X_train, y_train)],\n",
    "    'Valid score': [m.score(X_valid, y_valid)],\n",
    "    'OOB': [m.oob_score_],\n",
    "})\n",
    "df_scores"
   ]
  },
  {
   "cell_type": "code",
   "execution_count": null,
   "metadata": {},
   "outputs": [],
   "source": [
    "# load training and validation data\n",
    "# context = Context('amended-1-no_noise', debug=0, dep_var=dep_var2, mulr=1, gpu_start=9)\n",
    "context = Context('amended-3-less-features-7', debug=0, dep_var=dep_var2, mulr=7, gpu_start=gpu_start)\n",
    "databunch = MultiDeptTabularDataBunch.from_df('tmp', context.cyc_cont, context.dep_var, valid_idx=context.valid_idx_tile, bs=context.bs)"
   ]
  },
  {
   "cell_type": "code",
   "execution_count": null,
   "metadata": {},
   "outputs": [],
   "source": [
    "# m = RandomForestRegressor(n_jobs=-1, n_estimators=80, oob_score=True, min_samples_leaf=5)\n",
    "m = RandomForestRegressor(n_jobs=-1, n_estimators=80, oob_score=True, min_samples_leaf=3, max_features=0.5)\n",
    "m.fit(X_train, y_train)\n",
    "\n",
    "p_train, p_valid = m.predict(X_train), m.predict(X_valid)\n",
    "# random forest\n",
    "df_scores = pd.DataFrame({\n",
    "    'Train MAPD': [context.metrics(torch.tensor(p_train, dtype=torch.float), torch.tensor(y_train, dtype=torch.float)).item()],\n",
    "    'Valid MAPD': [context.metrics(torch.tensor(p_valid, dtype=torch.float), torch.tensor(y_valid, dtype=torch.float)).item()],\n",
    "    'Train score': [m.score(X_train, y_train)],\n",
    "    'Valid score': [m.score(X_valid, y_valid)],\n",
    "    'OOB': [m.oob_score_],\n",
    "})\n",
    "df_scores"
   ]
  },
  {
   "cell_type": "code",
   "execution_count": null,
   "metadata": {},
   "outputs": [],
   "source": [
    "p_valid.shape"
   ]
  },
  {
   "cell_type": "code",
   "execution_count": null,
   "metadata": {},
   "outputs": [],
   "source": [
    "y_true = denormalize(y_valid, *context.stat_y)\n",
    "y_lstm = denormalize(pb_valid, *context.stat_y)\n",
    "y_rf = denormalize(p_valid, *context.stat_y)"
   ]
  },
  {
   "cell_type": "code",
   "execution_count": null,
   "metadata": {},
   "outputs": [],
   "source": [
    "i = 1\n",
    "(np.abs(y_true[:,i] - y_lstm[:,i]) / y_true[:,i]).mean()"
   ]
  },
  {
   "cell_type": "code",
   "execution_count": null,
   "metadata": {},
   "outputs": [],
   "source": [
    "np.mean()"
   ]
  },
  {
   "cell_type": "code",
   "execution_count": null,
   "metadata": {},
   "outputs": [],
   "source": [
    "df_valid_result = pd.DataFrame({\n",
    "    'F_true': y_true[:,0],\n",
    "    'T_true': y_true[:,1],\n",
    "    'F_lstm': y_lstm[:,0],\n",
    "    'T_lstm': y_lstm[:,1],\n",
    "    'F_rf': y_rf[:,0],\n",
    "    'T_rf': y_rf[:,1],\n",
    "})"
   ]
  },
  {
   "cell_type": "code",
   "execution_count": null,
   "metadata": {},
   "outputs": [],
   "source": [
    "df_valid_result.to_csv('plots/pred.csv')"
   ]
  },
  {
   "cell_type": "markdown",
   "metadata": {},
   "source": [
    "# submit random forest result\n"
   ]
  },
  {
   "cell_type": "code",
   "execution_count": null,
   "metadata": {},
   "outputs": [],
   "source": [
    "xb_test = to_np(xb)"
   ]
  },
  {
   "cell_type": "code",
   "execution_count": null,
   "metadata": {},
   "outputs": [],
   "source": [
    "pb = m.predict(xb_test)\n",
    "\n",
    "pb = denormalize(pb, *context.stat_y)"
   ]
  },
  {
   "cell_type": "code",
   "execution_count": null,
   "metadata": {},
   "outputs": [],
   "source": [
    "output_template = 'tbmData/test/附件3 测试结果提交格式.csv'\n",
    "template = pd.read_csv(output_template,encoding='gbk')\n",
    "\n",
    "template.iloc[:,1:3] = pb\n",
    "template"
   ]
  },
  {
   "cell_type": "code",
   "execution_count": null,
   "metadata": {},
   "outputs": [],
   "source": [
    "submit_dir = Path('submissions/submission-4-26')\n",
    "submit_dir.mkdir(parents=True,exist_ok=True)\n",
    "template.to_csv(str(submit_dir/'Result_test_51-100.csv'), float_format='%.1f',index=None, encoding='gbk')"
   ]
  },
  {
   "cell_type": "code",
   "execution_count": null,
   "metadata": {},
   "outputs": [],
   "source": [
    "display_all(rf_feat_importance(m, context.cyc_cont.iloc[:,:-2]))"
   ]
  },
  {
   "cell_type": "code",
   "execution_count": null,
   "metadata": {},
   "outputs": [],
   "source": []
  }
 ],
 "metadata": {
  "kernelspec": {
   "display_name": "Python 3",
   "language": "python",
   "name": "python3"
  },
  "language_info": {
   "codemirror_mode": {
    "name": "ipython",
    "version": 3
   },
   "file_extension": ".py",
   "mimetype": "text/x-python",
   "name": "python",
   "nbconvert_exporter": "python",
   "pygments_lexer": "ipython3",
   "version": "3.7.3"
  }
 },
 "nbformat": 4,
 "nbformat_minor": 2
}
