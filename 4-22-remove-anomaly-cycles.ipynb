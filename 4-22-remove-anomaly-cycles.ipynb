{
 "cells": [
  {
   "cell_type": "code",
   "execution_count": null,
   "metadata": {},
   "outputs": [],
   "source": [
    "%matplotlib inline\n",
    "%reload_ext autoreload\n",
    "%autoreload 2\n",
    "\n",
    "from config import *"
   ]
  },
  {
   "cell_type": "code",
   "execution_count": null,
   "metadata": {},
   "outputs": [],
   "source": [
    "# context = Context('amended-1-no_noise', debug=0, dep_var=dep_var2, mulr=0, load_data=False)\n",
    "# context = Context('amended-3-less-features-no-anomaly-7', debug=0, dep_var=dep_var2, mulr=7, load_data=False)\n",
    "context = Context('amended-3-less-features-no-anomaly-7', debug=0, dep_var=dep_var2, mulr=7, load_data=False)"
   ]
  },
  {
   "cell_type": "markdown",
   "metadata": {},
   "source": [
    "# data"
   ]
  },
  {
   "cell_type": "code",
   "execution_count": null,
   "metadata": {},
   "outputs": [],
   "source": [
    "# list existing data files\n",
    "print('Existing data files:', [o.stem for o in Path(context.fn_feather).parent.glob('*.feather')])\n",
    "\n",
    "fmtr = DataFormatter(context, cycle_feathers=context.fn_cycles)\n",
    "cycles = fmtr.cycles # shorten notation\n",
    "# fmtr.drop_redundent_columns() # already done for cycles\n",
    "idx = fmtr.beginning_index()"
   ]
  },
  {
   "cell_type": "code",
   "execution_count": null,
   "metadata": {},
   "outputs": [],
   "source": [
    "# anomaly range\n",
    "a_range = pd.read_csv('tbmData/不良地质条件桩号范围.csv', header=None)"
   ]
  },
  {
   "cell_type": "code",
   "execution_count": null,
   "metadata": {},
   "outputs": [],
   "source": [
    "a_range.iloc[:,0] - a_range.iloc[:,1]"
   ]
  },
  {
   "cell_type": "code",
   "execution_count": null,
   "metadata": {},
   "outputs": [],
   "source": [
    "less_features"
   ]
  },
  {
   "cell_type": "code",
   "execution_count": null,
   "metadata": {},
   "outputs": [],
   "source": [
    "less_features = dep_var1 + dep_var2 + ['桩号', '给定频率', '刀盘速度给定']\n",
    "less_features = tuple(less_features)\n",
    "cycles_less = cycles.loc[:,less_features]\n",
    "cycles_less.head()"
   ]
  },
  {
   "cell_type": "code",
   "execution_count": null,
   "metadata": {},
   "outputs": [],
   "source": [
    "t_range = [(cycles_less.loc[i,'桩号'].iloc[0], cycles_less.loc[i,'桩号'].iloc[-1]) for i in cycles_less.index.levels[0]]\n",
    "t_range = pd.DataFrame(t_range)"
   ]
  },
  {
   "cell_type": "code",
   "execution_count": null,
   "metadata": {},
   "outputs": [],
   "source": [
    "a_idx = []\n",
    "for a_r in a_range.values:\n",
    "    is_in = (a_r - t_range).product(1) < 0\n",
    "    a_idx.extend(np.where(is_in.values)[0].tolist())\n",
    "\n",
    "# a_idx = tuple(a_idx)"
   ]
  },
  {
   "cell_type": "code",
   "execution_count": null,
   "metadata": {},
   "outputs": [],
   "source": [
    "len(a_idx)"
   ]
  },
  {
   "cell_type": "code",
   "execution_count": null,
   "metadata": {},
   "outputs": [],
   "source": [
    "t = cycles_less.drop(index=list(a_idx))\n",
    "# t = t.reset_index(level=0, drop=True)\n",
    "\n",
    "cycles_less = t"
   ]
  },
  {
   "cell_type": "code",
   "execution_count": null,
   "metadata": {},
   "outputs": [],
   "source": [
    "plots(cycles_less.loc[735]);"
   ]
  },
  {
   "cell_type": "markdown",
   "metadata": {},
   "source": [
    "target data format: `[flattened matrix: 30x150, extra cont: 1x2, extra cat: n]`\n",
    "\n",
    "parameters: cat_names\n",
    "\n",
    "Use no cat for now"
   ]
  },
  {
   "cell_type": "code",
   "execution_count": null,
   "metadata": {},
   "outputs": [],
   "source": [
    "fmtr.cycles = cycles_less"
   ]
  },
  {
   "cell_type": "code",
   "execution_count": null,
   "metadata": {},
   "outputs": [],
   "source": [
    "df_conts, stat_x = fmtr.get_x(normalize=True)\n",
    "extra_x = fmtr.get_extra_x_task2()\n",
    "deps = fmtr.get_y()\n",
    "stat_y = [o.loc[context.dep_var] for o in stat_x]\n",
    "stat_extra_x = [o.loc[dep_var1] for o in stat_x]\n",
    "train_cont = flatten_and_cat(df_conts, [extra_x, deps], sl=context.sl)"
   ]
  },
  {
   "cell_type": "code",
   "execution_count": null,
   "metadata": {},
   "outputs": [],
   "source": [
    "train_cont.to_feather(context.fn_feather)\n",
    "np.savez_compressed(context.fn_np, idx=idx, stat_x=stat_x, stat_y=stat_y, stat_extra_x=stat_extra_x)\n",
    "context.fn_feather"
   ]
  },
  {
   "cell_type": "code",
   "execution_count": null,
   "metadata": {},
   "outputs": [],
   "source": [
    "# context = Context('amended-1-no_noise', debug=0, dep_var=dep_var2, mulr=1, gpu_start=9)\n",
    "# context = Context('amended-2-7', debug=0, dep_var=dep_var2, mulr=7, gpu_start=8)\n",
    "context = Context('amended-3-less-features-7', debug=0, dep_var=dep_var2, mulr=7, gpu_start=8)\n",
    "databunch = MultiDeptTabularDataBunch.from_df('tmp', context.cyc_cont, context.dep_var, valid_idx=context.valid_idx_tile, bs=context.bs)"
   ]
  },
  {
   "cell_type": "code",
   "execution_count": null,
   "metadata": {},
   "outputs": [],
   "source": [
    "x, y = ni(databunch.train_dl)\n",
    "[o.shape for o in x], y.shape"
   ]
  },
  {
   "cell_type": "code",
   "execution_count": null,
   "metadata": {},
   "outputs": [],
   "source": [
    "x[1]"
   ]
  },
  {
   "cell_type": "markdown",
   "metadata": {},
   "source": [
    "# model"
   ]
  },
  {
   "cell_type": "code",
   "execution_count": null,
   "metadata": {},
   "outputs": [],
   "source": [
    "hyper_params = {\n",
    "    'use_extra_x': 1,\n",
    "    'n_hidden': 400,\n",
    "    'n_layers': 3,\n",
    "    'hidden_p': 0.3,\n",
    "    'input_p': 0.4,\n",
    "    'weight_p': 0.5,\n",
    "    'drops': [0.4] * 4,\n",
    "    'alpha': 2.,\n",
    "    'beta': 1.,\n",
    "    'clip': 0.5,\n",
    "    'loss_func': MSELossFlat()\n",
    "}\n",
    "hyper_params['layers'] = [3*(context.n_cont) + int(hyper_params['use_extra_x']) * 3, 5*context.n_cont, 5, len(context.dep_var)]"
   ]
  },
  {
   "cell_type": "code",
   "execution_count": null,
   "metadata": {},
   "outputs": [],
   "source": [
    "emb_sz = 3 # use rule of thumb later\n",
    "model = Task2Model(context.n_cont,emb_sz, hyper_params['n_hidden'], hyper_params['n_layers'], hyper_params['layers'], hyper_params['drops'], \n",
    "                  hidden_p=hyper_params['hidden_p'], input_p=hyper_params['input_p'], weight_p=hyper_params['weight_p'], use_extra_x=hyper_params['use_extra_x'])\n",
    "model = model.cuda()\n",
    "\n",
    "p, raw_outputs, outputs = model(*x)"
   ]
  },
  {
   "cell_type": "code",
   "execution_count": null,
   "metadata": {},
   "outputs": [],
   "source": [
    "learner = get_new_model(context, databunch, hyper_params)"
   ]
  },
  {
   "cell_type": "code",
   "execution_count": null,
   "metadata": {},
   "outputs": [],
   "source": [
    "learner.lr_find()\n",
    "\n",
    "learner.recorder.plot()"
   ]
  },
  {
   "cell_type": "code",
   "execution_count": null,
   "metadata": {},
   "outputs": [],
   "source": [
    "learner.fit(30, lr=1e-1)"
   ]
  },
  {
   "cell_type": "code",
   "execution_count": null,
   "metadata": {},
   "outputs": [],
   "source": [
    "learner.fit(40, lr=1e-2)"
   ]
  },
  {
   "cell_type": "code",
   "execution_count": null,
   "metadata": {},
   "outputs": [],
   "source": []
  },
  {
   "cell_type": "code",
   "execution_count": null,
   "metadata": {},
   "outputs": [],
   "source": [
    "learner.fit(20, lr=1e-2)"
   ]
  },
  {
   "cell_type": "code",
   "execution_count": null,
   "metadata": {},
   "outputs": [],
   "source": [
    "learner.save('new_model_test')"
   ]
  },
  {
   "cell_type": "code",
   "execution_count": null,
   "metadata": {},
   "outputs": [],
   "source": [
    "npz = np.load(context.fn_np)"
   ]
  },
  {
   "cell_type": "code",
   "execution_count": null,
   "metadata": {},
   "outputs": [],
   "source": [
    "npz['stat_y']"
   ]
  },
  {
   "cell_type": "code",
   "execution_count": null,
   "metadata": {},
   "outputs": [],
   "source": [
    "extra = denormalize(context.cyc_cont.iloc[:,-4:-2], *npz['stat_extra_x'])"
   ]
  },
  {
   "cell_type": "code",
   "execution_count": null,
   "metadata": {},
   "outputs": [],
   "source": [
    "extra.mean(), extra.std()"
   ]
  },
  {
   "cell_type": "code",
   "execution_count": null,
   "metadata": {},
   "outputs": [],
   "source": []
  }
 ],
 "metadata": {
  "kernelspec": {
   "display_name": "Python 3",
   "language": "python",
   "name": "python3"
  },
  "language_info": {
   "codemirror_mode": {
    "name": "ipython",
    "version": 3
   },
   "file_extension": ".py",
   "mimetype": "text/x-python",
   "name": "python",
   "nbconvert_exporter": "python",
   "pygments_lexer": "ipython3",
   "version": "3.7.3"
  }
 },
 "nbformat": 4,
 "nbformat_minor": 2
}
