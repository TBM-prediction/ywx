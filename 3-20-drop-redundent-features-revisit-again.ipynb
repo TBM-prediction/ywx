{
 "cells": [
  {
   "cell_type": "code",
   "execution_count": null,
   "metadata": {},
   "outputs": [],
   "source": [
    "%matplotlib inline\n",
    "%reload_ext autoreload\n",
    "%autoreload 2\n",
    "\n",
    "# all columns\n",
    "# name scheme: columns-num_cycles-sl-noise\n",
    "from config import *\n",
    "context = Context('2-23-redundent-features', fn_cycles='tbmData/cycles1', debug=0, mulr=0, load_data=False)"
   ]
  },
  {
   "cell_type": "code",
   "execution_count": null,
   "metadata": {},
   "outputs": [],
   "source": [
    "fmtr = DataFormatter(context, cycle_feathers=context.fn_cycles)\n",
    "cycles = fmtr.cycles # shorten notation\n",
    "\n",
    "# idx = fmtr.beginning_index()\n",
    "# df_conts, stat_x = fmtr.get_x()\n",
    "# deps, stat_y = fmtr.get_y(normalize=True)\n",
    "# train_cont = flatten_and_cat(df_conts, deps, sl=context.sl)"
   ]
  },
  {
   "cell_type": "code",
   "execution_count": null,
   "metadata": {},
   "outputs": [],
   "source": [
    "std = cycles.std()"
   ]
  },
  {
   "cell_type": "code",
   "execution_count": null,
   "metadata": {},
   "outputs": [],
   "source": [
    "std.shape, cycles.shape"
   ]
  },
  {
   "cell_type": "code",
   "execution_count": null,
   "metadata": {},
   "outputs": [],
   "source": [
    "std[:5], cycles.columns[:5]"
   ]
  },
  {
   "cell_type": "code",
   "execution_count": null,
   "metadata": {},
   "outputs": [],
   "source": [
    "cycles.drop(columns='运行时间', inplace=True)\n",
    "cycles.drop(columns=cycles.columns[std == 0], inplace=True)"
   ]
  },
  {
   "cell_type": "code",
   "execution_count": null,
   "metadata": {},
   "outputs": [],
   "source": [
    "cycles.shape"
   ]
  },
  {
   "cell_type": "code",
   "execution_count": null,
   "metadata": {},
   "outputs": [],
   "source": [
    "from scipy.cluster import hierarchy as hc\n",
    "corr = np.round(scipy.stats.spearmanr(cycles).correlation, 4)\n",
    "corr_condensed = hc.distance.squareform(1-corr)\n",
    "z = hc.linkage(corr_condensed, method='average')"
   ]
  },
  {
   "cell_type": "code",
   "execution_count": null,
   "metadata": {},
   "outputs": [],
   "source": [
    "def distance(c1, c2):\n",
    "    columns = cycles.columns.tolist()\n",
    "    print(corr[columns.index(c1), columns.index(c2)])\n",
    "distance('时间戳', '刀盘运行时间')"
   ]
  },
  {
   "cell_type": "code",
   "execution_count": null,
   "metadata": {},
   "outputs": [],
   "source": [
    "fig = plt.figure(figsize=(30,70))\n",
    "dendrogram = hc.dendrogram(z, labels=cycles.columns, \n",
    "      orientation='left', leaf_font_size=20)\n",
    "set_ax_font(fig.axes[0])\n",
    "# ax.plot()\n",
    "plt.savefig('spearmanr-dendrogram.pdf')"
   ]
  },
  {
   "cell_type": "markdown",
   "metadata": {},
   "source": [
    "find the correlated variables with 时间戳 and exclude that from being dropped\n",
    "\n",
    "Nope, this chance is gone\n",
    "\n",
    "运行时间"
   ]
  },
  {
   "cell_type": "code",
   "execution_count": null,
   "metadata": {},
   "outputs": [],
   "source": []
  },
  {
   "cell_type": "code",
   "execution_count": null,
   "metadata": {},
   "outputs": [],
   "source": []
  },
  {
   "cell_type": "code",
   "execution_count": null,
   "metadata": {},
   "outputs": [],
   "source": [
    "# drop sensors 2#, 6#, 8#, preserving 10#\n",
    "to_drop = ['主驱动2#电机输出功率', '主驱动6#电机输出功率', '主驱动8#电机输出功率', '主驱动2#电机电流', '主驱动5#电机电流', '主驱动8#电机电流', '主驱动2#电机扭矩', '主驱动6#电机扭矩', '主驱动8#电机扭矩', '主驱动2#电机输出频率', '主驱动6#电机输出频率', '主驱动8#电机输出频率',\n",
    "                     '减速机5#温度', '减速机4#温度', '减速机9#温度', '减速机3#温度', '减速机2#温度', '减速机7#温度', '减速机6#温度', '减速机8#温度', # drop anything other than 10# to be consistant with above\n",
    "                     '主驱动3#电机输出频率', '主驱动3#电机输出功率', '主驱动3#电机扭矩', \n",
    "                     # drop 7#, 5#, preserving 9\n",
    "                     '主驱动7#电机扭矩', '主驱动5#电机扭矩', '主驱动7#电机输出功率', '主驱动5#电机输出功率', '主驱动7#电机电流', '主驱动5#电机电流', '主驱动7#电机输出频率', '主驱动5#电机输出频率',\n",
    "                     '推进速度.1', '推进给定速度百分比', '右推进油缸行程检测', '刀盘运行时间', #'时间戳'?\n",
    "                     '二次风机频率设置', '推进压力', '刀盘给定转速显示值', '刀盘转速电位器设定值', '变频柜回水温度报警值', '拖车尾部CH4浓度', '污水箱压力检测']\n",
    "[o for o in to_drop if o not in cycles.columns] # sanity check"
   ]
  },
  {
   "cell_type": "code",
   "execution_count": null,
   "metadata": {},
   "outputs": [],
   "source": []
  },
  {
   "cell_type": "code",
   "execution_count": null,
   "metadata": {},
   "outputs": [],
   "source": []
  },
  {
   "cell_type": "code",
   "execution_count": null,
   "metadata": {},
   "outputs": [],
   "source": [
    "def evaluate_and_score():\n",
    "    context = Context('removed_redundent2-full-30-7', gpu_start=8, dep_var=dep_var1, debug=0, mulr=7)\n",
    "    databunch = MultiDeptTabularDataBunch.from_df('tmp', context.cyc_cont, context.dep_var, valid_idx=context.valid_idx_tile, bs=context.bs)\n",
    "    "
   ]
  }
 ],
 "metadata": {
  "kernelspec": {
   "display_name": "Python 3",
   "language": "python",
   "name": "python3"
  },
  "language_info": {
   "codemirror_mode": {
    "name": "ipython",
    "version": 3
   },
   "file_extension": ".py",
   "mimetype": "text/x-python",
   "name": "python",
   "nbconvert_exporter": "python",
   "pygments_lexer": "ipython3",
   "version": "3.7.2"
  },
  "notify_time": "10"
 },
 "nbformat": 4,
 "nbformat_minor": 2
}
