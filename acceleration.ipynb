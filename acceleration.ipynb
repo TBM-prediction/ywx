{
 "cells": [
  {
   "cell_type": "code",
   "execution_count": null,
   "metadata": {},
   "outputs": [],
   "source": [
    "%matplotlib inline\n",
    "%reload_ext autoreload\n",
    "%autoreload 2\n",
    "\n",
    "# import jtplot submodule from jupyterthemes\n",
    "from jupyterthemes import jtplot\n",
    "\n",
    "# currently installed theme will be used to\n",
    "# set plot style if no arguments provided\n",
    "jtplot.style()\n",
    "\n",
    "from preprocessing import *\n",
    "\n",
    "data_path = Path('tbmData/data')\n",
    "fn_txt = sorted(data_path.glob('*.txt')); print(fn_txt[:5])"
   ]
  },
  {
   "cell_type": "code",
   "execution_count": null,
   "metadata": {},
   "outputs": [],
   "source": [
    "formatter = DataFormatter(fn_txt[:3])\n",
    "df_raw = formatter.df_raw\n",
    "formatter.remove_noise()\n",
    "formatter.remove_anomaly()\n",
    "formatter.cycles1()"
   ]
  },
  {
   "cell_type": "code",
   "execution_count": null,
   "metadata": {},
   "outputs": [],
   "source": [
    "ax = None\n",
    "for cyc in formatter.cycles:\n",
    "    ax = plots(get_interesting_columns(cyc.reset_index()), cols=1, figsize=20, ax=ax);"
   ]
  },
  {
   "cell_type": "code",
   "execution_count": null,
   "metadata": {},
   "outputs": [],
   "source": [
    "display_all(formatter.cycles[0].head().T)"
   ]
  },
  {
   "cell_type": "code",
   "execution_count": null,
   "metadata": {},
   "outputs": [],
   "source": [
    "[o['桩号'][0] for o in formatter.cycles]"
   ]
  },
  {
   "cell_type": "markdown",
   "metadata": {},
   "source": [
    "## select columns"
   ]
  },
  {
   "cell_type": "code",
   "execution_count": null,
   "metadata": {},
   "outputs": [],
   "source": [
    "cyc = formatter.cycles[0]"
   ]
  },
  {
   "cell_type": "code",
   "execution_count": null,
   "metadata": {},
   "outputs": [],
   "source": [
    "plots(cyc, cols=3, unit_figsize=(8, 3));"
   ]
  },
  {
   "cell_type": "code",
   "execution_count": null,
   "metadata": {},
   "outputs": [],
   "source": [
    "cols = [cyc[['推进速度', '刀盘扭矩', '刀盘功率', '总推进力', '主驱动1#电机输出功率', '刀盘转速']] for cyc in formatter.cycles]"
   ]
  },
  {
   "cell_type": "code",
   "execution_count": null,
   "metadata": {},
   "outputs": [],
   "source": [
    "for c in cols:\n",
    "    plots(c.iloc[:300], cols=3, unit_figsize=(8, 3));"
   ]
  },
  {
   "cell_type": "code",
   "execution_count": null,
   "metadata": {},
   "outputs": [],
   "source": [
    "c = cols[2]\n",
    "plots(c.iloc[:300], cols=3, unit_figsize=(8, 3));\n",
    "for w in range(1, 10, 2):\n",
    "    plots(c.iloc[:300].rolling(w, center=True).mean(), cols=3, unit_figsize=(8, 3));"
   ]
  },
  {
   "cell_type": "code",
   "execution_count": null,
   "metadata": {},
   "outputs": [],
   "source": [
    "for c in cols:\n",
    "    plots(c.iloc[:300].rolling(10, center=True).mean(), cols=3, unit_figsize=(8, 3));"
   ]
  },
  {
   "cell_type": "code",
   "execution_count": null,
   "metadata": {},
   "outputs": [],
   "source": [
    "def rolling_cumsum(df):\n",
    "    df = df.rolling(10, center=True).mean()\n",
    "    diff = df['刀盘功率'].diff()\n",
    "    diff[diff<0] = 0\n",
    "    return diff.cumsum()"
   ]
  },
  {
   "cell_type": "code",
   "execution_count": null,
   "metadata": {},
   "outputs": [],
   "source": [
    "for c in cols:\n",
    "    c = c.iloc[:300]\n",
    "    plots(pd.DataFrame(rolling_cumsum(c)), unit_figsize=(8, 3))\n",
    "    plots(c.rolling(10, center=True).mean(), cols=3, unit_figsize=(8, 3));"
   ]
  },
  {
   "cell_type": "code",
   "execution_count": null,
   "metadata": {},
   "outputs": [],
   "source": [
    "for c in cols:\n",
    "    c = c.iloc[:300]\n",
    "    plots(pd.DataFrame(rolling_cumsum(c)), unit_figsize=(8, 3))\n",
    "    plots(c.rolling(10, center=True).mean(), cols=3, unit_figsize=(8, 3));"
   ]
  },
  {
   "cell_type": "code",
   "execution_count": null,
   "metadata": {},
   "outputs": [],
   "source": [
    "def beginning_index(df):\n",
    "    cs = rolling_cumsum(df)\n",
    "    cs = cs > 100\n",
    "    return cs.idxmax()"
   ]
  },
  {
   "cell_type": "code",
   "execution_count": null,
   "metadata": {},
   "outputs": [],
   "source": [
    "[beginning_index(c) for c in cols]"
   ]
  },
  {
   "cell_type": "code",
   "execution_count": null,
   "metadata": {},
   "outputs": [],
   "source": [
    "for c in cols:\n",
    "    c = c.iloc[:300]\n",
    "    b = beginning_index(c)\n",
    "    plots(pd.DataFrame(rolling_cumsum(c)), unit_figsize=(8, 3))\n",
    "    plots(c.rolling(10, center=True).mean(), cols=3, unit_figsize=(8, 3), title=str(b));"
   ]
  },
  {
   "cell_type": "code",
   "execution_count": null,
   "metadata": {},
   "outputs": [],
   "source": [
    "input_features = ['']"
   ]
  },
  {
   "cell_type": "code",
   "execution_count": null,
   "metadata": {},
   "outputs": [],
   "source": []
  },
  {
   "cell_type": "code",
   "execution_count": null,
   "metadata": {},
   "outputs": [],
   "source": []
  }
 ],
 "metadata": {
  "kernelspec": {
   "display_name": "Python 3",
   "language": "python",
   "name": "python3"
  },
  "language_info": {
   "codemirror_mode": {
    "name": "ipython",
    "version": 3
   },
   "file_extension": ".py",
   "mimetype": "text/x-python",
   "name": "python",
   "nbconvert_exporter": "python",
   "pygments_lexer": "ipython3",
   "version": "3.7.1"
  }
 },
 "nbformat": 4,
 "nbformat_minor": 2
}
