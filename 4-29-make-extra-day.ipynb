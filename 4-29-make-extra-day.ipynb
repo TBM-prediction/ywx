{
 "cells": [
  {
   "cell_type": "code",
   "execution_count": null,
   "metadata": {},
   "outputs": [],
   "source": [
    "%matplotlib inline\n",
    "%reload_ext autoreload\n",
    "%autoreload 2\n",
    "\n",
    "from config import *"
   ]
  },
  {
   "cell_type": "code",
   "execution_count": null,
   "metadata": {},
   "outputs": [],
   "source": [
    "n_cont = 2\n",
    "n_cat = [5, 6]\n",
    "cat_names = ['围岩等级', '岩性']\n",
    "context = Context('amended-3-7-extra', \n",
    "                  fn_cycles='tbmData/extra_data',\n",
    "                  debug=0, dep_var=dep_var2 + cat_names, mulr=7, gpu_start=6, load_data=False)"
   ]
  },
  {
   "cell_type": "code",
   "execution_count": null,
   "metadata": {},
   "outputs": [],
   "source": [
    "fmtr = DataFormatter(context, cycle_feathers=context.fn_cycles)\n",
    "fmtr.cycles = fmtr.cycles.iloc[:,:-1]\n",
    "# fmtr.drop_redundent_columns() # already done for cycles\n",
    "idx = fmtr.beginning_index()\n",
    "\n",
    "dropped = np.load('tbmData/cycles-removed-redundent-columns/dropped.npy').tolist()\n",
    "fmtr.cycles.drop(columns=dropped+['EP2次数设置', '刀盘喷水增压泵压力'], inplace=True, errors='ignore')"
   ]
  },
  {
   "cell_type": "code",
   "execution_count": null,
   "metadata": {},
   "outputs": [],
   "source": [
    "extra_x_var = ['桩号'] + dep_var1\n",
    "df_conts, stat_x = fmtr.get_x(normalize=True)#, stat_x=stat_x)"
   ]
  },
  {
   "cell_type": "code",
   "execution_count": null,
   "metadata": {},
   "outputs": [],
   "source": [
    "stat_x_old = np.load('tbmData/feather/amended-3-7.npz')['stat_x']\n",
    "for i in range(2):\n",
    "    stat_x[i][:] = stat_x_old[i]"
   ]
  },
  {
   "cell_type": "code",
   "execution_count": null,
   "metadata": {},
   "outputs": [],
   "source": [
    "extra_x_var = ['桩号'] + dep_var1\n",
    "df_conts, stat_x = fmtr.get_x(normalize=True, stat_x=stat_x)"
   ]
  },
  {
   "cell_type": "code",
   "execution_count": null,
   "metadata": {},
   "outputs": [],
   "source": [
    "# extra_x_var = ['桩号'] + dep_var1\n",
    "# df_conts, stat_x = fmtr.get_x(normalize=True)\n",
    "extra_x = fmtr.get_extra_x_task2()\n",
    "deps = fmtr.get_y()\n",
    "stat_y = [o.loc[context.dep_var] for o in stat_x]\n",
    "stat_extra_x = [o.loc[extra_x_var] for o in stat_x]\n",
    "train_cont = flatten_and_cat(df_conts, [extra_x, deps], sl=context.sl)\n",
    "train_cont = train_cont.iloc[:,:-2]"
   ]
  },
  {
   "cell_type": "code",
   "execution_count": null,
   "metadata": {},
   "outputs": [],
   "source": [
    "# load original\n",
    "context = Context('amended-3-7', debug=0, dep_var=dep_var2, mulr=7, gpu_start=9)"
   ]
  },
  {
   "cell_type": "code",
   "execution_count": null,
   "metadata": {},
   "outputs": [],
   "source": [
    "train_cont_full = pd.concat([train_cont, context.cyc_cont], 0, ignore_index=True, sort=False)"
   ]
  },
  {
   "cell_type": "code",
   "execution_count": null,
   "metadata": {},
   "outputs": [],
   "source": [
    "context.fn_feather"
   ]
  },
  {
   "cell_type": "code",
   "execution_count": null,
   "metadata": {},
   "outputs": [],
   "source": [
    "context.fn_np"
   ]
  },
  {
   "cell_type": "code",
   "execution_count": null,
   "metadata": {},
   "outputs": [],
   "source": [
    "train_cont_full.to_feather('tbmData/feather/amended-3-7-extra.feather')\n",
    "np.savez_compressed('tbmData/feather/amended-3-7-extra.npz', idx=idx, stat_x=stat_x, stat_y=stat_y, stat_extra_x=stat_extra_x)\n",
    "context.fn_feather"
   ]
  },
  {
   "cell_type": "markdown",
   "metadata": {},
   "source": [
    "# generate -cat"
   ]
  },
  {
   "cell_type": "code",
   "execution_count": null,
   "metadata": {},
   "outputs": [],
   "source": [
    "# super hacky\n",
    "fn_cycles = ('no',\n",
    "             list(Path('tbmData/cycles-removed-redundent-columns').glob('cycle*')) + list(Path('tbmData/extra_data/').glob('cycle*')))"
   ]
  },
  {
   "cell_type": "code",
   "execution_count": null,
   "metadata": {},
   "outputs": [],
   "source": [
    "# context = Context('amended-1-no_noise', debug=0, dep_var=dep_var2, mulr=1, gpu_start=9)\n",
    "context = Context('amended-3-7-extra', debug=0, dep_var=dep_var2, mulr=7, gpu_start=6, fn_cycles=fn_cycles)\n",
    "databunch = MultiDeptTabularDataBunch.from_df('tmp', context.cyc_cont, context.dep_var, valid_idx=context.valid_idx_tile, bs=context.bs)"
   ]
  },
  {
   "cell_type": "code",
   "execution_count": null,
   "metadata": {},
   "outputs": [],
   "source": [
    "# read context and append \n",
    "geo_raw = pd.read_csv('/home/wenxiang/datasets/tbm/geo_csv/geo2.1.csv', index_col=0)\n",
    "geo_cols = ['起始桩号', '最后桩号', '实际开挖围岩类别', '洞室部位主要岩性']\n",
    "geo = geo_raw.loc[:,geo_cols]\n",
    "# clean nan\n",
    "geo = geo.loc[geo.iloc[:,-1].notna()]\n",
    "zh = context.cyc_cont.iloc[:,-5]\n",
    "cat_names = geo.columns.tolist()\n",
    "\n",
    "idx_dep_var3 = []\n",
    "missing_idx = -1 #geo.shape[0] # last item + 1\n",
    "for z in list(zh):\n",
    "    is_within = ((z - geo.iloc[:,0]) * (z - geo.iloc[:,1])) < 0\n",
    "    if is_within.any():\n",
    "        idx_dep_var3.append(np.argmax(is_within.values))\n",
    "    else:\n",
    "        idx_dep_var3.append(missing_idx)\n",
    "\n",
    "dep_var3 = []\n",
    "for i in idx_dep_var3:\n",
    "    dep_var3.append(geo.iloc[i,2:].tolist() if i != missing_idx else ['oor', 'oor'])\n",
    "\n",
    "cycles = pd.concat([context.cyc_cont, pd.DataFrame(dep_var3, columns=['围岩等级', '岩性'])], axis=1)\n",
    "cat_names = cycles.columns[-2:]\n",
    "cont_names = cycles.columns[:-2]\n",
    "\n",
    "# simplify\n",
    "cat_1 = cycles.loc[:,cat_names[0]]\n",
    "III_idx = np.logical_or(cat_1 == 'Ⅲa', cat_1 == 'Ⅲb')\n",
    "cycles.loc[III_idx,cat_names[0]] = 'Ⅲ'\n",
    "IV_idx = np.logical_or(cat_1 == 'Ⅳ好', cat_1 == 'Ⅳ差')\n",
    "cycles.loc[IV_idx,cat_names[0]] = 'Ⅳ'\n",
    "\n",
    "cat_2 = cycles.loc[:,cat_names[1]]\n",
    "idx = cat_2 == '花岗岩，不连续分布有三叠系凝灰岩，累计55m'\n",
    "cycles.loc[idx,cat_names[1]] = '花岗岩'\n",
    "\n",
    "cf = Categorify(cat_names, cont_names)\n",
    "cf.apply_train(cycles)\n",
    "\n",
    "fn_feather = Path(context.fn_feather)\n",
    "new_fn_feather = fn_feather.parent / (fn_feather.stem + '-cat' + fn_feather.suffix)\n",
    "cycles.to_feather(new_fn_feather)\n",
    "# copy npz manually"
   ]
  },
  {
   "cell_type": "code",
   "execution_count": null,
   "metadata": {},
   "outputs": [],
   "source": [
    "decycles.iloc[:,-4]"
   ]
  },
  {
   "cell_type": "markdown",
   "metadata": {},
   "source": [
    "# run"
   ]
  },
  {
   "cell_type": "code",
   "execution_count": null,
   "metadata": {},
   "outputs": [],
   "source": [
    "%matplotlib inline\n",
    "%reload_ext autoreload\n",
    "%autoreload 2\n",
    "\n",
    "from config import *"
   ]
  },
  {
   "cell_type": "code",
   "execution_count": null,
   "metadata": {},
   "outputs": [],
   "source": [
    "n_cont = 2\n",
    "n_cat = [5, 6]\n",
    "cat_names = ['围岩等级', '岩性']\n",
    "\n",
    "# context = Context('amended-1-no_noise', debug=0, dep_var=dep_var2, mulr=1, gpu_start=9)\n",
    "context = Context('amended-3-7-extra-cat', debug=0, dep_var=dep_var2 + cat_names, mulr=7, gpu_start=5)\n",
    "cycles = context.cyc_cont\n",
    "\n",
    "# un-categorify\n",
    "cat_columns = []\n",
    "for cat_name in cat_names:\n",
    "    cat_columns.append(cycles.loc[:,cat_name])\n",
    "    cycles.loc[:,cat_name] = cycles.loc[:,cat_name].cat.codes.values\n",
    "    \n",
    "databunch = MultiDeptTabularDataBunch.from_df('tmp', cycles, context.dep_var, valid_idx=context.valid_idx_tile, bs=context.bs)"
   ]
  },
  {
   "cell_type": "markdown",
   "metadata": {},
   "source": [
    "# model"
   ]
  },
  {
   "cell_type": "code",
   "execution_count": null,
   "metadata": {},
   "outputs": [],
   "source": [
    "hyper_params = {\n",
    "    'use_extra_x': 1,\n",
    "    'n_hidden': 1000,\n",
    "    'n_layers': 3,\n",
    "    'hidden_p': 0.075,\n",
    "    'input_p': 0.1,\n",
    "    'weight_p': 0.125,\n",
    "    'drops': [0.1] * 4,\n",
    "    'alpha': 2.,\n",
    "    'beta': 1.,\n",
    "    'clip': 0.5,\n",
    "    'loss_func': DualLoss(n_cont, n_cat, 0.1)\n",
    "}\n",
    "\n",
    "hyper_params['layers'] = [3*(context.n_cont) + int(hyper_params['use_extra_x']) * 3, 1000, 13]\n",
    "learner = get_new_model(context, databunch, hyper_params)\n",
    "\n",
    "learner.fit(60, lr=1e-1)"
   ]
  },
  {
   "cell_type": "code",
   "execution_count": null,
   "metadata": {},
   "outputs": [],
   "source": [
    "lr = 1e-2\n",
    "time_str = time.strftime(\"%Y-%m-%d_%H:%M:%S\")\n",
    "save_name = '_'.join(['final-no-extra-day', str(hyper_params['n_hidden']),context.exp_name,time_str])\n",
    "callbacks = [SaveModelCallback(learner, name=save_name , every='improvement', monitor='MAPD', mode='min')]\n",
    "learner.fit(50, lr, callbacks=callbacks)\n",
    "learner.recorder.plot_metrics()"
   ]
  },
  {
   "cell_type": "code",
   "execution_count": null,
   "metadata": {},
   "outputs": [],
   "source": [
    "xb_valid, yb_valid = ni(databunch.train_dl)\n",
    "yb_valid = to_np(yb_valid)"
   ]
  },
  {
   "cell_type": "code",
   "execution_count": null,
   "metadata": {},
   "outputs": [],
   "source": [
    "model = learner.model\n",
    "model.eval()\n",
    "model.reset()\n",
    "pb_valid = model(*xb_valid)[0]\n",
    "\n",
    "# pb = denormalize(pb[0], *context.stat_y)\n",
    "# pb = pb[0]\n",
    "# pb = to_np(pb)\n",
    "# pb_valid = pb_valid[0]\n",
    "# pb_valid = to_np(pb_valid)"
   ]
  },
  {
   "cell_type": "code",
   "execution_count": null,
   "metadata": {},
   "outputs": [],
   "source": []
  },
  {
   "cell_type": "code",
   "execution_count": null,
   "metadata": {},
   "outputs": [],
   "source": [
    "denormalize(yb_valid, *context.stat_y)[:,:2].argmin()\n",
    "denormalize(yb_valid, *context.stat_y)[:,:2][4154//2-5]"
   ]
  },
  {
   "cell_type": "code",
   "execution_count": null,
   "metadata": {},
   "outputs": [],
   "source": [
    "hyper_params['layers']"
   ]
  },
  {
   "cell_type": "code",
   "execution_count": null,
   "metadata": {},
   "outputs": [],
   "source": [
    "p_cont, p_cat = pb_valid[:,:n_cont], pb_valid[:,n_cont:]\n",
    "\n",
    "cat_idx_zip = [0] + hyper_params['loss_func'].cat_idx.tolist()\n",
    "p_cat_tasks = []\n",
    "for i,j in zip(cat_idx_zip[:-1], cat_idx_zip[1:]):\n",
    "    p_cat_tasks.append(to_np(p_cat[:,i:j]))\n",
    "\n",
    "p1, p2 = [o.argmax(1) for o in p_cat_tasks]"
   ]
  },
  {
   "cell_type": "code",
   "execution_count": null,
   "metadata": {},
   "outputs": [],
   "source": [
    "class_names = cat_columns[0].cat.categories\n",
    "\n",
    "y_test = yb_valid[:,-2].astype(np.int)\n",
    "y_pred = p1\n",
    "plot_confusion_matrix(y_test, y_pred, classes=class_names,\n",
    "                      title='Confusion matrix, without normalization')\n",
    "plot_confusion_matrix(y_test, y_pred, classes=class_names, normalize=True,\n",
    "                      title='Normalized confusion matrix')"
   ]
  },
  {
   "cell_type": "code",
   "execution_count": null,
   "metadata": {},
   "outputs": [],
   "source": [
    "class_names = cat_columns[1].cat.categories\n",
    "y_test = yb_valid[:,-1].astype(np.int)\n",
    "y_pred = p2\n",
    "plot_confusion_matrix(y_test, y_pred, classes=class_names, normalize=True,\n",
    "                      title='Normalized confusion matrix')\n",
    "set_ax_font(plt.gca())"
   ]
  },
  {
   "cell_type": "code",
   "execution_count": null,
   "metadata": {},
   "outputs": [],
   "source": []
  }
 ],
 "metadata": {
  "kernelspec": {
   "display_name": "Python 3",
   "language": "python",
   "name": "python3"
  },
  "language_info": {
   "codemirror_mode": {
    "name": "ipython",
    "version": 3
   },
   "file_extension": ".py",
   "mimetype": "text/x-python",
   "name": "python",
   "nbconvert_exporter": "python",
   "pygments_lexer": "ipython3",
   "version": "3.7.3"
  }
 },
 "nbformat": 4,
 "nbformat_minor": 2
}
