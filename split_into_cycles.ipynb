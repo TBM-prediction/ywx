{
 "cells": [
  {
   "cell_type": "code",
   "execution_count": null,
   "metadata": {},
   "outputs": [],
   "source": [
    "%matplotlib inline\n",
    "%reload_ext autoreload\n",
    "%autoreload 2\n",
    "\n",
    "from config import *"
   ]
  },
  {
   "cell_type": "code",
   "execution_count": null,
   "metadata": {},
   "outputs": [],
   "source": [
    "data_path = Path('tbmData/data/')\n",
    "fn_txt = sorted(data_path.glob('*.txt'))\n",
    "fn_txt[:3]"
   ]
  },
  {
   "cell_type": "code",
   "execution_count": null,
   "metadata": {},
   "outputs": [],
   "source": [
    "context = Context('check-cycle-split', debug=0, mulr=1, load_data=False)"
   ]
  },
  {
   "cell_type": "code",
   "execution_count": null,
   "metadata": {},
   "outputs": [],
   "source": [
    "len(context.fn_txt)"
   ]
  },
  {
   "cell_type": "code",
   "execution_count": null,
   "metadata": {},
   "outputs": [],
   "source": [
    "raw_txt = pd.read_csv(context.fn_txt[500], sep='\\t', index_col=False, low_memory=False)"
   ]
  },
  {
   "cell_type": "code",
   "execution_count": null,
   "metadata": {},
   "outputs": [],
   "source": [
    "(raw_txt['推进速度'] > 300).sum()"
   ]
  },
  {
   "cell_type": "code",
   "execution_count": null,
   "metadata": {},
   "outputs": [],
   "source": [
    "print(f'file name: {context.fn_txt[500]}')\n",
    "begins, ends = zero_boundary(raw_txt['推进速度'])\n",
    "zeros_length = [(f'起始点：{b}',f'长度{e-b}') for b,e in zip(begins,ends)]\n",
    "zeros_length"
   ]
  },
  {
   "cell_type": "code",
   "execution_count": null,
   "metadata": {},
   "outputs": [],
   "source": [
    "plt.figure(figsize=(40,10))\n",
    "raw_txt['推进速度'].plot()"
   ]
  },
  {
   "cell_type": "code",
   "execution_count": null,
   "metadata": {},
   "outputs": [],
   "source": [
    "ax = plt.figure(figsize=(40,10))\n",
    "ax = raw_txt[['推进速度']].iloc[43834-10:44000].plot(ax=plt.gca())\n",
    "ax = raw_txt[['推进速度']].iloc[43834-10:44000].rolling(30, center=True).mean().plot(ax=plt.gca())\n",
    "set_ax_font(ax)"
   ]
  },
  {
   "cell_type": "code",
   "execution_count": null,
   "metadata": {},
   "outputs": [],
   "source": [
    "ax = plt.figure(figsize=(40,10))\n",
    "ax = raw_txt[['推进速度']].iloc[51459-50:52000].plot(ax=plt.gca())\n",
    "ax = raw_txt[['推进速度']].iloc[51459-50:52000].rolling(30, center=True).mean().plot(ax=plt.gca())\n",
    "set_ax_font(ax)"
   ]
  },
  {
   "cell_type": "code",
   "execution_count": null,
   "metadata": {},
   "outputs": [],
   "source": [
    "ax = plt.figure(figsize=(40,10))\n",
    "ax = raw_txt[['推进速度']].iloc[4144-100:4144+100].plot(ax=plt.gca())\n",
    "set_ax_font(ax)"
   ]
  },
  {
   "cell_type": "code",
   "execution_count": null,
   "metadata": {},
   "outputs": [],
   "source": []
  }
 ],
 "metadata": {
  "kernelspec": {
   "display_name": "Python 3",
   "language": "python",
   "name": "python3"
  },
  "language_info": {
   "codemirror_mode": {
    "name": "ipython",
    "version": 3
   },
   "file_extension": ".py",
   "mimetype": "text/x-python",
   "name": "python",
   "nbconvert_exporter": "python",
   "pygments_lexer": "ipython3",
   "version": "3.7.3"
  }
 },
 "nbformat": 4,
 "nbformat_minor": 2
}
