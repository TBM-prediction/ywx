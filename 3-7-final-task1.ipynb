{
 "cells": [
  {
   "cell_type": "code",
   "execution_count": null,
   "metadata": {},
   "outputs": [],
   "source": []
  },
  {
   "cell_type": "code",
   "execution_count": null,
   "metadata": {},
   "outputs": [],
   "source": [
    "%matplotlib inline\n",
    "%reload_ext autoreload\n",
    "%autoreload 2\n",
    "\n",
    "from config import *\n",
    "# context = Context('final-task-1', gpu_start=9, dep_var=dep_var1, debug=0, mulr=7, fn_feather='tbmData/feather/removed_redundent1-full-30-7.feather')\n",
    "context = Context('final-task-1', gpu_start=9, dep_var=dep_var1, debug=0, mulr=12, fn_feather='tbmData/feather/removed_redundent1-full-30-14.feather')\n",
    "# context = Context('final-task-1', gpu_start=9, dep_var=dep_var1, debug=0, mulr=1, fn_feather='tbmData/feather/removed_redundent1-full-30-no_noise.feather')\n",
    "databunch = MultiDeptTabularDataBunch.from_df('tmp', context.cyc_cont, context.dep_var, valid_idx=context.valid_idx_tile, bs=context.bs)"
   ]
  },
  {
   "cell_type": "code",
   "execution_count": null,
   "metadata": {
    "code_folding": []
   },
   "outputs": [],
   "source": [
    "hyper_params = {\n",
    "    'n_hidden': 200,\n",
    "    'n_layers': 3,\n",
    "    'hidden_p': 0.3,\n",
    "    'input_p': 0.6,\n",
    "    'weight_p': 0.5,\n",
    "    'layers': [3*context.n_cont, 5, len(context.dep_var)],\n",
    "    'drops': [0.2] * 3,\n",
    "    'alpha': 2.,\n",
    "    'beta': 1.,\n",
    "    'clip': 0.5,\n",
    "    'loss_func': MSELossFlat()\n",
    "}\n",
    "learner = get_cont_model(context, databunch, hyper_params)"
   ]
  },
  {
   "cell_type": "code",
   "execution_count": null,
   "metadata": {},
   "outputs": [],
   "source": [
    "x, y = ni(databunch.train_dl)"
   ]
  },
  {
   "cell_type": "code",
   "execution_count": null,
   "metadata": {},
   "outputs": [],
   "source": [
    "p = learner.model(*x)"
   ]
  },
  {
   "cell_type": "code",
   "execution_count": null,
   "metadata": {},
   "outputs": [],
   "source": [
    "# with experiment.train():\n",
    "lr = 1e-0\n",
    "learner.fit_one_cycle(20, lr)"
   ]
  },
  {
   "cell_type": "code",
   "execution_count": null,
   "metadata": {},
   "outputs": [],
   "source": [
    "# with experiment.train():\n",
    "lr = 1e-1\n",
    "learner.fit_one_cycle(50, lr)\n",
    "learner.recorder.plot_metrics()"
   ]
  },
  {
   "cell_type": "code",
   "execution_count": null,
   "metadata": {},
   "outputs": [],
   "source": [
    "# with experiment.train():\n",
    "lr = 1e-2\n",
    "time_str = time.strftime(\"%Y-%m-%d_%H:%M:%S\")\n",
    "save_name = '_'.join([str(hyper_params['n_hidden']),context.exp_name,time_str])\n",
    "callbacks = [SaveModelCallback(learner, name=save_name , every='improvement', monitor='MAPD', mode='min')]\n",
    "learner.fit(50, lr, callbacks=callbacks)"
   ]
  },
  {
   "cell_type": "code",
   "execution_count": null,
   "metadata": {},
   "outputs": [],
   "source": [
    "# with experiment.train():\n",
    "lr = 1e-3\n",
    "time_str = time.strftime(\"%Y-%m-%d_%H:%M:%S\")\n",
    "save_name = '_'.join([str(hyper_params['n_hidden']),context.exp_name,time_str])\n",
    "callbacks = [SaveModelCallback(learner, name=save_name , every='improvement', monitor='MAPD', mode='min')]\n",
    "learner.fit(50, lr, callbacks=callbacks)\n",
    "learner.recorder.plot_metrics()"
   ]
  },
  {
   "cell_type": "code",
   "execution_count": null,
   "metadata": {},
   "outputs": [],
   "source": [
    "# with experiment.train():\n",
    "lr = 1e-4\n",
    "time_str = time.strftime(\"%Y-%m-%d_%H:%M:%S\")\n",
    "save_name = '_'.join([str(hyper_params['n_hidden']),context.exp_name,time_str])\n",
    "callbacks = [SaveModelCallback(learner, name=save_name , every='improvement', monitor='MAPD', mode='min')]\n",
    "learner.fit(50, lr, callbacks=callbacks)\n",
    "learner.recorder.plot_metrics()"
   ]
  },
  {
   "cell_type": "code",
   "execution_count": null,
   "metadata": {},
   "outputs": [],
   "source": [
    "# with experiment.train():\n",
    "lr = 1e-5\n",
    "time_str = time.strftime(\"%Y-%m-%d_%H:%M:%S\")\n",
    "save_name = '_'.join([hyper_params['n_hidden'],context.exp_name,time_str])\n",
    "callbacks = [SaveModelCallback(learner, name=save_name , every='improvement', monitor='MAPD')]\n",
    "learner.fit(50, lr, callbacks=callbacks)\n",
    "learner.recorder.plot_metrics()"
   ]
  },
  {
   "cell_type": "code",
   "execution_count": null,
   "metadata": {},
   "outputs": [],
   "source": []
  },
  {
   "cell_type": "code",
   "execution_count": null,
   "metadata": {},
   "outputs": [],
   "source": []
  },
  {
   "cell_type": "code",
   "execution_count": null,
   "metadata": {},
   "outputs": [],
   "source": []
  },
  {
   "cell_type": "code",
   "execution_count": null,
   "metadata": {},
   "outputs": [],
   "source": []
  },
  {
   "cell_type": "code",
   "execution_count": null,
   "metadata": {},
   "outputs": [],
   "source": []
  },
  {
   "cell_type": "code",
   "execution_count": null,
   "metadata": {},
   "outputs": [],
   "source": []
  }
 ],
 "metadata": {
  "celltoolbar": "Tags",
  "kernelspec": {
   "display_name": "Python 3",
   "language": "python",
   "name": "python3"
  },
  "language_info": {
   "codemirror_mode": {
    "name": "ipython",
    "version": 3
   },
   "file_extension": ".py",
   "mimetype": "text/x-python",
   "name": "python",
   "nbconvert_exporter": "python",
   "pygments_lexer": "ipython3",
   "version": "3.7.3"
  },
  "notify_time": "10",
  "varInspector": {
   "cols": {
    "lenName": 16,
    "lenType": 16,
    "lenVar": 40
   },
   "kernels_config": {
    "python": {
     "delete_cmd_postfix": "",
     "delete_cmd_prefix": "del ",
     "library": "var_list.py",
     "varRefreshCmd": "print(var_dic_list())"
    },
    "r": {
     "delete_cmd_postfix": ") ",
     "delete_cmd_prefix": "rm(",
     "library": "var_list.r",
     "varRefreshCmd": "cat(var_dic_list()) "
    }
   },
   "types_to_exclude": [
    "module",
    "function",
    "builtin_function_or_method",
    "instance",
    "_Feature"
   ],
   "window_display": false
  }
 },
 "nbformat": 4,
 "nbformat_minor": 2
}
