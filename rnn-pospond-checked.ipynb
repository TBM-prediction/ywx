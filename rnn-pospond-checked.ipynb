{
 "cells": [
  {
   "cell_type": "code",
   "execution_count": null,
   "metadata": {},
   "outputs": [],
   "source": [
    "%matplotlib inline\n",
    "%reload_ext autoreload\n",
    "%autoreload 2\n",
    "\n",
    "from config import *\n",
    "# config = Config(debug=False, sl=30, selected_columns=True, postpond=10)\n",
    "config = Config(debug=False, sl=200, selected_columns=True, postpond=0)\n",
    "# config = Config(debug=True, sl=30, selected_columns=True, postpond=10)\n",
    "torch.cuda.set_device(config.gpu_start); torch.ones((1, 1)).cuda(); # wakeup gpu"
   ]
  },
  {
   "cell_type": "code",
   "execution_count": null,
   "metadata": {},
   "outputs": [],
   "source": [
    "fns_feathers = sorted(config.fn_cycles.glob('cycle*'))[:config.num_cycles]\n",
    "fmtr = DataFormatter(cycle_feathers=fns_feathers)\n",
    "cycles = fmtr.cycles\n",
    "# if not config.selected_columns: config.cont_names = [o for o in cycles.loc[0].columns[2:] if o not in config.dep_var]\n",
    "idx = fmtr.beginning_index(postpond=config.postpond)"
   ]
  },
  {
   "cell_type": "code",
   "execution_count": null,
   "metadata": {},
   "outputs": [],
   "source": [
    "df_conts = tile_with_noise(cycles, idx, config, normalize=True)\n",
    "deps = fmtr.get_y(config.dep_var)\n",
    "deps = pd.concat([deps]*config.mulr).reset_index(drop=True)\n",
    "cyc_cont = flatten_and_cat(df_conts, deps, sl=config.sl)"
   ]
  },
  {
   "cell_type": "code",
   "execution_count": null,
   "metadata": {},
   "outputs": [],
   "source": [
    "save_fn = 'tmp/rnn-postponed-checked'\n",
    "cyc_cont.to_feather(save_fn + '.cycle')\n",
    "np.savez_compressed(save_fn + '.idx', idx=idx)"
   ]
  },
  {
   "cell_type": "code",
   "execution_count": null,
   "metadata": {},
   "outputs": [],
   "source": [
    "rnndb = MultiDeptTabularDataBunch.from_df('tmp', cyc_cont, config.dep_var, valid_idx=config.valid_idx_tile, bs=config.bs, num_workers=0)"
   ]
  },
  {
   "cell_type": "code",
   "execution_count": null,
   "metadata": {
    "code_folding": []
   },
   "outputs": [],
   "source": [
    "# n_hidden, n_layers = config.n_cont * 5, 3\n",
    "n_hidden, n_layers = 100, 3\n",
    "# hidden_p, input_p, embed_p, weight_p = 0,0,0,0\n",
    "hidden_p, input_p, weight_p = 0.3, 0.6, 0.5\n",
    "\n",
    "rnn_enc = ContModel1(1, config.n_cont, n_hidden, n_layers, sl=config.sl,\n",
    "                     hidden_p=hidden_p, input_p=input_p, embed_p=0, weight_p=weight_p)\n",
    "\n",
    "layers = [3*config.n_cont, 5, 2]\n",
    "# drops = [0, 0, 0, 0]\n",
    "drops = [0.1] * 3\n",
    "model = MultiInputSequentialRNN(rnn_enc, PoolingLinearClassifier(layers, drops)).cuda()\n",
    "model.reset()\n",
    "\n",
    "# weight = cyc_cont[dep_var].max().values\n",
    "# weight = torch.tensor(weight[::-1] / weight.max(), dtype=torch.float32).cuda()\n",
    "\n",
    "# loss_func = weighted_rnn_mse(weight)\n",
    "# loss_func = weighted_our_loss(weight)\n",
    "loss_func = weighted_rnn_mse(torch.tensor([0., 1.]).cuda())\n",
    "# loss_func = mapd\n",
    "# loss_func = MSELossFlat()\n",
    "metrics = [mapd]\n",
    "learner = Learner(rnndb, model, loss_func=loss_func, metrics=metrics, opt_func=optim.SGD)\n",
    "\n",
    "from fastai.callbacks import *\n",
    "# learner.callback_fns += [ShowGraph, partial(SaveModelCallback, name='rnn0')]\n",
    "learner.callback_fns += [ShowGraph,]\n",
    "learner.callbacks += [TerminateOnNaNCallback()]\n",
    "alpha, beta = 2., 1.\n",
    "# alpha, beta = 1., 1.\n",
    "# alpha, beta = 0., 0.\n",
    "learner.callbacks.append(RNNTrainer(learner, config.sl, alpha=alpha, beta=beta))\n",
    "\n",
    "clip = 0.5\n",
    "learner.callback_fns.append(partial(GradientClipping, clip=clip))\n",
    "split_func = lambda x: list(x)\n",
    "# learner.split(split_func)\n",
    "learner.split(rnn_classifier_split)"
   ]
  },
  {
   "cell_type": "code",
   "execution_count": null,
   "metadata": {},
   "outputs": [],
   "source": [
    "learner.callback_fns[-1].keywords['clip'] = 0.5\n",
    "len(learner.layer_groups), learner.layer_groups"
   ]
  },
  {
   "cell_type": "code",
   "execution_count": null,
   "metadata": {},
   "outputs": [],
   "source": [
    "learner.unfreeze()\n",
    "learner.lr_find(num_it=50, end_lr=100)\n",
    "learner.recorder.plot(1,1)"
   ]
  },
  {
   "cell_type": "code",
   "execution_count": null,
   "metadata": {},
   "outputs": [],
   "source": [
    "lr = 1e-0\n",
    "lrs = np.array([0] + [lr/20, lr/10, lr/3] + [lr])\n",
    "# lrs = np.array(lr)\n",
    "learner.fit_one_cycle(20, lr)"
   ]
  },
  {
   "cell_type": "code",
   "execution_count": null,
   "metadata": {},
   "outputs": [],
   "source": [
    "learner.unfreeze()\n",
    "learner.lr_find(num_it=50)\n",
    "learner.recorder.plot(1,1)"
   ]
  },
  {
   "cell_type": "code",
   "execution_count": null,
   "metadata": {},
   "outputs": [],
   "source": [
    "lr = 1e-1\n",
    "lrs = np.array([0] + [lr/20, lr/10, lr/3] + [lr])\n",
    "learner.fit_one_cycle(20, lrs)"
   ]
  },
  {
   "cell_type": "code",
   "execution_count": null,
   "metadata": {},
   "outputs": [],
   "source": [
    "learner.unfreeze()\n",
    "learner.lr_find(num_it=100)\n",
    "learner.recorder.plot()"
   ]
  },
  {
   "cell_type": "code",
   "execution_count": null,
   "metadata": {},
   "outputs": [],
   "source": [
    "lr = 1e-3\n",
    "lrs = np.array([0] + [lr/20, lr/10, lr/3] + [lr])\n",
    "learner.fit_one_cycle(100, lrs)"
   ]
  },
  {
   "cell_type": "code",
   "execution_count": null,
   "metadata": {},
   "outputs": [],
   "source": [
    "learner.save('rnn-postpond0')"
   ]
  },
  {
   "cell_type": "code",
   "execution_count": null,
   "metadata": {},
   "outputs": [],
   "source": [
    "learner.load('rnn-postpond0');"
   ]
  },
  {
   "cell_type": "code",
   "execution_count": null,
   "metadata": {},
   "outputs": [],
   "source": [
    "children(learner.model)[0].train();"
   ]
  },
  {
   "cell_type": "code",
   "execution_count": null,
   "metadata": {},
   "outputs": [],
   "source": [
    "learner.model = learner.model.eval()\n",
    "# learner.model = learner.model.train()"
   ]
  },
  {
   "cell_type": "code",
   "execution_count": null,
   "metadata": {},
   "outputs": [],
   "source": [
    "# it = iter(learner.data.fix_dl)\n",
    "# it = iter(learner.data.train_dl)\n",
    "it = iter(learner.data.valid_dl)"
   ]
  },
  {
   "cell_type": "code",
   "execution_count": null,
   "metadata": {},
   "outputs": [],
   "source": [
    "# x, y = ni(learner.data.train_dl)\n",
    "# x, y = ni(learner.data.valid_dl)\n",
    "x, y = next(it)\n",
    "x[1] = x[1].requires_grad_()\n",
    "learner.model.reset()\n",
    "# y, p = y.cpu(), learner.model(*x)[0].exp().cpu()\n",
    "y, p = y.cpu(), learner.model(*x)[0].cpu()\n",
    "y[:,0], p[:,0] = 1,1\n",
    "y_np, p_np = to_np(y), to_np(p)\n",
    "# y_s, p_s = y_np[::mulr], p_np[::mulr]\n",
    "# our_metrics(y, p), our_metrics_np(y_np, p_np)\n",
    "# lf = weighted_rnn_mse(weight.cpu())\n",
    "l = mapd(p, y); l"
   ]
  },
  {
   "cell_type": "code",
   "execution_count": null,
   "metadata": {},
   "outputs": [],
   "source": [
    "s = 0\n",
    "x_np = to_np(x[1][s]).reshape(config.sl, config.n_cont)\n",
    "x_np.shape\n",
    "for feat in range_of(x_np[0]):\n",
    "#     plt.figure()\n",
    "    ax = plt.plot(x_np[:,feat])\n",
    "#     legend = plt.legend(config.cont_names[feat])\n",
    "#     set_font(legend.texts)"
   ]
  },
  {
   "cell_type": "code",
   "execution_count": null,
   "metadata": {},
   "outputs": [],
   "source": [
    "ax = cycles.loc[s,config.cont_names].iloc[idx[s]:idx[s]+config.sl].plot()\n",
    "set_font(ax.legend().texts)"
   ]
  },
  {
   "cell_type": "code",
   "execution_count": null,
   "metadata": {},
   "outputs": [],
   "source": [
    "i = 0\n",
    "plt.scatter(y_np[:,i], p_np[:,i]);"
   ]
  },
  {
   "cell_type": "code",
   "execution_count": null,
   "metadata": {},
   "outputs": [],
   "source": [
    "i = 1\n",
    "plt.scatter(y_np[:,i], p_np[:,i]);"
   ]
  },
  {
   "cell_type": "code",
   "execution_count": null,
   "metadata": {},
   "outputs": [],
   "source": [
    "# last timestep\n",
    "i, c, t = 0, 1, 29\n",
    "d = torch.autograd.grad(l, x[1], retain_graph=True)\n",
    "d = d[0][i,t*n_cont:(t+1)*n_cont]\n",
    "d_np = to_np(d)"
   ]
  },
  {
   "cell_type": "code",
   "execution_count": null,
   "metadata": {},
   "outputs": [],
   "source": [
    "# average along time axis\n",
    "i, c = 3, 1\n",
    "d = torch.autograd.grad(p[i,c], x[1], retain_graph=True)\n",
    "d = d[0][i].view(n_cont, -1)\n",
    "d_np = to_np(d)\n",
    "d_np = np.abs(d_np)\n",
    "d_np = d_np.mean(1)"
   ]
  },
  {
   "cell_type": "code",
   "execution_count": null,
   "metadata": {},
   "outputs": [],
   "source": [
    "impact = d_np.argsort()[::-1]\n",
    "cs = columns_x[impact]\n",
    "pprint(list(enumerate(zip(impact, d_np[impact], cs))))\n",
    "plots(cycles[i].loc[:,cs[:10]].iloc[idx[i]-50:idx[i]+100]);"
   ]
  },
  {
   "cell_type": "code",
   "execution_count": null,
   "metadata": {},
   "outputs": [],
   "source": [
    "# l x b x t x h\n",
    "l, b = 0, 0\n",
    "[(float(p[l][b][t].mean()), float(p[l][b][t].std())) for t in range(30)]"
   ]
  },
  {
   "cell_type": "code",
   "execution_count": null,
   "metadata": {},
   "outputs": [],
   "source": [
    "# l x b x t x h\n",
    "l, b, t = 0, 0, 1\n",
    "[(float(p[l][b][t].mean()), float(p[l][b][t].std())) for l in range(n_layers)]"
   ]
  },
  {
   "cell_type": "code",
   "execution_count": null,
   "metadata": {},
   "outputs": [],
   "source": []
  },
  {
   "cell_type": "code",
   "execution_count": null,
   "metadata": {},
   "outputs": [],
   "source": [
    "list(zip(y_np.tolist(), p_np.tolist()))"
   ]
  },
  {
   "cell_type": "code",
   "execution_count": null,
   "metadata": {},
   "outputs": [],
   "source": []
  },
  {
   "cell_type": "code",
   "execution_count": null,
   "metadata": {},
   "outputs": [],
   "source": [
    "i = 0\n",
    "plt.scatter(_s[:,i], y_s[:,i])"
   ]
  },
  {
   "cell_type": "code",
   "execution_count": null,
   "metadata": {},
   "outputs": [],
   "source": [
    "i = 1\n",
    "plt.scatter(p_s[:,i], y_s[:,i])"
   ]
  },
  {
   "cell_type": "code",
   "execution_count": null,
   "metadata": {},
   "outputs": [],
   "source": []
  },
  {
   "cell_type": "code",
   "execution_count": null,
   "metadata": {},
   "outputs": [],
   "source": []
  }
 ],
 "metadata": {
  "celltoolbar": "Tags",
  "kernelspec": {
   "display_name": "Python 3",
   "language": "python",
   "name": "python3"
  },
  "language_info": {
   "codemirror_mode": {
    "name": "ipython",
    "version": 3
   },
   "file_extension": ".py",
   "mimetype": "text/x-python",
   "name": "python",
   "nbconvert_exporter": "python",
   "pygments_lexer": "ipython3",
   "version": "3.7.2"
  },
  "notify_time": "10",
  "varInspector": {
   "cols": {
    "lenName": 16,
    "lenType": 16,
    "lenVar": 40
   },
   "kernels_config": {
    "python": {
     "delete_cmd_postfix": "",
     "delete_cmd_prefix": "del ",
     "library": "var_list.py",
     "varRefreshCmd": "print(var_dic_list())"
    },
    "r": {
     "delete_cmd_postfix": ") ",
     "delete_cmd_prefix": "rm(",
     "library": "var_list.r",
     "varRefreshCmd": "cat(var_dic_list()) "
    }
   },
   "types_to_exclude": [
    "module",
    "function",
    "builtin_function_or_method",
    "instance",
    "_Feature"
   ],
   "window_display": false
  }
 },
 "nbformat": 4,
 "nbformat_minor": 2
}
