{
 "cells": [
  {
   "cell_type": "code",
   "execution_count": null,
   "metadata": {
    "tags": [
     "#init"
    ]
   },
   "outputs": [],
   "source": [
    "%matplotlib inline\n",
    "%reload_ext autoreload\n",
    "%autoreload 2\n",
    "\n",
    "# import jtplot submodule from jupyterthemes\n",
    "from jupyterthemes import jtplot\n",
    "# currently installed theme will be used to\n",
    "# set plot style if no arguments provided\n",
    "jtplot.style()\n",
    "\n",
    "from preprocessing import *\n",
    "from mymodels import *\n",
    "from databunch import *\n",
    "\n",
    "data_path = Path('tbmData/data')\n",
    "fn_txt = sorted(data_path.glob('*.txt'))\n",
    "print(fn_txt[:3])\n",
    "fn_cycles = Path('tbmData/cycles1')\n",
    "\n",
    "# debug = True\n",
    "debug = False\n",
    "\n",
    "mulr = 50 if debug else 7\n",
    "\n",
    "selected_columns = False\n",
    "# selected_columns = True\n",
    "if selected_columns == True:\n",
    "    cont_names = ['推进速度', '主驱动1#电机扭矩', '刀盘功率', '刀盘扭矩', '刀盘转速','主液压油箱温度', '前点偏差X', '总推进力']\n",
    "    n_cont = len(cont_names)\n",
    "else:\n",
    "    n_cont = 5 if debug else 192\n",
    "\n",
    "num_cycles = 5 if debug else 3481\n",
    "# num_cycles = 5 if debug else 500\n",
    "\n",
    "valid_ratio = 0.2\n",
    "train_ratio = 1 - valid_ratio\n",
    "train_idx = np.arange(int(num_cycles * valid_ratio), num_cycles)\n",
    "valid_idx = np.arange(int(num_cycles * valid_ratio))\n",
    "train_idx_tile = (train_idx[:, None] + np.arange(mulr) * num_cycles).flatten()\n",
    "valid_idx_tile = (valid_idx[:, None] + np.arange(mulr) * num_cycles ).flatten()  # take from all tiles\n",
    "\n",
    "bs = int(num_cycles * train_ratio)\n",
    "sl = 30\n",
    "gpu_start = 3\n",
    "torch.cuda.set_device(gpu_start)\n",
    "# device_ids = range(gpu_start, gpu_start + num_gpus)\n",
    "\n",
    "is_problem1 = True\n",
    "# dep_var = ['桩号', '刀盘转速电位器设定值']    \n",
    "dep_var = ['推进速度电位器设定值', '刀盘转速电位器设定值']"
   ]
  },
  {
   "cell_type": "code",
   "execution_count": null,
   "metadata": {
    "tags": [
     "#cycles",
     "=>init"
    ]
   },
   "outputs": [],
   "source": [
    "postpond = 50\n",
    "fns_feathers = sorted(fn_cycles.glob('cycle*'))[:num_cycles]\n",
    "fmtr = DataFormatter(cycle_feathers=fns_feathers)\n",
    "cycles = fmtr.cycles\n",
    "idx = [beginning_index(o.iloc[:500]) + postpond for o in tqdm_notebook(cycles)]"
   ]
  },
  {
   "cell_type": "code",
   "execution_count": null,
   "metadata": {
    "tags": [
     "#df_conts",
     "=>cycles"
    ]
   },
   "outputs": [],
   "source": [
    "# cont_names = [o for o in cycles[0].columns[2:2+n_cont] if o not in dep_var]\n",
    "columns_x = cycles[0].columns[2:]\n",
    "cont_names = cont_names if selected_columns else [o for o in columns_x if o not in dep_var]\n",
    "df_conts = tile_with_noise(cycles, idx, mulr, cont_names)"
   ]
  },
  {
   "cell_type": "code",
   "execution_count": null,
   "metadata": {
    "code_folding": [],
    "tags": [
     "=>df_conts"
    ]
   },
   "outputs": [],
   "source": [
    "# eps = 1e-12\n",
    "deps = fmtr.get_y(dep_var)\n",
    "# deps.loc[:] = np.log(deps.values+eps)\n",
    "deps = pd.concat([deps]*mulr).reset_index(drop=True)\n",
    "cyc_cont = flatten_and_cat(df_conts, deps)"
   ]
  },
  {
   "cell_type": "code",
   "execution_count": null,
   "metadata": {},
   "outputs": [],
   "source": [
    "df_conts[0].head()"
   ]
  },
  {
   "cell_type": "code",
   "execution_count": null,
   "metadata": {},
   "outputs": [],
   "source": [
    "cyc_cont.columns.tolist()"
   ]
  },
  {
   "cell_type": "code",
   "execution_count": null,
   "metadata": {},
   "outputs": [],
   "source": [
    "valid_idx_tile = (valid_idx[:,None] + np.arange(mulr) * num_cycles).flatten() # take from all tiles\n",
    "# procs = []\n",
    "procs = [Normalize]\n",
    "databunch = MultiDeptTabularDataBunch.from_df('tmp', cyc_cont, dep_var, valid_idx=valid_idx_tile, bs=bs, procs=procs)\n",
    "\n",
    "rnndb = RNNDataBunch.create(databunch.train_ds, databunch.valid_ds, bs=bs)"
   ]
  },
  {
   "cell_type": "markdown",
   "metadata": {},
   "source": [
    "check input"
   ]
  },
  {
   "cell_type": "code",
   "execution_count": null,
   "metadata": {},
   "outputs": [],
   "source": [
    "it = iter(rnndb.train_dl)\n",
    "x, y = next(it)"
   ]
  },
  {
   "cell_type": "code",
   "execution_count": null,
   "metadata": {},
   "outputs": [],
   "source": [
    "x[1].shape"
   ]
  },
  {
   "cell_type": "code",
   "execution_count": null,
   "metadata": {},
   "outputs": [],
   "source": [
    "zh = [o.loc[:,'桩号'].iloc[0] for o in cycles]"
   ]
  },
  {
   "cell_type": "code",
   "execution_count": null,
   "metadata": {},
   "outputs": [],
   "source": [
    "z = sorted(zh)[50:]\n",
    "plt.scatter(range_of(z), z)"
   ]
  },
  {
   "cell_type": "code",
   "execution_count": null,
   "metadata": {},
   "outputs": [],
   "source": [
    "i = 1\n",
    "plots(cycles[i].iloc[idx[i]-50:idx[i]+100]);"
   ]
  },
  {
   "cell_type": "code",
   "execution_count": null,
   "metadata": {},
   "outputs": [],
   "source": []
  },
  {
   "cell_type": "code",
   "execution_count": null,
   "metadata": {},
   "outputs": [],
   "source": [
    "cyc_cont.to_feather('tmp/cyc_cont_all_6_debug')"
   ]
  },
  {
   "cell_type": "code",
   "execution_count": null,
   "metadata": {
    "tags": [
     "=>init"
    ]
   },
   "outputs": [],
   "source": [
    "#init\n",
    "cyc_cont = feather.read_dataframe('tmp/cyc_cont_all_6_debug')"
   ]
  },
  {
   "cell_type": "code",
   "execution_count": null,
   "metadata": {
    "tags": [
     "=>init"
    ]
   },
   "outputs": [],
   "source": [
    "#init\n",
    "cyc_cont = feather.read_dataframe('tmp/cyc_cont_all_allc')"
   ]
  },
  {
   "cell_type": "code",
   "execution_count": null,
   "metadata": {},
   "outputs": [],
   "source": [
    "valid_idx_tile = (valid_idx[:,None] + np.arange(mulr) * num_cycles).flatten() # take from all tiles\n",
    "# procs = []\n",
    "procs = [Normalize]\n",
    "databunch = MultiDeptTabularDataBunch.from_df('tmp', cyc_cont, dep_var, valid_idx=valid_idx_tile, bs=bs, procs=procs)\n",
    "\n",
    "rnndb = RNNDataBunch.create(databunch.train_ds, databunch.valid_ds, bs=bs)"
   ]
  },
  {
   "cell_type": "code",
   "execution_count": null,
   "metadata": {
    "code_folding": []
   },
   "outputs": [],
   "source": [
    "n_hidden, n_layers = n_cont * 3, 3\n",
    "# hidden_p, input_p, embed_p, weight_p = 0,0,0,0\n",
    "hidden_p, input_p, weight_p = 0.3, 0.6, 0.5\n",
    "\n",
    "rnn_enc = ContModel1(1, n_cont, n_hidden, n_layers, \n",
    "                     hidden_p=hidden_p, input_p=input_p, embed_p=0, weight_p=weight_p)\n",
    "\n",
    "layers = [3*n_cont, 5, 2]\n",
    "# drops = [0, 0, 0, 0]\n",
    "drops = [0.1] * 3\n",
    "# model = MultiInputSequentialRNN(rnn_enc, DummyModel(layers, drops)).cuda()\n",
    "# model = DummyContModel1(1, n_cont, n_hidden, n_layers)\n",
    "model = MultiInputSequentialRNN(rnn_enc, PoolingLinearClassifier(layers, drops)).cuda()\n",
    "model.reset()\n",
    "\n",
    "weight = cyc_cont[dep_var].max().values\n",
    "weight = torch.tensor(weight[::-1] / weight.max(), dtype=torch.float32).cuda()\n",
    "\n",
    "# loss_func = weighted_rnn_mse(weight)\n",
    "# loss_func = MSELossFlat()\n",
    "# loss_func = weighted_our_loss(weight)\n",
    "# loss_func = weighted_rnn_mse(torch.tensor([0., 1.]).cuda())\n",
    "loss_func = rnn_log_loss\n",
    "metrics = rnn_metrics\n",
    "learner = Learner(rnndb, model, loss_func=loss_func, metrics=metrics, opt_func=optim.SGD)\n",
    "\n",
    "from fastai.callbacks import *\n",
    "# learner.callback_fns += [ShowGraph, partial(SaveModelCallback, name='rnn0')]\n",
    "learner.callback_fns += [ShowGraph,]\n",
    "learner.callbacks += [TerminateOnNaNCallback()]\n",
    "alpha, beta = 2., 1.\n",
    "# alpha, beta = 1., 1.\n",
    "# alpha, beta = 0., 0.\n",
    "learner.callbacks.append(RNNTrainer(learner, sl, alpha=alpha, beta=beta))\n",
    "\n",
    "clip = 0.5\n",
    "learner.callback_fns.append(partial(GradientClipping, clip=clip))\n",
    "split_func = lambda x: list(x)\n",
    "# learner.split(split_func)\n",
    "learner.split(rnn_classifier_split)"
   ]
  },
  {
   "cell_type": "code",
   "execution_count": null,
   "metadata": {},
   "outputs": [],
   "source": [
    "learner.callback_fns[-1].keywords['clip'] = 0.5"
   ]
  },
  {
   "cell_type": "code",
   "execution_count": null,
   "metadata": {},
   "outputs": [],
   "source": [
    "len(learner.layer_groups)"
   ]
  },
  {
   "cell_type": "code",
   "execution_count": null,
   "metadata": {},
   "outputs": [],
   "source": [
    "learner.layer_groups"
   ]
  },
  {
   "cell_type": "code",
   "execution_count": null,
   "metadata": {},
   "outputs": [],
   "source": [
    "learner.unfreeze()\n",
    "learner.lr_find(num_it=50)\n",
    "learner.recorder.plot(1,1)"
   ]
  },
  {
   "cell_type": "code",
   "execution_count": null,
   "metadata": {},
   "outputs": [],
   "source": [
    "lr = 1e-0\n",
    "lrs = np.array([0] + [lr/20, lr/10, lr/3] + [lr])\n",
    "# lrs = np.array(lr)\n",
    "learner.fit_one_cycle(20, lr)"
   ]
  },
  {
   "cell_type": "code",
   "execution_count": null,
   "metadata": {},
   "outputs": [],
   "source": [
    "learner.unfreeze()\n",
    "learner.lr_find(num_it=50)\n",
    "learner.recorder.plot(1,1)"
   ]
  },
  {
   "cell_type": "code",
   "execution_count": null,
   "metadata": {},
   "outputs": [],
   "source": [
    "lr = 1e-1\n",
    "lrs = np.array([0] + [lr/20, lr/10, lr/3] + [lr])\n",
    "learner.fit_one_cycle(20, lrs)"
   ]
  },
  {
   "cell_type": "code",
   "execution_count": null,
   "metadata": {},
   "outputs": [],
   "source": [
    "learner.unfreeze()\n",
    "learner.lr_find(num_it=100)\n",
    "learner.recorder.plot()"
   ]
  },
  {
   "cell_type": "code",
   "execution_count": null,
   "metadata": {},
   "outputs": [],
   "source": [
    "lr = 1e-3\n",
    "lrs = np.array([0] + [lr/20, lr/10, lr/3] + [lr])\n",
    "learner.fit_one_cycle(100, lrs)"
   ]
  },
  {
   "cell_type": "code",
   "execution_count": null,
   "metadata": {},
   "outputs": [],
   "source": [
    "learner.save('rnn-postpond0')"
   ]
  },
  {
   "cell_type": "code",
   "execution_count": null,
   "metadata": {},
   "outputs": [],
   "source": [
    "learner.load('rnn-postpond0');"
   ]
  },
  {
   "cell_type": "code",
   "execution_count": null,
   "metadata": {},
   "outputs": [],
   "source": [
    "children(learner.model)[0].train();"
   ]
  },
  {
   "cell_type": "code",
   "execution_count": null,
   "metadata": {},
   "outputs": [],
   "source": [
    "learner.model = learner.model.eval()\n",
    "# learner.model = learner.model.train()"
   ]
  },
  {
   "cell_type": "code",
   "execution_count": null,
   "metadata": {},
   "outputs": [],
   "source": [
    "from pprint import pprint\n",
    "# it = iter(learner.data.valid_dl)\n",
    "it = iter(learner.data.train_dl)"
   ]
  },
  {
   "cell_type": "code",
   "execution_count": null,
   "metadata": {},
   "outputs": [],
   "source": [
    "# x, y = ni(learner.data.train_dl)\n",
    "# x, y = ni(learner.data.valid_dl)\n",
    "x, y = next(it)\n",
    "x[1] = x[1].requires_grad_()\n",
    "learner.model.reset()\n",
    "y, p = y.cpu(), learner.model(*x)[0].exp().cpu()\n",
    "y_np, p_np = to_np(y), to_np(p)\n",
    "y_s, p_s = y_np[::mulr], p_np[::mulr]\n",
    "# our_metrics(y, p), our_metrics_np(y_np, p_np)\n",
    "lf = weighted_rnn_mse(weight.cpu())\n",
    "l = our_metrics(p, y); l"
   ]
  },
  {
   "cell_type": "code",
   "execution_count": null,
   "metadata": {},
   "outputs": [],
   "source": [
    "x[1]"
   ]
  },
  {
   "cell_type": "code",
   "execution_count": null,
   "metadata": {},
   "outputs": [],
   "source": [
    "y"
   ]
  },
  {
   "cell_type": "code",
   "execution_count": null,
   "metadata": {},
   "outputs": [],
   "source": [
    "y"
   ]
  },
  {
   "cell_type": "code",
   "execution_count": null,
   "metadata": {},
   "outputs": [],
   "source": [
    "p"
   ]
  },
  {
   "cell_type": "code",
   "execution_count": null,
   "metadata": {},
   "outputs": [],
   "source": [
    "# last timestep\n",
    "i, c, t = 0, 1, 29\n",
    "d = torch.autograd.grad(l, x[1], retain_graph=True)\n",
    "d = d[0][i,t*n_cont:(t+1)*n_cont]\n",
    "d_np = to_np(d)"
   ]
  },
  {
   "cell_type": "code",
   "execution_count": null,
   "metadata": {},
   "outputs": [],
   "source": [
    "# average along time axis\n",
    "i, c = 3, 1\n",
    "d = torch.autograd.grad(p[i,c], x[1], retain_graph=True)\n",
    "d = d[0][i].view(n_cont, -1)\n",
    "d_np = to_np(d)\n",
    "d_np = np.abs(d_np)\n",
    "d_np = d_np.mean(1)"
   ]
  },
  {
   "cell_type": "code",
   "execution_count": null,
   "metadata": {},
   "outputs": [],
   "source": [
    "impact = d_np.argsort()[::-1]\n",
    "cs = columns_x[impact]\n",
    "pprint(list(enumerate(zip(impact, d_np[impact], cs))))\n",
    "plots(cycles[i].loc[:,cs[:10]].iloc[idx[i]-50:idx[i]+100]);"
   ]
  },
  {
   "cell_type": "code",
   "execution_count": null,
   "metadata": {},
   "outputs": [],
   "source": [
    "i = 0\n",
    "plt.scatter(y_s[:,i], p_s[:,i]);"
   ]
  },
  {
   "cell_type": "code",
   "execution_count": null,
   "metadata": {},
   "outputs": [],
   "source": [
    "i = 1\n",
    "plt.scatter(y_s[:,i], p_s[:,i]);"
   ]
  },
  {
   "cell_type": "code",
   "execution_count": null,
   "metadata": {},
   "outputs": [],
   "source": [
    "# l x b x t x h\n",
    "l, b = 0, 0\n",
    "[(float(p[l][b][t].mean()), float(p[l][b][t].std())) for t in range(30)]"
   ]
  },
  {
   "cell_type": "code",
   "execution_count": null,
   "metadata": {},
   "outputs": [],
   "source": [
    "# l x b x t x h\n",
    "l, b, t = 0, 0, 1\n",
    "[(float(p[l][b][t].mean()), float(p[l][b][t].std())) for l in range(n_layers)]"
   ]
  },
  {
   "cell_type": "code",
   "execution_count": null,
   "metadata": {},
   "outputs": [],
   "source": []
  },
  {
   "cell_type": "code",
   "execution_count": null,
   "metadata": {},
   "outputs": [],
   "source": [
    "list(zip(y_np.tolist(), p_np.tolist()))"
   ]
  },
  {
   "cell_type": "code",
   "execution_count": null,
   "metadata": {},
   "outputs": [],
   "source": []
  },
  {
   "cell_type": "code",
   "execution_count": null,
   "metadata": {},
   "outputs": [],
   "source": [
    "i = 0\n",
    "plt.scatter(_s[:,i], y_s[:,i])"
   ]
  },
  {
   "cell_type": "code",
   "execution_count": null,
   "metadata": {},
   "outputs": [],
   "source": [
    "i = 1\n",
    "plt.scatter(p_s[:,i], y_s[:,i])"
   ]
  },
  {
   "cell_type": "code",
   "execution_count": null,
   "metadata": {},
   "outputs": [],
   "source": []
  },
  {
   "cell_type": "code",
   "execution_count": null,
   "metadata": {},
   "outputs": [],
   "source": []
  }
 ],
 "metadata": {
  "celltoolbar": "Tags",
  "kernelspec": {
   "display_name": "Python 3",
   "language": "python",
   "name": "python3"
  },
  "language_info": {
   "codemirror_mode": {
    "name": "ipython",
    "version": 3
   },
   "file_extension": ".py",
   "mimetype": "text/x-python",
   "name": "python",
   "nbconvert_exporter": "python",
   "pygments_lexer": "ipython3",
   "version": "3.7.2"
  },
  "notify_time": "10",
  "varInspector": {
   "cols": {
    "lenName": 16,
    "lenType": 16,
    "lenVar": 40
   },
   "kernels_config": {
    "python": {
     "delete_cmd_postfix": "",
     "delete_cmd_prefix": "del ",
     "library": "var_list.py",
     "varRefreshCmd": "print(var_dic_list())"
    },
    "r": {
     "delete_cmd_postfix": ") ",
     "delete_cmd_prefix": "rm(",
     "library": "var_list.r",
     "varRefreshCmd": "cat(var_dic_list()) "
    }
   },
   "types_to_exclude": [
    "module",
    "function",
    "builtin_function_or_method",
    "instance",
    "_Feature"
   ],
   "window_display": false
  }
 },
 "nbformat": 4,
 "nbformat_minor": 2
}
