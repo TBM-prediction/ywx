{
 "cells": [
  {
   "cell_type": "markdown",
   "metadata": {},
   "source": [
    "Since the test data is split from training data, by finding the missing data in the training set, we can have a rough estimation of where the test data was taken."
   ]
  },
  {
   "cell_type": "code",
   "execution_count": null,
   "metadata": {},
   "outputs": [],
   "source": [
    "%matplotlib inline\n",
    "%reload_ext autoreload\n",
    "%autoreload 2\n",
    "\n",
    "from config import *"
   ]
  },
  {
   "cell_type": "code",
   "execution_count": null,
   "metadata": {},
   "outputs": [],
   "source": [
    "training_files = list(Path('tbmData/data').glob('*.txt'))"
   ]
  },
  {
   "cell_type": "markdown",
   "metadata": {},
   "source": [
    "## Diff by date"
   ]
  },
  {
   "cell_type": "code",
   "execution_count": null,
   "metadata": {},
   "outputs": [],
   "source": [
    "from datetime import datetime\n",
    "dates = sorted(datetime.strptime(str(o.stem)[-8:], '%Y%m%d') for o in training_files)\n",
    "dates = pd.DataFrame({'date': dates})\n",
    "diff_f = pd.concat([dates, dates.diff()], axis=1)\n",
    "diff_f.columns = ['date', 'diff']\n",
    "missings_f = diff.loc[diff['diff'] > pd.Timedelta('1d')]\n",
    "\n",
    "diff_b = pd.concat([dates, dates.diff(-1)], axis=1)\n",
    "diff_b.columns = ['date', 'diff']\n",
    "missings_b = diff_b.loc[diff_b['diff'] < pd.Timedelta('-1d')]\n",
    "\n",
    "missings_f"
   ]
  },
  {
   "cell_type": "markdown",
   "metadata": {},
   "source": [
    "## Diff by 桩号"
   ]
  },
  {
   "cell_type": "code",
   "execution_count": null,
   "metadata": {},
   "outputs": [],
   "source": [
    "from time import strftime"
   ]
  },
  {
   "cell_type": "code",
   "execution_count": null,
   "metadata": {},
   "outputs": [],
   "source": [
    "fns_1 = [''.join(['CREC188_', t.strftime('%Y%m%d'), '.txt']) for t in missings_f.iloc[:,0]]\n",
    "fns_2 = [''.join(['CREC188_', t.strftime('%Y%m%d'), '.txt']) for t in missings_b.iloc[:,0]]"
   ]
  },
  {
   "cell_type": "code",
   "execution_count": null,
   "metadata": {},
   "outputs": [],
   "source": [
    "skips = []\n",
    "for fn1, fn2 in zip(fns_1, fns_2):\n",
    "    dfs1 = pd.read_csv('tbmData/data/'+fn1, delimiter='\\t', usecols=[2])\n",
    "    dfs2 = pd.read_csv('tbmData/data/'+fn2, delimiter='\\t', usecols=[2])\n",
    "    skips.append((dfs2.iloc[-1] - dfs1.iloc[0]).values[0])"
   ]
  },
  {
   "cell_type": "code",
   "execution_count": null,
   "metadata": {},
   "outputs": [],
   "source": [
    "hints = pd.concat([missings_f.reset_index(drop=True),pd.Series(skips, name='skips')], axis=1)\n",
    "hints"
   ]
  },
  {
   "cell_type": "code",
   "execution_count": null,
   "metadata": {},
   "outputs": [],
   "source": []
  },
  {
   "cell_type": "code",
   "execution_count": null,
   "metadata": {},
   "outputs": [],
   "source": []
  },
  {
   "cell_type": "code",
   "execution_count": null,
   "metadata": {},
   "outputs": [],
   "source": []
  }
 ],
 "metadata": {
  "kernelspec": {
   "display_name": "Python 3",
   "language": "python",
   "name": "python3"
  },
  "language_info": {
   "codemirror_mode": {
    "name": "ipython",
    "version": 3
   },
   "file_extension": ".py",
   "mimetype": "text/x-python",
   "name": "python",
   "nbconvert_exporter": "python",
   "pygments_lexer": "ipython3",
   "version": "3.7.2"
  }
 },
 "nbformat": 4,
 "nbformat_minor": 2
}
