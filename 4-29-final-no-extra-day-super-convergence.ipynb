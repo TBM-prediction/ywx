{
 "cells": [
  {
   "cell_type": "code",
   "execution_count": null,
   "metadata": {},
   "outputs": [],
   "source": [
    "%matplotlib inline\n",
    "%reload_ext autoreload\n",
    "%autoreload 2\n",
    "\n",
    "from config import *"
   ]
  },
  {
   "cell_type": "markdown",
   "metadata": {
    "heading_collapsed": true
   },
   "source": [
    "# data"
   ]
  },
  {
   "cell_type": "code",
   "execution_count": null,
   "metadata": {
    "hidden": true
   },
   "outputs": [],
   "source": [
    "# context = Context('amended-1-no_noise', debug=0, dep_var=dep_var2, mulr=1, gpu_start=9)\n",
    "context = Context('amended-3-7', debug=0, dep_var=dep_var2, mulr=7, gpu_start=9)\n",
    "databunch = MultiDeptTabularDataBunch.from_df('tmp', context.cyc_cont, context.dep_var, valid_idx=context.valid_idx_tile, bs=context.bs)"
   ]
  },
  {
   "cell_type": "code",
   "execution_count": null,
   "metadata": {
    "hidden": true
   },
   "outputs": [],
   "source": [
    "# read context and append \n",
    "geo_raw = pd.read_csv('/home/wenxiang/datasets/tbm/geo_csv/geo2.1.csv', index_col=0)\n",
    "geo_cols = ['起始桩号', '最后桩号', '实际开挖围岩类别', '洞室部位主要岩性']\n",
    "geo = geo_raw.loc[:,geo_cols]\n",
    "# clean nan\n",
    "geo = geo.loc[geo.iloc[:,-1].notna()]\n",
    "zh = context.cyc_cont.iloc[:,-5]\n",
    "cat_names = geo.columns.tolist()\n",
    "\n",
    "idx_dep_var3 = []\n",
    "missing_idx = -1 #geo.shape[0] # last item + 1\n",
    "for z in list(zh):\n",
    "    is_within = ((z - geo.iloc[:,0]) * (z - geo.iloc[:,1])) < 0\n",
    "    if is_within.any():\n",
    "        idx_dep_var3.append(np.argmax(is_within.values))\n",
    "    else:\n",
    "        idx_dep_var3.append(missing_idx)\n",
    "\n",
    "dep_var3 = []\n",
    "for i in idx_dep_var3:\n",
    "    dep_var3.append(geo.iloc[i,2:].tolist() if i != missing_idx else ['oor', 'oor'])\n",
    "\n",
    "cycles = pd.concat([context.cyc_cont, pd.DataFrame(dep_var3, columns=['围岩等级', '岩性'])], axis=1)\n",
    "cat_names = cycles.columns[-2:]\n",
    "cont_names = cycles.columns[:-2]\n",
    "\n",
    "# simplify\n",
    "cat_1 = cycles.loc[:,cat_names[0]]\n",
    "III_idx = np.logical_or(cat_1 == 'Ⅲa', cat_1 == 'Ⅲb')\n",
    "cycles.loc[III_idx,cat_names[0]] = 'Ⅲ'\n",
    "IV_idx = np.logical_or(cat_1 == 'Ⅳ好', cat_1 == 'Ⅳ差')\n",
    "cycles.loc[IV_idx,cat_names[0]] = 'Ⅳ'\n",
    "\n",
    "cf = Categorify(cat_names, cont_names)\n",
    "cf.apply_train(cycles)\n",
    "\n",
    "fn_feather = Path(context.fn_feather)\n",
    "new_fn_feather = fn_feather.parent / (fn_feather.stem + '-cat' + fn_feather.suffix)\n",
    "cycles.to_feather(new_fn_feather)"
   ]
  },
  {
   "cell_type": "markdown",
   "metadata": {},
   "source": [
    "# run"
   ]
  },
  {
   "cell_type": "code",
   "execution_count": null,
   "metadata": {},
   "outputs": [],
   "source": [
    "%matplotlib inline\n",
    "%reload_ext autoreload\n",
    "%autoreload 2\n",
    "\n",
    "from config import *"
   ]
  },
  {
   "cell_type": "code",
   "execution_count": null,
   "metadata": {},
   "outputs": [],
   "source": [
    "n_cont = 2\n",
    "n_cat = [5, 6]\n",
    "cat_names = ['围岩等级', '岩性']\n",
    "\n",
    "# context = Context('amended-1-no_noise', debug=0, dep_var=dep_var2, mulr=1, gpu_start=9)\n",
    "context = Context('amended-3-7-cat', debug=0, dep_var=dep_var2 + cat_names, mulr=7, gpu_start=9)\n",
    "cycles = context.cyc_cont\n",
    "\n",
    "# un-categorify\n",
    "cat_columns = []\n",
    "for cat_name in cat_names:\n",
    "    cat_columns.append(cycles.loc[:,cat_name])\n",
    "    cycles.loc[:,cat_name] = cycles.loc[:,cat_name].cat.codes.values\n",
    "    \n",
    "databunch = MultiDeptTabularDataBunch.from_df('tmp', cycles, context.dep_var, valid_idx=context.valid_idx_tile, bs=context.bs)"
   ]
  },
  {
   "cell_type": "markdown",
   "metadata": {},
   "source": [
    "# 模型验证"
   ]
  },
  {
   "cell_type": "code",
   "execution_count": null,
   "metadata": {},
   "outputs": [],
   "source": [
    "hyper_params = {\n",
    "    'use_extra_x': 1,\n",
    "    'n_hidden': 1000,\n",
    "    'n_layers': 3,\n",
    "    'hidden_p': 0.075,\n",
    "    'input_p': 0.1,\n",
    "    'weight_p': 0.125,\n",
    "    'drops': [0.1] * 4,\n",
    "    'alpha': 2.,\n",
    "    'beta': 1.,\n",
    "    'clip': 0.5,\n",
    "    'loss_func': DualLoss(n_cont, n_cat, 0.1)\n",
    "}\n",
    "\n",
    "hyper_params['layers'] = [3*(context.n_cont) + int(hyper_params['use_extra_x']) * 3, 1000, 13]\n",
    "learner = get_new_model(context, databunch, hyper_params)\n",
    "\n",
    "# learner.fit_one_cycle(240, max_lr=1e-1)"
   ]
  },
  {
   "cell_type": "code",
   "execution_count": null,
   "metadata": {},
   "outputs": [],
   "source": [
    "lr = 1e-2\n",
    "time_str = time.strftime(\"%Y-%m-%d_%H:%M:%S\")\n",
    "save_name = '_'.join(['final-no-extra-day', str(hyper_params['n_hidden']),context.exp_name,time_str])\n",
    "callbacks = [SaveModelCallback(learner, name=save_name , every='improvement', monitor='MAPD', mode='min')]\n",
    "learner.fit_one_cycle(240, lr, callbacks=callbacks)\n",
    "learner.recorder.plot_metrics()"
   ]
  },
  {
   "cell_type": "code",
   "execution_count": null,
   "metadata": {},
   "outputs": [],
   "source": [
    "lr = 1e-2\n",
    "time_str = time.strftime(\"%Y-%m-%d_%H:%M:%S\")\n",
    "save_name = '_'.join(['final-no-extra-day', str(hyper_params['n_hidden']),context.exp_name,time_str])\n",
    "callbacks = [SaveModelCallback(learner, name=save_name , every='improvement', monitor='MAPD', mode='min')]\n",
    "learner.fit_one_cycle(240, lr, callbacks=callbacks)\n",
    "learner.recorder.plot_metrics()"
   ]
  },
  {
   "cell_type": "code",
   "execution_count": null,
   "metadata": {},
   "outputs": [],
   "source": [
    "xb_valid, yb_valid = ni(databunch.valid_dl)\n",
    "yb_valid = to_np(yb_valid)"
   ]
  },
  {
   "cell_type": "code",
   "execution_count": null,
   "metadata": {},
   "outputs": [],
   "source": [
    "yb_cont_valid_denorm = denormalize(yb_valid[:,:2], *context.stat_y)"
   ]
  },
  {
   "cell_type": "code",
   "execution_count": null,
   "metadata": {},
   "outputs": [],
   "source": [
    "learner.load('final-no-extra-day_1000_amended-3-7-cat_2019-04-29_22:18:11', purge=False)\n",
    "model = learner.model\n",
    "model.eval()\n",
    "model.reset()\n",
    "pb_valid = model(*xb_valid)[0]\n",
    "\n",
    "# pb = denormalize(pb[0], *context.stat_y)\n",
    "# pb = pb[0]\n",
    "# pb = to_np(pb)\n",
    "# pb_valid = pb_valid[0]\n"
   ]
  },
  {
   "cell_type": "code",
   "execution_count": null,
   "metadata": {},
   "outputs": [],
   "source": [
    "p_cont, p_cat = pb_valid[:,:n_cont], pb_valid[:,n_cont:]\n",
    "\n",
    "cat_idx_zip = [0] + hyper_params['loss_func'].cat_idx.tolist()\n",
    "p_cat_tasks = []\n",
    "for i,j in zip(cat_idx_zip[:-1], cat_idx_zip[1:]):\n",
    "    p_cat_tasks.append(to_np(p_cat[:,i:j]))\n",
    "\n",
    "p1, p2 = [o.argmax(1) for o in p_cat_tasks]"
   ]
  },
  {
   "cell_type": "code",
   "execution_count": null,
   "metadata": {},
   "outputs": [],
   "source": [
    "pb_valid = denormalize(p_cont, *context.stat_y)\n",
    "pb_valid = to_np(pb_valid)"
   ]
  },
  {
   "cell_type": "code",
   "execution_count": null,
   "metadata": {},
   "outputs": [],
   "source": [
    "# mre\n",
    "from sklearn.metrics import mean_squared_error, r2_score\n",
    "from math import sqrt\n",
    "\n",
    "i = 0\n",
    "print('mre', (np.abs(pb_valid[:,i] - yb_cont_valid_denorm[:,i]) / yb_cont_valid_denorm[:,i]).mean())\n",
    "print('rmse', sqrt(mean_squared_error(pb_valid[:,i], yb_cont_valid_denorm[:,i])))\n",
    "print('r2_score', r2_score(pb_valid[:,i], yb_cont_valid_denorm[:,i]))"
   ]
  },
  {
   "cell_type": "code",
   "execution_count": null,
   "metadata": {},
   "outputs": [],
   "source": [
    "# mre\n",
    "from sklearn.metrics import mean_squared_error, r2_score\n",
    "from math import sqrt\n",
    "\n",
    "i = 1\n",
    "print('mre', (np.abs(pb_valid[:,i] - yb_cont_valid_denorm[:,i]) / yb_cont_valid_denorm[:,i]).mean())\n",
    "print('rmse', sqrt(mean_squared_error(pb_valid[:,i], yb_cont_valid_denorm[:,i])))\n",
    "print('r2_score', r2_score(pb_valid[:,i], yb_cont_valid_denorm[:,i]))"
   ]
  },
  {
   "cell_type": "code",
   "execution_count": null,
   "metadata": {},
   "outputs": [],
   "source": [
    "# Now let's quickly train a random forest with various kinds of datasets\n",
    "from sklearn.ensemble import forest\n",
    "from sklearn.ensemble import RandomForestRegressor\n",
    "def set_rf_samples(n):\n",
    "    \"\"\" Changes Scikit learn's random forests to give each tree a random sample of\n",
    "    n random rows.\n",
    "    \"\"\"\n",
    "    forest._generate_sample_indices = (lambda rs, n_samples:\n",
    "        forest.check_random_state(rs).randint(0, n_samples, n))\n",
    "\n",
    "def reset_rf_samples():\n",
    "    \"\"\" Undoes the changes produced by set_rf_samples.\n",
    "    \"\"\"\n",
    "    forest._generate_sample_indices = (lambda rs, n_samples:\n",
    "        forest.check_random_state(rs).randint(0, n_samples, n_samples))\n",
    "def print_score(m):\n",
    "    res = [m.score(X_train, y_train), m.score(X_valid, y_valid)]\n",
    "    if hasattr(m, 'oob_score_'): res.append(m.oob_score_)\n",
    "    print(res)\n",
    "    \n",
    "def rf_feat_importance(m, df):\n",
    "    return pd.DataFrame({'cols':df.columns, 'imp':m.feature_importances_}\n",
    "                       ).sort_values('imp', ascending=False)\n",
    "xb, yb = ni(databunch.train_dl)\n",
    "X_train, y_train = to_np(xb[1]), to_np(yb)[:,:2]\n",
    "\n",
    "xb, yb = ni(databunch.valid_dl)\n",
    "X_valid, y_valid = to_np(xb[1]), to_np(yb)[:,:2]\n",
    "# m = RandomForestRegressor(n_jobs=-1, n_estimators=80, oob_score=True, min_samples_leaf=5)\n",
    "m = RandomForestRegressor(n_jobs=-1, n_estimators=40, oob_score=True, min_samples_leaf=5)\n",
    "m.fit(X_train, y_train)\n",
    "\n",
    "p_train, p_valid = m.predict(X_train), m.predict(X_valid)\n",
    "# random forest\n",
    "df_scores = pd.DataFrame({\n",
    "    'Train MAPD': [context.metrics(torch.tensor(p_train, dtype=torch.float), torch.tensor(y_train, dtype=torch.float)).item()],\n",
    "    'Valid MAPD': [context.metrics(torch.tensor(p_valid, dtype=torch.float), torch.tensor(y_valid, dtype=torch.float)).item()],\n",
    "    'Train score': [m.score(X_train, y_train)],\n",
    "    'Valid score': [m.score(X_valid, y_valid)],\n",
    "    'OOB': [m.oob_score_],\n",
    "})\n",
    "df_scores"
   ]
  },
  {
   "cell_type": "code",
   "execution_count": null,
   "metadata": {},
   "outputs": [],
   "source": [
    "pb_valid = denormalize(p_valid, *context.stat_y)\n",
    "yb_cont_valid_denorm = denormalize(y_valid, *context.stat_y)"
   ]
  },
  {
   "cell_type": "code",
   "execution_count": null,
   "metadata": {},
   "outputs": [],
   "source": [
    "i = 0\n",
    "print('mre', (np.abs(pb_valid[:,i] - yb_cont_valid_denorm[:,i]) / yb_cont_valid_denorm[:,i]).mean())\n",
    "print('rmse', sqrt(mean_squared_error(pb_valid[:,i], yb_cont_valid_denorm[:,i])))\n",
    "print('r2_score', r2_score(pb_valid[:,i], yb_cont_valid_denorm[:,i]))"
   ]
  },
  {
   "cell_type": "code",
   "execution_count": null,
   "metadata": {},
   "outputs": [],
   "source": [
    "i = 1\n",
    "print('mre', (np.abs(pb_valid[:,i] - yb_cont_valid_denorm[:,i]) / yb_cont_valid_denorm[:,i]).mean())\n",
    "print('rmse', sqrt(mean_squared_error(pb_valid[:,i], yb_cont_valid_denorm[:,i])))\n",
    "print('r2_score', r2_score(pb_valid[:,i], yb_cont_valid_denorm[:,i]))"
   ]
  },
  {
   "cell_type": "code",
   "execution_count": null,
   "metadata": {},
   "outputs": [],
   "source": []
  },
  {
   "cell_type": "code",
   "execution_count": null,
   "metadata": {},
   "outputs": [],
   "source": [
    "from sklearn import svm, datasets\n",
    "from sklearn.model_selection import train_test_split\n",
    "from sklearn.metrics import confusion_matrix\n",
    "from sklearn.utils.multiclass import unique_labels\n",
    "\n",
    "def plot_confusion_matrix(y_true, y_pred, classes,\n",
    "                          normalize=False,\n",
    "                          title=None,\n",
    "                          cmap=plt.cm.Blues):\n",
    "    \"\"\"\n",
    "    This function prints and plots the confusion matrix.\n",
    "    Normalization can be applied by setting `normalize=True`.\n",
    "    \"\"\"\n",
    "    if not title:\n",
    "        if normalize:\n",
    "            title = 'Normalized confusion matrix'\n",
    "        else:\n",
    "            title = 'Confusion matrix, without normalization'\n",
    "\n",
    "    # Compute confusion matrix\n",
    "    cm = confusion_matrix(y_true, y_pred)\n",
    "    # Only use the labels that appear in the data\n",
    "    classes = classes[unique_labels(y_true, y_pred)]\n",
    "    if normalize:\n",
    "        cm = cm.astype('float') / cm.sum(axis=1)[:, np.newaxis]\n",
    "        print(\"Normalized confusion matrix\")\n",
    "    else:\n",
    "        print('Confusion matrix, without normalization')\n",
    "\n",
    "    print(cm)\n",
    "\n",
    "    fig, ax = plt.subplots()\n",
    "    im = ax.imshow(cm, interpolation='nearest', cmap=cmap)\n",
    "    ax.figure.colorbar(im, ax=ax)\n",
    "    # We want to show all ticks...\n",
    "    ax.set(xticks=np.arange(cm.shape[1]),\n",
    "           yticks=np.arange(cm.shape[0]),\n",
    "           # ... and label them with the respective list entries\n",
    "           xticklabels=classes, yticklabels=classes,\n",
    "           title=title,\n",
    "           ylabel='True label',\n",
    "           xlabel='Predicted label')\n",
    "\n",
    "    # Rotate the tick labels and set their alignment.\n",
    "    plt.setp(ax.get_xticklabels(), rotation=45, ha=\"right\",\n",
    "             rotation_mode=\"anchor\")\n",
    "\n",
    "    # Loop over data dimensions and create text annotations.\n",
    "    fmt = '.2f' if normalize else 'd'\n",
    "    thresh = cm.max() / 2.\n",
    "    for i in range(cm.shape[0]):\n",
    "        for j in range(cm.shape[1]):\n",
    "            ax.text(j, i, format(cm[i, j], fmt),\n",
    "                    ha=\"center\", va=\"center\",\n",
    "                    color=\"white\" if cm[i, j] > thresh else \"black\")\n",
    "    fig.tight_layout()\n",
    "    return ax"
   ]
  },
  {
   "cell_type": "code",
   "execution_count": null,
   "metadata": {},
   "outputs": [],
   "source": [
    "class_names = cat_columns[0].cat.categories\n",
    "\n",
    "y_test = yb_valid[:,-2].astype(np.int)\n",
    "y_pred = p1\n",
    "plot_confusion_matrix(y_test, y_pred, classes=class_names,\n",
    "                      title='未正规化的岩体分类混淆矩阵')\n",
    "set_ax_font(plt.gca())\n",
    "plot_confusion_matrix(y_test, y_pred, classes=class_names, normalize=True,\n",
    "                      title='正规化的岩体分类混淆矩阵')\n",
    "set_ax_font(plt.gca())"
   ]
  },
  {
   "cell_type": "code",
   "execution_count": null,
   "metadata": {},
   "outputs": [],
   "source": [
    "class_names = cat_columns[1].cat.categories\n",
    "y_test = yb_valid[:,-1].astype(np.int)\n",
    "y_pred = p2\n",
    "plot_confusion_matrix(y_test, y_pred, classes=class_names,\n",
    "                      title='未正规化的岩性分类混淆矩阵')\n",
    "set_ax_font(plt.gca())\n",
    "plot_confusion_matrix(y_test, y_pred, classes=class_names, normalize=True,\n",
    "                      title='正规化的岩性分类混淆矩阵')\n",
    "set_ax_font(plt.gca())"
   ]
  },
  {
   "cell_type": "code",
   "execution_count": null,
   "metadata": {},
   "outputs": [],
   "source": [
    "from sklearn.preprocessing import label_binarize\n",
    "from sklearn.metrics import precision_recall_curve\n",
    "from sklearn.metrics import average_precision_score\n",
    "from sklearn.utils.fixes import signature\n",
    "    \n",
    "def eval_mult_class(Y_test, y_score):\n",
    "    # For each class\n",
    "    precision = dict()\n",
    "    recall = dict()\n",
    "    average_precision = dict()\n",
    "    for i in range(n_classes):\n",
    "        precision[i], recall[i], _ = precision_recall_curve(Y_test[:, i],\n",
    "                                                            y_score[:, i])\n",
    "        average_precision[i] = average_precision_score(Y_test[:, i], y_score[:, i])\n",
    "\n",
    "    # A \"micro-average\": quantifying score on all classes jointly\n",
    "    precision[\"micro\"], recall[\"micro\"], _ = precision_recall_curve(Y_test.ravel(),\n",
    "        y_score.ravel())\n",
    "    average_precision[\"micro\"] = average_precision_score(Y_test, y_score,\n",
    "                                                         average=\"micro\")\n",
    "    print('Average precision score, micro-averaged over all classes: {0:0.2f}'\n",
    "          .format(average_precision[\"micro\"]))\n",
    "    return precision, recall, average_precision\n",
    "\n",
    "\n",
    "def plot_mult_class(precision, recall, average_precision):\n",
    "    plt.figure()\n",
    "    plt.step(recall['micro'], precision['micro'], color='b', alpha=0.2,\n",
    "             where='post')\n",
    "    step_kwargs = ({'step': 'post'}\n",
    "               if 'step' in signature(plt.fill_between).parameters\n",
    "               else {})\n",
    "    plt.fill_between(recall[\"micro\"], precision[\"micro\"], alpha=0.2, color='b',\n",
    "                     **step_kwargs)\n",
    "\n",
    "    plt.xlabel('Recall')\n",
    "    plt.ylabel('Precision')\n",
    "    plt.ylim([0.0, 1.05])\n",
    "    plt.xlim([0.0, 1.0])\n",
    "    plt.title(\n",
    "        'Average precision score, micro-averaged over all classes: AP={0:0.2f}'\n",
    "        .format(average_precision[\"micro\"]))"
   ]
  },
  {
   "cell_type": "code",
   "execution_count": null,
   "metadata": {},
   "outputs": [],
   "source": [
    "# p2\n",
    "y_test = yb_valid[:,-1].astype(np.int)\n",
    "y_pred = p2\n",
    "\n",
    "classes = np.unique(np.array(y_test))\n",
    "Y_test, y_score = (label_binarize(o, classes=classes) for o in (y_test, y_pred))\n",
    "n_classes = len(classes)\n",
    "# Y_test, y_score = y_test, y_pred\n",
    "\n",
    "precision, recall, average_precision = eval_mult_class(Y_test, y_score)\n",
    "plot_mult_class(precision, recall, average_precision)"
   ]
  },
  {
   "cell_type": "code",
   "execution_count": null,
   "metadata": {},
   "outputs": [],
   "source": [
    "# p1\n",
    "y_test = yb_valid[:,-2].astype(np.int)\n",
    "y_pred = p1\n",
    "\n",
    "classes = np.unique(np.array(y_test))\n",
    "Y_test, y_score = (label_binarize(o, classes=classes) for o in (y_test, y_pred))\n",
    "n_classes = len(classes)\n",
    "# Y_test, y_score = y_test, y_pred\n",
    "\n",
    "precision, recall, average_precision = eval_mult_class(Y_test, y_score)\n",
    "plot_mult_class(precision, recall, average_precision)"
   ]
  },
  {
   "cell_type": "code",
   "execution_count": null,
   "metadata": {},
   "outputs": [],
   "source": []
  }
 ],
 "metadata": {
  "kernelspec": {
   "display_name": "Python 3",
   "language": "python",
   "name": "python3"
  },
  "language_info": {
   "codemirror_mode": {
    "name": "ipython",
    "version": 3
   },
   "file_extension": ".py",
   "mimetype": "text/x-python",
   "name": "python",
   "nbconvert_exporter": "python",
   "pygments_lexer": "ipython3",
   "version": "3.7.3"
  }
 },
 "nbformat": 4,
 "nbformat_minor": 2
}
