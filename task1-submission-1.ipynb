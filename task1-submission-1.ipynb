{
 "cells": [
  {
   "cell_type": "markdown",
   "metadata": {},
   "source": [
    "# Task 1"
   ]
  },
  {
   "cell_type": "code",
   "execution_count": null,
   "metadata": {},
   "outputs": [],
   "source": [
    "%matplotlib inline\n",
    "%reload_ext autoreload\n",
    "%autoreload 2\n",
    "\n",
    "from config import *"
   ]
  },
  {
   "cell_type": "code",
   "execution_count": null,
   "metadata": {},
   "outputs": [],
   "source": [
    "gpu_start,num_gpus = 9,1\n",
    "context = Context('removed_redundent1-full-30-no_noise', gpu_start=gpu_start, dep_var=dep_var1, debug=0, mulr=1, fn_feather='tbmData/feather/removed_redundent1-full-30-12.feather')\n",
    "stat_x = context.stat_x\n",
    "valid_size = int(context.num_cycles * context.valid_ratio * context.mulr)\n",
    "databunch = MultiDeptTabularDataBunch.from_df('tmp', context.cyc_cont, context.dep_var, valid_idx=context.valid_idx_tile, bs=valid_size)"
   ]
  },
  {
   "cell_type": "code",
   "execution_count": null,
   "metadata": {},
   "outputs": [],
   "source": [
    "hyper_params = {\n",
    "    'n_hidden': 200,\n",
    "    'n_layers': 3,\n",
    "    'hidden_p': 0.3,\n",
    "    'input_p': 0.6,\n",
    "    'weight_p': 0.5,\n",
    "    'layers': [3*context.n_cont, 5, len(context.dep_var)],\n",
    "    'drops': [0.2] * 3,\n",
    "    'alpha': 2.,\n",
    "    'beta': 1.,\n",
    "    'clip': 0.5,\n",
    "    'loss_func': MSELossFlat(),\n",
    "#     'loss_func': l1\n",
    "}\n",
    "\n",
    "learner = get_cont_model(context, databunch, hyper_params)"
   ]
  },
  {
   "cell_type": "code",
   "execution_count": null,
   "metadata": {},
   "outputs": [],
   "source": [
    "learner.load('200_final-task-1_2019-03-15_18:28:17');"
   ]
  },
  {
   "cell_type": "code",
   "execution_count": null,
   "metadata": {},
   "outputs": [],
   "source": [
    "test1_fns = sorted(Path('tbmData/test/附件1：必选课题一测试数据集').glob('*.mat'))\n",
    "column_names = pd.read_csv('tbmData/data/CREC188_20160809.txt', delimiter='\\t', nrows=1).columns # get column names from training data"
   ]
  },
  {
   "cell_type": "code",
   "execution_count": null,
   "metadata": {},
   "outputs": [],
   "source": [
    "def read_test_mat_as_df(mat_fn, columns):\n",
    "    test_input = scipy.io.loadmat(mat_fn)['a']\n",
    "    test_df = pd.DataFrame(test_input[:,:-1], columns=columns[2:])\n",
    "    return test_df\n",
    "\n",
    "save_dir = Path('tbmData/test/test1_feathers')\n",
    "for mat_fn in test1_fns:\n",
    "    df = read_test_mat_as_df(mat_fn, column_names)\n",
    "    save_feather_fn = save_dir/('cycle' + mat_fn.stem + '.feather')\n",
    "    df.to_feather(str(save_feather_fn))\n",
    "\n",
    "context = Context('save-after-removing-redundent-columns', fn_cycles='tbmData/test/test1_feathers', debug=0, mulr=1, load_data=False)\n",
    "fmtr = DataFormatter(context, cycle_feathers=context.fn_cycles)"
   ]
  },
  {
   "cell_type": "markdown",
   "metadata": {},
   "source": [
    "drop redundant columns, which should drop zeroed columns as well"
   ]
  },
  {
   "cell_type": "code",
   "execution_count": null,
   "metadata": {},
   "outputs": [],
   "source": [
    "dropped = np.load('tbmData/cycles-removed-redundent-columns/dropped.npy').tolist()\n",
    "\n",
    "fmtr.cycles.drop(columns=dropped+['桩号']+['EP2次数设置', '刀盘喷水增压泵压力'], inplace=True, errors='ignore')\n",
    "# , '内循环水罐液位', '拖拉油缸最小允许压力设置'\n",
    "\n",
    "cycles = fmtr.cycles"
   ]
  },
  {
   "cell_type": "code",
   "execution_count": null,
   "metadata": {},
   "outputs": [],
   "source": [
    "len(dropped)"
   ]
  },
  {
   "cell_type": "markdown",
   "metadata": {},
   "source": [
    "normalize"
   ]
  },
  {
   "cell_type": "code",
   "execution_count": null,
   "metadata": {},
   "outputs": [],
   "source": [
    "normalized_x = normalize_a(cycles, *stat_x)"
   ]
  },
  {
   "cell_type": "markdown",
   "metadata": {},
   "source": [
    "flatten"
   ]
  },
  {
   "cell_type": "code",
   "execution_count": null,
   "metadata": {},
   "outputs": [],
   "source": [
    "xb = [tensor(normalized_x.loc[i].values.flatten())[None].float() for i in normalized_x.index.levels[0]]"
   ]
  },
  {
   "cell_type": "code",
   "execution_count": null,
   "metadata": {},
   "outputs": [],
   "source": [
    "xb = torch.cat(xb)\n",
    "xb.shape, xb.dtype"
   ]
  },
  {
   "cell_type": "code",
   "execution_count": null,
   "metadata": {},
   "outputs": [],
   "source": [
    "model = learner.model\n",
    "model.eval()\n",
    "input = (torch.zeros(len(xb), dtype=torch.float32).cuda(), xb.cuda())\n",
    "pb = model(*input)"
   ]
  },
  {
   "cell_type": "code",
   "execution_count": null,
   "metadata": {},
   "outputs": [],
   "source": [
    "pb = denormalize(pb[0], *context.stat_y)\n",
    "pb = to_np(pb)"
   ]
  },
  {
   "cell_type": "code",
   "execution_count": null,
   "metadata": {},
   "outputs": [],
   "source": [
    "output_template = 'tbmData/test/附件3：模型输出结果保存文件/Result_test_1-50.csv'\n",
    "template = pd.read_csv(output_template,encoding='gbk')"
   ]
  },
  {
   "cell_type": "code",
   "execution_count": null,
   "metadata": {},
   "outputs": [],
   "source": [
    "template.iloc[:,1:3] = pb"
   ]
  },
  {
   "cell_type": "code",
   "execution_count": null,
   "metadata": {},
   "outputs": [],
   "source": [
    "submit_dir = Path('submissions/submission2')\n",
    "submit_dir.mkdir(parents=True,exist_ok=True)\n",
    "template.to_csv(str(submit_dir/'Result_test_1-50.csv'), float_format='%.1f',index=None, encoding='gbk')"
   ]
  },
  {
   "cell_type": "code",
   "execution_count": null,
   "metadata": {},
   "outputs": [],
   "source": []
  }
 ],
 "metadata": {
  "kernelspec": {
   "display_name": "Python 3",
   "language": "python",
   "name": "python3"
  },
  "language_info": {
   "codemirror_mode": {
    "name": "ipython",
    "version": 3
   },
   "file_extension": ".py",
   "mimetype": "text/x-python",
   "name": "python",
   "nbconvert_exporter": "python",
   "pygments_lexer": "ipython3",
   "version": "3.7.3"
  }
 },
 "nbformat": 4,
 "nbformat_minor": 2
}
