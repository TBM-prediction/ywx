{
 "cells": [
  {
   "cell_type": "code",
   "execution_count": null,
   "metadata": {
    "tags": [
     "#init"
    ]
   },
   "outputs": [],
   "source": [
    "%matplotlib inline\n",
    "%reload_ext autoreload\n",
    "%autoreload 2\n",
    "\n",
    "from config import *\n",
    "# config = Config(debug=False, sl=30, selected_columns=True, postpond=10)\n",
    "config = Config(debug=False, sl=200, selected_columns=True, postpond=0)\n",
    "# config = Config(debug=True, sl=200, selected_columns=True, postpond=0)\n",
    "# config = Config(debug=True, sl=30, selected_columns=True, postpond=10)\n",
    "torch.cuda.set_device(config.gpu_start); torch.ones((1, 1)).cuda(); # activate pytorch"
   ]
  },
  {
   "cell_type": "code",
   "execution_count": null,
   "metadata": {},
   "outputs": [],
   "source": [
    "fns_feathers = sorted(config.fn_cycles.glob('cycle*'))[:config.num_cycles]\n",
    "fmtr = DataFormatter(cycle_feathers=fns_feathers)\n",
    "cycles = fmtr.cycles\n",
    "# if not config.selected_columns: config.cont_names = [o for o in cycles.loc[0].columns[2:] if o not in config.dep_var]\n",
    "idx = fmtr.beginning_index(postpond=config.postpond)"
   ]
  },
  {
   "cell_type": "code",
   "execution_count": null,
   "metadata": {},
   "outputs": [],
   "source": [
    "df_conts = tile_with_noise(cycles, idx, config, normalize=True)\n",
    "deps = fmtr.get_y(config.dep_var)\n",
    "deps = pd.concat([deps]*config.mulr).reset_index(drop=True)\n",
    "cyc_cont = flatten_and_cat(df_conts, deps, sl=config.sl)\n",
    "rnndb = MultiDeptTabularDataBunch.from_df('tmp', cyc_cont, config.dep_var, valid_idx=config.valid_idx_tile, bs=config.bs, num_workers=0)"
   ]
  },
  {
   "cell_type": "markdown",
   "metadata": {},
   "source": [
    "Plot cycles to determine how to calculate y"
   ]
  },
  {
   "cell_type": "code",
   "execution_count": null,
   "metadata": {},
   "outputs": [],
   "source": [
    "config.dep_var"
   ]
  },
  {
   "cell_type": "code",
   "execution_count": null,
   "metadata": {},
   "outputs": [],
   "source": [
    "deps_full = [cycles.loc[o,config.dep_var] for o in cycles.index.levels[0]]\n",
    "deps_out = fmtr.get_y(config.dep_var)"
   ]
  },
  {
   "cell_type": "code",
   "execution_count": null,
   "metadata": {},
   "outputs": [],
   "source": [
    "for i, (curve, d1, d2) in enumerate(zip(deps_full, deps_out.values[:,0], deps_out.values[:,1])):\n",
    "    if i % 10 == 0:\n",
    "        ax = None\n",
    "    ax = plots(curve, ax=ax, cols=2).flatten()\n",
    "    ax[0].axhline(d1, color='r', linewidth='1', linestyle=':')\n",
    "    ax[1].axhline(d2, color='r', linewidth='1', linestyle=':')"
   ]
  },
  {
   "cell_type": "code",
   "execution_count": null,
   "metadata": {},
   "outputs": [],
   "source": []
  },
  {
   "cell_type": "code",
   "execution_count": null,
   "metadata": {},
   "outputs": [],
   "source": []
  }
 ],
 "metadata": {
  "celltoolbar": "Tags",
  "kernelspec": {
   "display_name": "Python 3",
   "language": "python",
   "name": "python3"
  },
  "language_info": {
   "codemirror_mode": {
    "name": "ipython",
    "version": 3
   },
   "file_extension": ".py",
   "mimetype": "text/x-python",
   "name": "python",
   "nbconvert_exporter": "python",
   "pygments_lexer": "ipython3",
   "version": "3.7.2"
  },
  "notify_time": "10",
  "varInspector": {
   "cols": {
    "lenName": 16,
    "lenType": 16,
    "lenVar": 40
   },
   "kernels_config": {
    "python": {
     "delete_cmd_postfix": "",
     "delete_cmd_prefix": "del ",
     "library": "var_list.py",
     "varRefreshCmd": "print(var_dic_list())"
    },
    "r": {
     "delete_cmd_postfix": ") ",
     "delete_cmd_prefix": "rm(",
     "library": "var_list.r",
     "varRefreshCmd": "cat(var_dic_list()) "
    }
   },
   "types_to_exclude": [
    "module",
    "function",
    "builtin_function_or_method",
    "instance",
    "_Feature"
   ],
   "window_display": false
  }
 },
 "nbformat": 4,
 "nbformat_minor": 2
}
