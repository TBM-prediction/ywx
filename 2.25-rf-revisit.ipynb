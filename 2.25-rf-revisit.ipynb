{
 "cells": [
  {
   "cell_type": "code",
   "execution_count": null,
   "metadata": {},
   "outputs": [],
   "source": [
    "%matplotlib inline\n",
    "%reload_ext autoreload\n",
    "%autoreload 2\n",
    "\n",
    "from config import *\n",
    "context = Context('rf-revisit', gpu_start=6, dep_var=dep_var1, debug=0, mulr=1, fn_feather='tbmData/feather/removed_redundent1-full-30-no_noise.feather')\n",
    "databunch = MultiDeptTabularDataBunch.from_df('tmp', context.cyc_cont, context.dep_var, valid_idx=context.valid_idx_tile, bs=context.bs)"
   ]
  },
  {
   "cell_type": "code",
   "execution_count": null,
   "metadata": {},
   "outputs": [],
   "source": [
    "cyc_cont,train_idx_tile,valid_idx_tile,dep_var = context.cyc_cont, context.train_idx_tile, context.valid_idx_tile, context.dep_var\n",
    "train, val = cyc_cont.iloc[train_idx_tile], cyc_cont.iloc[valid_idx_tile]\n",
    "X_train, y_train = train.drop(columns=dep_var), train.loc[:,dep_var]\n",
    "X_valid, y_valid = val.drop(columns=dep_var), val.loc[:,dep_var]"
   ]
  },
  {
   "cell_type": "code",
   "execution_count": null,
   "metadata": {},
   "outputs": [],
   "source": []
  },
  {
   "cell_type": "code",
   "execution_count": null,
   "metadata": {},
   "outputs": [],
   "source": [
    "from sklearn.ensemble import forest\n",
    "from sklearn.ensemble import RandomForestRegressor\n",
    "def set_rf_samples(n):\n",
    "    \"\"\" Changes Scikit learn's random forests to give each tree a random sample of\n",
    "    n random rows.\n",
    "    \"\"\"\n",
    "    forest._generate_sample_indices = (lambda rs, n_samples:\n",
    "        forest.check_random_state(rs).randint(0, n_samples, n))\n",
    "\n",
    "def reset_rf_samples():\n",
    "    \"\"\" Undoes the changes produced by set_rf_samples.\n",
    "    \"\"\"\n",
    "    forest._generate_sample_indices = (lambda rs, n_samples:\n",
    "        forest.check_random_state(rs).randint(0, n_samples, n_samples))\n",
    "def print_score(m):\n",
    "    res = [m.score(X_train, y_train), m.score(X_valid, y_valid)]\n",
    "    if hasattr(m, 'oob_score_'): res.append(m.oob_score_)\n",
    "    print(res)\n",
    "    \n",
    "def rf_feat_importance(m, df):\n",
    "    return pd.DataFrame({'cols':df.columns, 'imp':m.feature_importances_}\n",
    "                       ).sort_values('imp', ascending=False)\n",
    "mapd = MAPD(context.stat_y)"
   ]
  },
  {
   "cell_type": "code",
   "execution_count": null,
   "metadata": {},
   "outputs": [],
   "source": [
    "# set_rf_samples(100)\n",
    "reset_rf_samples()"
   ]
  },
  {
   "cell_type": "markdown",
   "metadata": {},
   "source": [
    "## min_samples_leaf=3"
   ]
  },
  {
   "cell_type": "code",
   "execution_count": null,
   "metadata": {},
   "outputs": [],
   "source": [
    "m = RandomForestRegressor(n_jobs=-1, n_estimators=80, oob_score=True, min_samples_leaf=3)\n",
    "%time m.fit(X_train, y_train)\n",
    "print(m.score(X_train, y_train), m.score(X_valid, y_valid), m.oob_score_)"
   ]
  },
  {
   "cell_type": "code",
   "execution_count": null,
   "metadata": {},
   "outputs": [],
   "source": [
    "p_train, p_valid = m.predict(X_train), m.predict(X_valid)\n",
    "print('train:',to_np(mapd(tensor(p_train).float(), tensor(y_train.values).float())))\n",
    "print('valid: ', to_np(mapd(tensor(p_valid).float(), tensor(y_valid.values).float())))\n",
    "display_all(rf_feat_importance(m, X_valid))"
   ]
  },
  {
   "cell_type": "markdown",
   "metadata": {},
   "source": [
    "## min_samples_leaf=5"
   ]
  },
  {
   "cell_type": "code",
   "execution_count": null,
   "metadata": {},
   "outputs": [],
   "source": [
    "m = RandomForestRegressor(n_jobs=-1, n_estimators=80, oob_score=True, min_samples_leaf=5)\n",
    "%time m.fit(X_train, y_train)\n",
    "print(m.score(X_train, y_train), m.score(X_valid, y_valid), m.oob_score_)"
   ]
  },
  {
   "cell_type": "code",
   "execution_count": null,
   "metadata": {},
   "outputs": [],
   "source": [
    "p_train, p_valid = m.predict(X_train), m.predict(X_valid)\n",
    "print(mapd(tensor(p_train).float(), tensor(y_train.values).float()), mapd(tensor(p_valid).float(), tensor(y_valid.values).float()))\n",
    "display_all(rf_feat_importance(m, X_valid))"
   ]
  },
  {
   "cell_type": "markdown",
   "metadata": {},
   "source": [
    "## min_samples_leaf=1"
   ]
  },
  {
   "cell_type": "code",
   "execution_count": null,
   "metadata": {},
   "outputs": [],
   "source": [
    "m = RandomForestRegressor(n_jobs=-1, n_estimators=80, oob_score=True, min_samples_leaf=1)\n",
    "m.fit(X_train, y_train)\n",
    "print(m.score(X_train, y_train), m.score(X_valid, y_valid), m.oob_score_)"
   ]
  },
  {
   "cell_type": "code",
   "execution_count": null,
   "metadata": {},
   "outputs": [],
   "source": [
    "p_train, p_valid = m.predict(X_train), m.predict(X_valid)\n",
    "print(mapd(tensor(p_train).float(), tensor(y_train.values).float()), mapd(tensor(p_valid).float(), tensor(y_valid.values).float()))\n",
    "display_all(rf_feat_importance(m, X_valid))"
   ]
  },
  {
   "cell_type": "code",
   "execution_count": null,
   "metadata": {},
   "outputs": [],
   "source": []
  },
  {
   "cell_type": "code",
   "execution_count": null,
   "metadata": {},
   "outputs": [],
   "source": []
  }
 ],
 "metadata": {
  "kernelspec": {
   "display_name": "Python 3",
   "language": "python",
   "name": "python3"
  },
  "language_info": {
   "codemirror_mode": {
    "name": "ipython",
    "version": 3
   },
   "file_extension": ".py",
   "mimetype": "text/x-python",
   "name": "python",
   "nbconvert_exporter": "python",
   "pygments_lexer": "ipython3",
   "version": "3.7.3"
  }
 },
 "nbformat": 4,
 "nbformat_minor": 2
}
