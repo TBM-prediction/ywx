{
 "cells": [
  {
   "cell_type": "code",
   "execution_count": null,
   "metadata": {
    "tags": [
     "#init"
    ]
   },
   "outputs": [],
   "source": [
    "%matplotlib inline\n",
    "%reload_ext autoreload\n",
    "%autoreload 2\n",
    "\n",
    "from config import *\n",
    "config = Config(debug=True)\n",
    "torch.cuda.set_device(config.gpu_start)"
   ]
  },
  {
   "cell_type": "code",
   "execution_count": null,
   "metadata": {
    "tags": [
     "#cycles",
     "=>init"
    ]
   },
   "outputs": [],
   "source": [
    "postpond = 50\n",
    "fns_feathers = sorted(config.fn_cycles.glob('cycle*'))[:config.num_cycles]\n",
    "fmtr = DataFormatter(cycle_feathers=fns_feathers)\n",
    "cycles = fmtr.cycles\n",
    "# idx = [beginning_index(o.iloc[:500]) + postpond for o in tqdm_notebook(cycles)]"
   ]
  },
  {
   "cell_type": "code",
   "execution_count": null,
   "metadata": {},
   "outputs": [],
   "source": [
    "deps = fmtr.get_y(dep_var)"
   ]
  },
  {
   "cell_type": "code",
   "execution_count": null,
   "metadata": {},
   "outputs": [],
   "source": [
    "import seaborn as sns"
   ]
  },
  {
   "cell_type": "code",
   "execution_count": null,
   "metadata": {},
   "outputs": [],
   "source": [
    "deps.head()"
   ]
  },
  {
   "cell_type": "code",
   "execution_count": null,
   "metadata": {},
   "outputs": [],
   "source": [
    "y1 = deps.iloc[:,0]\n",
    "ax = sns.distplot(y1)\n",
    "set_font(ax.xaxis.label)"
   ]
  },
  {
   "cell_type": "code",
   "execution_count": null,
   "metadata": {},
   "outputs": [],
   "source": [
    "y1 = deps.iloc[:,1]\n",
    "ax = sns.distplot(y1)\n",
    "set_font(ax.xaxis.label)"
   ]
  },
  {
   "cell_type": "code",
   "execution_count": null,
   "metadata": {
    "tags": [
     "#df_conts",
     "=>cycles"
    ]
   },
   "outputs": [],
   "source": [
    "# cont_names = [o for o in cycles[0].columns[2:2+n_cont] if o not in dep_var]\n",
    "cont_names = cont_names if selected_columns else [o for o in cycles[0].columns[2:] if o not in dep_var]\n",
    "df_conts = tile_with_noise(cycles, idx, mulr, cont_names)"
   ]
  },
  {
   "cell_type": "code",
   "execution_count": null,
   "metadata": {
    "tags": [
     "=>df_conts"
    ]
   },
   "outputs": [],
   "source": [
    "deps = fmtr.get_y(dep_var)\n",
    "deps = pd.concat([deps]*mulr).reset_index(drop=True)\n",
    "cyc_cont = flatten_and_cat(df_conts, deps)"
   ]
  },
  {
   "cell_type": "code",
   "execution_count": null,
   "metadata": {},
   "outputs": [],
   "source": [
    "cyc_cont.to_feather('tmp/cyc_cont_all_6_debug')"
   ]
  },
  {
   "cell_type": "code",
   "execution_count": null,
   "metadata": {
    "tags": [
     "=>init"
    ]
   },
   "outputs": [],
   "source": [
    "#init\n",
    "cyc_cont = feather.read_dataframe('tmp/cyc_cont_all_6_debug')"
   ]
  },
  {
   "cell_type": "code",
   "execution_count": null,
   "metadata": {
    "tags": [
     "=>init"
    ]
   },
   "outputs": [],
   "source": [
    "#init\n",
    "cyc_cont = feather.read_dataframe('tmp/cyc_cont_all_allc')"
   ]
  },
  {
   "cell_type": "code",
   "execution_count": null,
   "metadata": {
    "tags": [
     "#rnndb"
    ]
   },
   "outputs": [],
   "source": [
    "valid_idx_tile = (valid_idx[:,None] + np.arange(mulr) * num_cycles).flatten() # take from all tiles\n",
    "# procs = []\n",
    "procs = [Normalize]\n",
    "databunch = MultiDeptTabularDataBunch.from_df('tmp', cyc_cont, dep_var, valid_idx=valid_idx_tile, bs=bs, procs=procs)\n",
    "\n",
    "rnndb = RNNDataBunch.create(databunch.train_ds, databunch.valid_ds, bs=bs)"
   ]
  },
  {
   "cell_type": "code",
   "execution_count": null,
   "metadata": {
    "tags": [
     "=>rnndb"
    ]
   },
   "outputs": [],
   "source": [
    "n_hidden, n_layers = n_cont * 3, 3\n",
    "# hidden_p, input_p, embed_p, weight_p = 0,0,0,0\n",
    "hidden_p, input_p, weight_p = 0.3, 0.6, 0.5\n",
    "\n",
    "rnn_enc = ContModel1(1, n_cont, n_hidden, n_layers, \n",
    "                     hidden_p=hidden_p, input_p=input_p, embed_p=0, weight_p=weight_p)\n",
    "\n",
    "layers = [3*n_cont, 5, 2]\n",
    "# drops = [0, 0, 0, 0]\n",
    "drops = [0.1] * 4\n",
    "# model = MultiInputSequentialRNN(rnn_enc, DummyModel(layers, drops)).cuda()\n",
    "# model = DummyContModel1(1, n_cont, n_hidden, n_layers)\n",
    "model = MultiInputSequentialRNN(rnn_enc, PoolingLinearClassifier(layers, drops)).cuda()\n",
    "model.reset()\n",
    "    \n",
    "weight = cyc_cont[dep_var].max().values\n",
    "weight = torch.tensor(weight[::-1] / weight.max(), dtype=torch.float32).cuda()\n",
    "\n",
    "# learner = Learner(rnndb, model, loss_func=weighted_rnn_mse(weight), metrics=rnn_metrics, opt_func=optim.SGD)\n",
    "learner = Learner(rnndb, model, loss_func=MSELossFlat(), metrics=rnn_metrics, opt_func=optim.SGD)\n",
    "# learner = Learner(rnndb, model, loss_func=weighted_our_loss(weight), metrics=rnn_metrics, opt_func=optim.SGD)\n",
    "\n",
    "from fastai.callbacks import *\n",
    "# learner.callback_fns += [ShowGraph, partial(SaveModelCallback, name='rnn0')]\n",
    "learner.callback_fns += [ShowGraph,]\n",
    "learner.callbacks += [TerminateOnNaNCallback()]\n",
    "# alpha, beta = 2., 1.\n",
    "alpha, beta = 1., 1.\n",
    "# alpha, beta = 0., 0.\n",
    "learner.callbacks.append(RNNTrainer(learner, sl, alpha=alpha, beta=beta))\n",
    "\n",
    "clip = 0.5\n",
    "learner.callback_fns.append(partial(GradientClipping, clip=clip))\n",
    "split_func = lambda x: list(x)\n",
    "# learner.split(split_func)\n",
    "learner.split(rnn_classifier_split)"
   ]
  },
  {
   "cell_type": "code",
   "execution_count": null,
   "metadata": {},
   "outputs": [],
   "source": [
    "learner.callback_fns[-1].keywords['clip'] = 1e1"
   ]
  },
  {
   "cell_type": "code",
   "execution_count": null,
   "metadata": {},
   "outputs": [],
   "source": [
    "len(learner.layer_groups)"
   ]
  },
  {
   "cell_type": "code",
   "execution_count": null,
   "metadata": {},
   "outputs": [],
   "source": [
    "learner.layer_groups"
   ]
  },
  {
   "cell_type": "code",
   "execution_count": null,
   "metadata": {},
   "outputs": [],
   "source": [
    "learner.unfreeze()\n",
    "learner.lr_find(num_it=100)\n",
    "learner.recorder.plot()"
   ]
  },
  {
   "cell_type": "code",
   "execution_count": null,
   "metadata": {},
   "outputs": [],
   "source": [
    "\n",
    "learner.fit_one_cycle(100, lr)"
   ]
  },
  {
   "cell_type": "code",
   "execution_count": null,
   "metadata": {},
   "outputs": [],
   "source": [
    "learner.unfreeze()\n",
    "learner.lr_find(num_it=100)\n",
    "learner.recorder.plot()"
   ]
  },
  {
   "cell_type": "code",
   "execution_count": null,
   "metadata": {},
   "outputs": [],
   "source": [
    "learner.fit(100, lr / 2)"
   ]
  },
  {
   "cell_type": "code",
   "execution_count": null,
   "metadata": {},
   "outputs": [],
   "source": [
    "learner.unfreeze()\n",
    "learner.lr_find(num_it=100)\n",
    "learner.recorder.plot()"
   ]
  },
  {
   "cell_type": "code",
   "execution_count": null,
   "metadata": {},
   "outputs": [],
   "source": [
    "learner.callback_fns[-1].keywords['clip'] = .1\n",
    "learner.callback_fns[-1].keywords"
   ]
  },
  {
   "cell_type": "code",
   "execution_count": null,
   "metadata": {},
   "outputs": [],
   "source": [
    "learner.fit(20, 1e-1)"
   ]
  },
  {
   "cell_type": "code",
   "execution_count": null,
   "metadata": {},
   "outputs": [],
   "source": [
    "learner.fit(30, 1e-2)"
   ]
  },
  {
   "cell_type": "code",
   "execution_count": null,
   "metadata": {},
   "outputs": [],
   "source": [
    "it = iter(learner.data.valid_dl)"
   ]
  },
  {
   "cell_type": "code",
   "execution_count": null,
   "metadata": {},
   "outputs": [],
   "source": [
    "# x, y = ni(learner.data.train_dl)\n",
    "# x, y = ni(learner.data.valid_dl)\n",
    "x, y = next(it)\n",
    "y, p = y.cpu(), learner.model(*x)[0].cpu()\n",
    "y_np, p_np = to_np(y), to_np(p)\n",
    "# our_metrics(y, p), our_metrics_np(y_np, p_np)\n",
    "lf = weighted_rnn_mse(weight.cpu())\n",
    "our_metrics_np(p_np, y_np)"
   ]
  },
  {
   "cell_type": "code",
   "execution_count": null,
   "metadata": {},
   "outputs": [],
   "source": [
    "np.argmin(np.abs(y_np-p_np) / (y_np + 1e-12), axis=0)"
   ]
  },
  {
   "cell_type": "code",
   "execution_count": null,
   "metadata": {},
   "outputs": [],
   "source": [
    "y_np[237,0] = p_np[237,0]"
   ]
  },
  {
   "cell_type": "code",
   "execution_count": null,
   "metadata": {},
   "outputs": [],
   "source": [
    "p_np[130]"
   ]
  },
  {
   "cell_type": "code",
   "execution_count": null,
   "metadata": {},
   "outputs": [],
   "source": [
    "(np.abs(y_np-p_np) / (y_np+1e-12)).sum() / y_np.size"
   ]
  },
  {
   "cell_type": "code",
   "execution_count": null,
   "metadata": {},
   "outputs": [],
   "source": [
    "x[1].shape"
   ]
  },
  {
   "cell_type": "code",
   "execution_count": null,
   "metadata": {},
   "outputs": [],
   "source": [
    "p"
   ]
  },
  {
   "cell_type": "code",
   "execution_count": null,
   "metadata": {},
   "outputs": [],
   "source": [
    "i = 0\n",
    "list(zip(p_np[:,i], y_np[:,i]))"
   ]
  },
  {
   "cell_type": "code",
   "execution_count": null,
   "metadata": {},
   "outputs": [],
   "source": [
    "p = learner.model(*x)[1]"
   ]
  },
  {
   "cell_type": "code",
   "execution_count": null,
   "metadata": {},
   "outputs": [],
   "source": [
    "# l x b x t x h\n",
    "l, b = 0, 0\n",
    "[(float(p[l][b][t].mean()), float(p[l][b][t].std())) for t in range(30)]"
   ]
  },
  {
   "cell_type": "code",
   "execution_count": null,
   "metadata": {},
   "outputs": [],
   "source": [
    "# l x b x t x h\n",
    "l, b, t = 0, 0, 1\n",
    "[(float(p[l][b][t].mean()), float(p[l][b][t].std())) for l in range(n_layers)]"
   ]
  },
  {
   "cell_type": "code",
   "execution_count": null,
   "metadata": {},
   "outputs": [],
   "source": []
  },
  {
   "cell_type": "code",
   "execution_count": null,
   "metadata": {},
   "outputs": [],
   "source": [
    "list(zip(y_np.tolist(), p_np.tolist()))"
   ]
  },
  {
   "cell_type": "code",
   "execution_count": null,
   "metadata": {},
   "outputs": [],
   "source": []
  },
  {
   "cell_type": "code",
   "execution_count": null,
   "metadata": {},
   "outputs": [],
   "source": []
  },
  {
   "cell_type": "code",
   "execution_count": null,
   "metadata": {},
   "outputs": [],
   "source": []
  }
 ],
 "metadata": {
  "celltoolbar": "Tags",
  "kernelspec": {
   "display_name": "Python 3",
   "language": "python",
   "name": "python3"
  },
  "language_info": {
   "codemirror_mode": {
    "name": "ipython",
    "version": 3
   },
   "file_extension": ".py",
   "mimetype": "text/x-python",
   "name": "python",
   "nbconvert_exporter": "python",
   "pygments_lexer": "ipython3",
   "version": "3.7.2"
  },
  "notify_time": "10",
  "varInspector": {
   "cols": {
    "lenName": 16,
    "lenType": 16,
    "lenVar": 40
   },
   "kernels_config": {
    "python": {
     "delete_cmd_postfix": "",
     "delete_cmd_prefix": "del ",
     "library": "var_list.py",
     "varRefreshCmd": "print(var_dic_list())"
    },
    "r": {
     "delete_cmd_postfix": ") ",
     "delete_cmd_prefix": "rm(",
     "library": "var_list.r",
     "varRefreshCmd": "cat(var_dic_list()) "
    }
   },
   "types_to_exclude": [
    "module",
    "function",
    "builtin_function_or_method",
    "instance",
    "_Feature"
   ],
   "window_display": false
  }
 },
 "nbformat": 4,
 "nbformat_minor": 2
}
