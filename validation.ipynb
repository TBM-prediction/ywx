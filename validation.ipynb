{
 "cells": [
  {
   "cell_type": "code",
   "execution_count": null,
   "metadata": {},
   "outputs": [],
   "source": []
  },
  {
   "cell_type": "markdown",
   "metadata": {},
   "source": [
    "# 桩号预测"
   ]
  },
  {
   "cell_type": "code",
   "execution_count": null,
   "metadata": {},
   "outputs": [],
   "source": [
    "%matplotlib inline\n",
    "%reload_ext autoreload\n",
    "%autoreload 2\n",
    "\n",
    "from config import *\n",
    "context = Context('validation', gpu_start=4, dep_var=['桩号'], debug=0, mulr=1, fn_feather='tbmData/feather/removed_redundent1-full-30-no_noise-zhuanghao.feather')\n",
    "databunch = MultiDeptTabularDataBunch.from_df('tmp', context.cyc_cont, context.dep_var, valid_idx=context.valid_idx_tile, bs=context.bs)\n",
    "\n",
    "preload_pytorch()\n",
    "record = False"
   ]
  },
  {
   "cell_type": "code",
   "execution_count": null,
   "metadata": {},
   "outputs": [],
   "source": [
    "hyper_params = {\n",
    "    'n_hidden': 100,\n",
    "    'n_layers': 3,\n",
    "    'hidden_p': 0.3,\n",
    "    'input_p': 0.6,\n",
    "    'weight_p': 0.5,\n",
    "    'layers': [3*context.n_cont, 5, len(context.dep_var)],\n",
    "    'drops': [0.2] * 3,\n",
    "    'alpha': 2.,\n",
    "    'beta': 1.,\n",
    "    'clip': 0.5,\n",
    "    'loss_func': MSELossFlat(),\n",
    "#     'loss_func': l1\n",
    "}\n",
    "\n",
    "learner = get_cont_model(context, databunch, hyper_params)\n",
    "learner.load('removed_redundent1-full-30-7-zhuanghao-l2');"
   ]
  },
  {
   "cell_type": "code",
   "execution_count": null,
   "metadata": {},
   "outputs": [],
   "source": [
    "result = valid(learner, context, DatasetType.Valid)"
   ]
  },
  {
   "cell_type": "code",
   "execution_count": null,
   "metadata": {},
   "outputs": [],
   "source": [
    "sns.distplot(result.iloc[:,0] - result.iloc[:,1], )"
   ]
  },
  {
   "cell_type": "code",
   "execution_count": null,
   "metadata": {},
   "outputs": [],
   "source": []
  },
  {
   "cell_type": "code",
   "execution_count": null,
   "metadata": {},
   "outputs": [],
   "source": []
  },
  {
   "cell_type": "markdown",
   "metadata": {},
   "source": [
    "# Removing redundent columns"
   ]
  },
  {
   "cell_type": "code",
   "execution_count": null,
   "metadata": {},
   "outputs": [],
   "source": [
    "%matplotlib inline\n",
    "%reload_ext autoreload\n",
    "%autoreload 2\n",
    "\n",
    "from config import *\n",
    "context = Context('removed_redundent1-full-30-7', gpu_start=3, dep_var=dep_var1, debug=0, mulr=7)\n",
    "valid_size = int(context.num_cycles * context.valid_ratio)\n",
    "databunch = MultiDeptTabularDataBunch.from_df('tmp', context.cyc_cont, context.dep_var, valid_idx=context.valid_idx_tile, bs=valid_size)\n",
    "\n",
    "preload_pytorch()\n",
    "record = False"
   ]
  },
  {
   "cell_type": "code",
   "execution_count": null,
   "metadata": {},
   "outputs": [],
   "source": [
    "hyper_params = {\n",
    "    'n_hidden': 100,\n",
    "    'n_layers': 3,\n",
    "    'hidden_p': 0.3,\n",
    "    'input_p': 0.6,\n",
    "    'weight_p': 0.5,\n",
    "    'layers': [3*context.n_cont, 5, len(context.dep_var)],\n",
    "    'drops': [0.2] * 3,\n",
    "    'alpha': 2.,\n",
    "    'beta': 1.,\n",
    "    'clip': 0.5,\n",
    "    'loss_func': MSELossFlat(),\n",
    "#     'loss_func': l1\n",
    "}\n",
    "\n",
    "learner = get_cont_model(context, databunch, hyper_params)"
   ]
  },
  {
   "cell_type": "code",
   "execution_count": null,
   "metadata": {},
   "outputs": [],
   "source": [
    "learner.load('removed_redundent1-full-30-7-l2');\n",
    "# learner.load('removed_redundent1-full-30-7-mapd');"
   ]
  },
  {
   "cell_type": "code",
   "execution_count": null,
   "metadata": {},
   "outputs": [],
   "source": [
    "result, influence = valid(learner, context)"
   ]
  },
  {
   "cell_type": "code",
   "execution_count": null,
   "metadata": {},
   "outputs": [],
   "source": [
    "influence"
   ]
  },
  {
   "cell_type": "code",
   "execution_count": null,
   "metadata": {},
   "outputs": [],
   "source": [
    "fmtr = DataFormatter(context, cycle_feathers=context.fn_cycles)\n",
    "cycles = fmtr.cycles # shorten notation"
   ]
  },
  {
   "cell_type": "code",
   "execution_count": null,
   "metadata": {},
   "outputs": [],
   "source": [
    "# ax = None\n",
    "for i in range(5):\n",
    "    axes = plots(cycles.loc[i,influence.index[:5]].iloc[:400], cols=5).flatten()\n",
    "    for ax in axes: set_ax_font(ax)"
   ]
  },
  {
   "cell_type": "code",
   "execution_count": null,
   "metadata": {},
   "outputs": [],
   "source": [
    "# learner.load('removed_redundent1-full-30-7-l2');\n",
    "learner.load('removed_redundent1-full-30-7-mapd');"
   ]
  },
  {
   "cell_type": "code",
   "execution_count": null,
   "metadata": {},
   "outputs": [],
   "source": [
    "result = valid(learner, context)"
   ]
  },
  {
   "cell_type": "markdown",
   "metadata": {},
   "source": [
    "## Compare X of different noise levels"
   ]
  },
  {
   "cell_type": "code",
   "execution_count": null,
   "metadata": {},
   "outputs": [],
   "source": [
    "# without noise\n",
    "ax = None\n",
    "for i in range(3):\n",
    "    df = reconstruct(xb_np[i], context)\n",
    "    ax = plots(df, ax=ax)"
   ]
  },
  {
   "cell_type": "code",
   "execution_count": null,
   "metadata": {},
   "outputs": [],
   "source": []
  }
 ],
 "metadata": {
  "kernelspec": {
   "display_name": "Python 3",
   "language": "python",
   "name": "python3"
  }
 },
 "nbformat": 4,
 "nbformat_minor": 2
}
