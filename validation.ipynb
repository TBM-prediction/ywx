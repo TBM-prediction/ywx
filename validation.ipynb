{
 "cells": [
  {
   "cell_type": "markdown",
   "metadata": {},
   "source": [
    "* 输入\n",
    "    * feather数据文件\n",
    "    * 模型结构和参数\n",
    "    * 模型权值文件\n",
    "* 输出\n",
    "    * 评估标准"
   ]
  },
  {
   "cell_type": "code",
   "execution_count": null,
   "metadata": {},
   "outputs": [],
   "source": [
    "# import comet_ml in the top of your file\n",
    "from comet_ml import Experiment\n",
    "\n",
    "# Add the following code anywhere in your machine learning file\n",
    "experiment = Experiment(api_key=\"Go4XzK6f4G10W9jFaWiHg6JP2\",\n",
    "                        project_name=\"general\", workspace=\"twofyw\")"
   ]
  },
  {
   "cell_type": "code",
   "execution_count": null,
   "metadata": {},
   "outputs": [],
   "source": [
    "%matplotlib inline\n",
    "%reload_ext autoreload\n",
    "%autoreload 2\n",
    "\n",
    "from config import *\n",
    "context = Context('validation', debug=False, sl=30, cont_names=Context.all_columns(), postpond=0, fn_feather='tbmData/feather/all_columns-full-30-s-0.feather')\n",
    "databunch = MultiDeptTabularDataBunch.from_df('tmp', config.cyc_cont, config.dep_var, valid_idx=config.valid_idx_tile, bs=config.bs, num_workers=0)\n",
    "\n",
    "torch.cuda.set_device(config.gpu_start); torch.ones((1, 1)).cuda(); # wakeup gpu\n",
    "record = False"
   ]
  },
  {
   "cell_type": "markdown",
   "metadata": {},
   "source": [
    "# Task 1"
   ]
  },
  {
   "cell_type": "markdown",
   "metadata": {},
   "source": [
    "## RNN regression"
   ]
  },
  {
   "cell_type": "code",
   "execution_count": null,
   "metadata": {},
   "outputs": [],
   "source": [
    "from mymodels import *"
   ]
  },
  {
   "cell_type": "code",
   "execution_count": null,
   "metadata": {},
   "outputs": [],
   "source": [
    "hyper_params = {\n",
    "    'n_hidden': 100,\n",
    "    'n_layers': 3,\n",
    "    'hidden_p': 0.3,\n",
    "    'input_p': 0.6,\n",
    "    'weight_p': 0.5,\n",
    "    'layers': [3*config.n_cont, 5, 2],\n",
    "    'drops': [0.2] * 3,\n",
    "    'alpha': 2.,\n",
    "    'beta': 1.,\n",
    "    'clip': 0.5,\n",
    "#     'loss_func' = MSELossFlat()\n",
    "    'loss_func': l1\n",
    "}\n",
    "\n",
    "learner = get_cont_model(context, databunch, hyper_params)"
   ]
  },
  {
   "cell_type": "code",
   "execution_count": null,
   "metadata": {},
   "outputs": [],
   "source": [
    "learner.predict??"
   ]
  },
  {
   "cell_type": "code",
   "execution_count": null,
   "metadata": {},
   "outputs": [],
   "source": [
    "learner.load('rnn-normalized-full-30-s-0-1');"
   ]
  },
  {
   "cell_type": "code",
   "execution_count": null,
   "metadata": {},
   "outputs": [],
   "source": [
    "def validate(learner):\n",
    "    xb,yb = learner.data.one_batch(DatasetType.Valid, detach=False, denorm=False)\n",
    "    # remove noise\n",
    "    learner.data.\n",
    "    \n",
    "    yb = to_detach(yb)\n",
    "    cb_handler = CallbackHandler(learner.callbacks) # rnn trainer\n",
    "    preds, _ = loss_batch(learner.model.eval(), xb, yb, cb_handler=cb_handler)\n",
    "    loss, mapd = learner.loss_func(preds, yb), learner.metrics[0](preds, yb)\n",
    "    \n",
    "    # Plot p against y. Expect linearity\n",
    "    yb_denormed, pb_denormed = denormalize(y_np, *stat_y), denormalize(p_np, *stat_y)\n",
    "    \n",
    "    \n",
    "    return loss, mapd\n"
   ]
  },
  {
   "cell_type": "code",
   "execution_count": null,
   "metadata": {},
   "outputs": [],
   "source": [
    "i, j = 0, 1\n",
    "x, y = learner.data.train_ds[i]\n",
    "xlast = x\n",
    "x, y = learner.data.train_ds[i]\n",
    "torch.all(x.data[1] == xlast.data[1])"
   ]
  },
  {
   "cell_type": "code",
   "execution_count": null,
   "metadata": {},
   "outputs": [],
   "source": []
  },
  {
   "cell_type": "code",
   "execution_count": null,
   "metadata": {},
   "outputs": [],
   "source": [
    "loss, m = validate(learner)"
   ]
  },
  {
   "cell_type": "code",
   "execution_count": null,
   "metadata": {},
   "outputs": [],
   "source": [
    "xb,yb = learner.data.one_batch(DatasetType.Valid, detach=False, denorm=False)"
   ]
  },
  {
   "cell_type": "code",
   "execution_count": null,
   "metadata": {},
   "outputs": [],
   "source": [
    "it = iter(learner.data.valid_dl)"
   ]
  }
 ],
 "metadata": {
  "kernelspec": {
   "display_name": "Python 3",
   "language": "python",
   "name": "python3"
  },
  "language_info": {
   "codemirror_mode": {
    "name": "ipython",
    "version": 3
   },
   "file_extension": ".py",
   "mimetype": "text/x-python",
   "name": "python",
   "nbconvert_exporter": "python",
   "pygments_lexer": "ipython3",
   "version": "3.7.2"
  }
 },
 "nbformat": 4,
 "nbformat_minor": 2
}
